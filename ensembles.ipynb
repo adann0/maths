{
 "cells": [
  {
   "cell_type": "markdown",
   "id": "ea74bb0e-3efe-44ad-ad11-61e524ed77b8",
   "metadata": {},
   "source": [
    "# Théorie des ensembles\n",
    "\n",
    "## Algèbre booléenne\n",
    "\n",
    "### Expressions booléennes\n",
    "\n",
    "Une **expression booléenne** correspond à un regroupement d'affirmations. \n",
    "\n",
    "On désigne par le terme **expression booléenne atomique** une expression booléenne contenant une seule affirmation. \n",
    "\n",
    "Une affirmation est une phrase, généralement de la forme \"sujet-verbe-complément\", à laquelle il est possible d'attribuer une **valeur de vérité**.\n",
    "\n",
    "#### Expressions booléennes atomiques\n",
    "\n",
    "Par exemple, les affirmationss suivantes peuvent être considérées comme des expressions booléennes atomiques :\n",
    "\n",
    "- Cinq est un nombre impair.\n",
    "- Dix est plus petit que sept.\n",
    "\n",
    "La première affirmation est vraie tandis que la seconde affirmation est fausse.\n",
    "\n",
    "On peut aussi exprimer des expressions booléennes par des formules mathématiques. Par exemple :\n",
    "\n",
    "- 5 + 5 + 5 = 3 * 5\n",
    "- 10 < 7\n",
    "\n",
    "Dans ce dernier exemple, la première expression est toujours vraie et la deuxième est toujours fausse.\n",
    "\n",
    "On peut le constater en Python.\n"
   ]
  },
  {
   "cell_type": "code",
   "execution_count": 7,
   "id": "91935693-a821-4b6a-acd2-247aa3423426",
   "metadata": {},
   "outputs": [
    {
     "data": {
      "text/plain": [
       "True"
      ]
     },
     "execution_count": 7,
     "metadata": {},
     "output_type": "execute_result"
    }
   ],
   "source": [
    "5 + 5 + 5 == 3 * 5"
   ]
  },
  {
   "cell_type": "code",
   "execution_count": 8,
   "id": "ef854163-b809-4509-8aff-d54811a9a8a0",
   "metadata": {
    "collapsed": true,
    "jupyter": {
     "outputs_hidden": true
    },
    "tags": []
   },
   "outputs": [
    {
     "data": {
      "text/plain": [
       "False"
      ]
     },
     "execution_count": 8,
     "metadata": {},
     "output_type": "execute_result"
    }
   ],
   "source": [
    "10 < 7"
   ]
  },
  {
   "cell_type": "markdown",
   "id": "d68bcb52-38f2-4366-9cff-df3b1c81e929",
   "metadata": {
    "tags": []
   },
   "source": [
    "Certaines expressions booléennes changent de valeur de vérité dépendament du contexte dans lequel elles sont évaluées. Par exemple :\n",
    "\n",
    "- La capitale de ma province est la ville de Québec.\n",
    "- x < 7\n",
    "\n",
    "#### Expressions booléennes complexes\n",
    "\n",
    "Nous effectuons de telles combinaisons dans nos conversations de tous les jours, notamment à l'aide des mots \"et\", \"ou\" et \"si... alors...\". Par exemple :\n",
    "\n",
    "- J'habite à Chicoutimi et la capitale de ma province est la ville de Québec.\n",
    "- Si j'habite à chicoutimi, alors la capitale de ma province est la ville de Québec.\n",
    "- Mon prénom contient la lettre P ou mon prénom contient la lettre S.\n",
    "\n",
    "Pour vérifier la véracité de ces expressions booléennes, il suffit d'évaluer séparement la véracité de chacune des expressions booléennes atomiques les constituant.\n",
    "\n",
    "### Opérateurs booléens et table de vérité\n",
    "\n",
    "#### Les trois opérateurs booléens de base\n",
    "\n",
    "Afin de définir les trois premiers opérateurs booléens, nous avons recours à des tables de vérité, qui associent à chaque combinaison de valeur booléennes le résultat de l'évaluation de l'expression formée par l'opérateur.\n",
    "\n",
    "- L'opérateur négation \"¬\" (!), correspond a \"not\" en Python.\n",
    "- L'opérateur de conjonction \"∧\" (&), correspond au \"and\" en Python.\n",
    "- L'opérateur de disjonction \"∨\" (|), correspond au \"or\" en Python.\n",
    "\n",
    "Les tables de vérité ci-dessous indiquent le résultat de l'évaluation de la négation, de la conjonction et de la disjonction :\n",
    "\n",
    "- Négation\n",
    "\n",
    "Comme un \"not\" Python, on inverse la valeur de vérité de la valeur booléenne.\n",
    "\n",
    "| p | ¬p|\n",
    "|---|:-:|\n",
    "| 1 | 0 |\n",
    "| 0 | 1 |\n"
   ]
  },
  {
   "cell_type": "code",
   "execution_count": 9,
   "id": "89eec345-f5e7-42c4-b3cc-fb65178606eb",
   "metadata": {},
   "outputs": [
    {
     "data": {
      "text/plain": [
       "False"
      ]
     },
     "execution_count": 9,
     "metadata": {},
     "output_type": "execute_result"
    }
   ],
   "source": [
    "not True"
   ]
  },
  {
   "cell_type": "code",
   "execution_count": 10,
   "id": "01fef6f2-b740-47a3-8d8d-3ee6e30371d1",
   "metadata": {},
   "outputs": [
    {
     "data": {
      "text/plain": [
       "True"
      ]
     },
     "execution_count": 10,
     "metadata": {},
     "output_type": "execute_result"
    }
   ],
   "source": [
    "not False"
   ]
  },
  {
   "cell_type": "markdown",
   "id": "aa11cd78-efd6-418e-ae5d-f491b9fe5806",
   "metadata": {},
   "source": [
    "- Conjonction\n",
    "\n",
    "Comme un \"and\" en Python, ce n'est vrai que si les deux valeurs booléenne sont vraies.\n",
    "\n",
    "Par exemple : \"Si demain il fait beau et que je suis en forme, alors j'irais à la plage\". Je vais a la plage uniquement si il fait beau **et** que je suis en forme.\n",
    "\n",
    "En Python on pourrait dire `if fait_beau() and en_forme(): go_to_plage()` ; il faudrait que les deux fonctions renvoient True pour que la condition soit validée.\n",
    "\n",
    "| p q | p ∧ q |\n",
    "|-----|:-----:|\n",
    "| 1 1 | 1     |\n",
    "| 1 0 | 0     |\n",
    "| 0 1 | 0     |\n",
    "| 0 0 | 0     |\n"
   ]
  },
  {
   "cell_type": "code",
   "execution_count": 11,
   "id": "4c12d059-6e06-4908-87df-04e4415065cb",
   "metadata": {},
   "outputs": [
    {
     "data": {
      "text/plain": [
       "True"
      ]
     },
     "execution_count": 11,
     "metadata": {},
     "output_type": "execute_result"
    }
   ],
   "source": [
    "True and True"
   ]
  },
  {
   "cell_type": "code",
   "execution_count": 12,
   "id": "5743ffd7-8d9b-49a8-9906-8b497d0780f3",
   "metadata": {},
   "outputs": [
    {
     "data": {
      "text/plain": [
       "False"
      ]
     },
     "execution_count": 12,
     "metadata": {},
     "output_type": "execute_result"
    }
   ],
   "source": [
    "True and False"
   ]
  },
  {
   "cell_type": "code",
   "execution_count": 13,
   "id": "1cea1d8c-4f23-4fac-a6ad-3be3f6a7cad8",
   "metadata": {},
   "outputs": [
    {
     "data": {
      "text/plain": [
       "False"
      ]
     },
     "execution_count": 13,
     "metadata": {},
     "output_type": "execute_result"
    }
   ],
   "source": [
    "False and True"
   ]
  },
  {
   "cell_type": "code",
   "execution_count": 14,
   "id": "ce5d71c7-ecf0-4995-bd45-8286399cbb75",
   "metadata": {},
   "outputs": [
    {
     "data": {
      "text/plain": [
       "False"
      ]
     },
     "execution_count": 14,
     "metadata": {},
     "output_type": "execute_result"
    }
   ],
   "source": [
    "False and False"
   ]
  },
  {
   "cell_type": "markdown",
   "id": "b14b207e-d917-4493-a18f-b4e75fab00bd",
   "metadata": {},
   "source": [
    "- Disjonction\n",
    "\n",
    "Comme un \"or\" en Python, c'est vrai que si une des deux valeurs est vrai.\n",
    "\n",
    "Par exemple \"Si demain il fait beau ou que je suis en forme, alors j'irais à la plage\". Je vais a la plage si il fait beau **ou** que je suis en forme (ou les deux).\n",
    "\n",
    "En Python on pourrait dire `if fait_beau() or en_forme(): go_to_plage()` ; il faudrait que une des deux fonctions renvoient True pour que la condition soit validée.\n",
    "\n",
    "| p q | p ∧ q |\n",
    "|-----|:-----:|\n",
    "| 1 1 | 1     |\n",
    "| 1 0 | 1     |\n",
    "| 0 1 | 1     |\n",
    "| 0 0 | 0     |"
   ]
  },
  {
   "cell_type": "code",
   "execution_count": 15,
   "id": "ab85c7ec-caa7-488a-94e6-20b0f0fecf2a",
   "metadata": {},
   "outputs": [
    {
     "data": {
      "text/plain": [
       "True"
      ]
     },
     "execution_count": 15,
     "metadata": {},
     "output_type": "execute_result"
    }
   ],
   "source": [
    "True or True"
   ]
  },
  {
   "cell_type": "code",
   "execution_count": 16,
   "id": "9a5fd130-27c7-4e01-bc49-42b1524baf55",
   "metadata": {},
   "outputs": [
    {
     "data": {
      "text/plain": [
       "True"
      ]
     },
     "execution_count": 16,
     "metadata": {},
     "output_type": "execute_result"
    }
   ],
   "source": [
    "True or False"
   ]
  },
  {
   "cell_type": "code",
   "execution_count": 17,
   "id": "43779e14-edd7-4352-993d-0b94a554ba39",
   "metadata": {},
   "outputs": [
    {
     "data": {
      "text/plain": [
       "True"
      ]
     },
     "execution_count": 17,
     "metadata": {},
     "output_type": "execute_result"
    }
   ],
   "source": [
    "False or True"
   ]
  },
  {
   "cell_type": "code",
   "execution_count": 18,
   "id": "e2e439a9-eb44-4605-aa0b-0cb3e3d067be",
   "metadata": {},
   "outputs": [
    {
     "data": {
      "text/plain": [
       "False"
      ]
     },
     "execution_count": 18,
     "metadata": {},
     "output_type": "execute_result"
    }
   ],
   "source": [
    "False or False"
   ]
  },
  {
   "cell_type": "markdown",
   "id": "0a15a837-15de-457e-9a78-216c77af78cb",
   "metadata": {
    "tags": []
   },
   "source": [
    "### Les opérateurs d'implication\n",
    "\n",
    "La logique booléenne repose entièrement sur les trois opérateurs vu précedement. Ils permettent de définir les trois derniers opérateurs booléens que nous verrons ci-dessous.\n",
    "\n",
    "- L'opérateur d'implication \"⇒\", correspond a \"not x or y\" en Python.\n",
    "- L'opérateur d'implication inverse \"⇐\", correspond a \"x or not y\" en Python.\n",
    "- L'opérateur si et seulement si \"⇔\", correspond au \"ou\" du français.\n",
    "\n",
    "- Implication (Si... alors...)\n",
    "\n",
    "Comme un \"not x or y\" en Python : il faut inverser la première valeure booléenne puis faire une disjonction (un \"or\") entre les deux valeurs booléennes.\n",
    "\n",
    "Par exemple, \"Si je n'ai pas plus de 18 ans (si j'ai moins de 18 ans) (ou) que je suis Etudiant (alors) j'ai droit à une reduction\".\n",
    "\n",
    "- Si j'ai plus de 18 ans et que je suis Etudiant : j'ai droit à une reduction.\n",
    "- Si j'ai plus de 18 ans et que je ne suis pas Etudiant : je n'ai pas droit à une reduction.\n",
    "- Si j'ai moins de 18 ans et que je suis Etudiant : j'ai droit à une reduction.\n",
    "- Si j'ai moins de 18 ans et que je ne suis pas Etudiant : je n'ai pas droit à une reduction.\n",
    "\n",
    "En Python on pourrait dire :\n",
    "    \n",
    "    age = p\n",
    "    is_student = q\n",
    "    \n",
    "    if not age >= 18 or is_student :\n",
    "        print(\"Eligible à une reduction (True)\")\n",
    "    else :\n",
    "        print(\"Non eligible à une reduction (False)\")\n",
    "\n",
    "L'implication s'écrit de la manière suivante :\n",
    "\n",
    "    p ⇒ q = ¬p ∨ q \n",
    "\n",
    "| p q | p ⇒ q |\n",
    "|-----|:-----:|\n",
    "| 1 1 | 1     |\n",
    "| 1 0 | 0     |\n",
    "| 0 1 | 1     |\n",
    "| 0 0 | 1     |\n"
   ]
  },
  {
   "cell_type": "code",
   "execution_count": 19,
   "id": "79d58b22-674b-4238-b890-681adf6494b2",
   "metadata": {},
   "outputs": [
    {
     "name": "stdout",
     "output_type": "stream",
     "text": [
      "Eligible à une reduction (True)\n"
     ]
    }
   ],
   "source": [
    "not True or True # False or True == True\n",
    "\n",
    "age = 25\n",
    "is_student = True\n",
    "    \n",
    "if not age >= 18 or is_student :\n",
    "    print(\"Eligible à une reduction (True)\")\n",
    "else :\n",
    "    print(\"Non eligible à une reduction (False)\")"
   ]
  },
  {
   "cell_type": "code",
   "execution_count": 20,
   "id": "7eeff6e6-4681-4d99-b549-e520105798c3",
   "metadata": {},
   "outputs": [
    {
     "name": "stdout",
     "output_type": "stream",
     "text": [
      "Non eligible à une reduction (False)\n"
     ]
    }
   ],
   "source": [
    "not True or False # False or False == False\n",
    "\n",
    "age = 25\n",
    "is_student = False\n",
    "    \n",
    "if not age >= 18 or is_student :\n",
    "    print(\"Eligible à une reduction (True)\")\n",
    "else :\n",
    "    print(\"Non eligible à une reduction (False)\")"
   ]
  },
  {
   "cell_type": "code",
   "execution_count": 21,
   "id": "bb235559-eb8f-4f76-9fea-3c157582fd4a",
   "metadata": {},
   "outputs": [
    {
     "name": "stdout",
     "output_type": "stream",
     "text": [
      "Eligible à une reduction (True)\n"
     ]
    }
   ],
   "source": [
    "not False or True # True or True == True\n",
    "\n",
    "age = 17\n",
    "is_student = True\n",
    "    \n",
    "if not age >= 18 or is_student :\n",
    "    print(\"Eligible à une reduction (True)\")\n",
    "else :\n",
    "    print(\"Non eligible à une reduction (False)\")"
   ]
  },
  {
   "cell_type": "code",
   "execution_count": 22,
   "id": "8cf907eb-dd2c-4cc7-8986-e538cd8c77d6",
   "metadata": {},
   "outputs": [
    {
     "name": "stdout",
     "output_type": "stream",
     "text": [
      "Eligible à une reduction (True)\n"
     ]
    }
   ],
   "source": [
    "not False or False # True or False == True\n",
    "\n",
    "age = 17\n",
    "is_student = False\n",
    "    \n",
    "if not age >= 18 or is_student :\n",
    "    print(\"Eligible à une reduction (True)\")\n",
    "else :\n",
    "    print(\"Non eligible à une reduction (False)\")"
   ]
  },
  {
   "cell_type": "markdown",
   "id": "cbcab3be-42f4-4541-9afd-b12f7e1c885e",
   "metadata": {},
   "source": [
    "- Implication inverse\n",
    "\n",
    "Comme un \"x or not y\" en Python : il faut inverser la seconde valeure booléenne puis faire une disjonction (un \"or\") entre les deux valeurs booléennes.\n",
    "\n",
    "Par exemple : \"Si j'ai pris un coup de soleil (ou) que je n'ai plus de crème solaire (alors) je dois rentrer à la maison\".\n",
    "\n",
    "- Si j'ai pris un coup de soleil et que je n'ai pas pris de crème : je rentre à la maison.\n",
    "- Si j'ai pris un coup de soleil et que j'ai pris de la crème : je rentre à la maison.\n",
    "- Si je n'ai pas pris de coup de soleil, et que j'ai pris de la crême : je ne rentre pas à la maison.\n",
    "- Si je n'ai pas pris de coup de soleil et que je n'ai pas pris de crême : je rentre à la maison.\n",
    "\n",
    "\n",
    "En Python on pourrait dire :\n",
    "    \n",
    "    coup_de_soleil = p\n",
    "    creme_solaire = q\n",
    "    \n",
    "    if coup_de_soleil or not creme_solaire :\n",
    "        print(\"Rentre à la maison (True)\")\n",
    "    else :\n",
    "        print(\"Reste à la plage (False)\")\n",
    "\n",
    "L'implication inverse s'écrit de la manière suivante :\n",
    "\n",
    "    p ⇐ q = q ∨ ¬p\n",
    "\n",
    "| p q | p ⇐ q |\n",
    "|-----|:-----:|\n",
    "| 1 1 | 1     |\n",
    "| 1 0 | 1     |\n",
    "| 0 1 | 0     |\n",
    "| 0 0 | 1     |\n"
   ]
  },
  {
   "cell_type": "code",
   "execution_count": 23,
   "id": "4c5ca9e7-d55e-4821-bf05-5a8841f1dc17",
   "metadata": {},
   "outputs": [
    {
     "name": "stdout",
     "output_type": "stream",
     "text": [
      "Rentre à la maison (True)\n"
     ]
    }
   ],
   "source": [
    "True or not True # True or False == True\n",
    "\n",
    "coup_de_soleil = True\n",
    "creme_solaire = True\n",
    "    \n",
    "if coup_de_soleil or not creme_solaire :\n",
    "    print(\"Rentre à la maison (True)\")\n",
    "else :\n",
    "    print(\"Reste à la plage (False)\")"
   ]
  },
  {
   "cell_type": "code",
   "execution_count": 24,
   "id": "8c71797a-0587-4298-a213-cbb9b15a29bf",
   "metadata": {},
   "outputs": [
    {
     "name": "stdout",
     "output_type": "stream",
     "text": [
      "Rentre à la maison (True)\n"
     ]
    }
   ],
   "source": [
    "True or not False # True or True == True\n",
    "\n",
    "coup_de_soleil = True\n",
    "creme_solaire = False\n",
    "    \n",
    "if coup_de_soleil or not creme_solaire :\n",
    "    print(\"Rentre à la maison (True)\")\n",
    "else :\n",
    "    print(\"Reste à la plage (False)\")"
   ]
  },
  {
   "cell_type": "code",
   "execution_count": 25,
   "id": "d93d44d6-9499-49fa-b186-48a3c56f9099",
   "metadata": {},
   "outputs": [
    {
     "name": "stdout",
     "output_type": "stream",
     "text": [
      "Reste à la plage (False)\n"
     ]
    }
   ],
   "source": [
    "False or not True # False or False == False\n",
    "\n",
    "coup_de_soleil = False\n",
    "creme_solaire = True\n",
    "    \n",
    "if coup_de_soleil or not creme_solaire :\n",
    "    print(\"Rentre à la maison (True)\")\n",
    "else :\n",
    "    print(\"Reste à la plage (False)\")"
   ]
  },
  {
   "cell_type": "code",
   "execution_count": 26,
   "id": "1ded53ba-d90e-4e31-b9ca-eff9bbeb60ca",
   "metadata": {},
   "outputs": [
    {
     "name": "stdout",
     "output_type": "stream",
     "text": [
      "Rentre à la maison (True)\n"
     ]
    }
   ],
   "source": [
    "False or not False # False or True == True\n",
    "\n",
    "coup_de_soleil = False\n",
    "creme_solaire = False\n",
    "    \n",
    "if coup_de_soleil or not creme_solaire :\n",
    "    print(\"Rentre à la maison (True)\")\n",
    "else :\n",
    "    print(\"Reste à la plage (False)\")"
   ]
  },
  {
   "cell_type": "markdown",
   "id": "c69faaa1-fe5b-480c-8a0f-f470a7781840",
   "metadata": {},
   "source": [
    "- Si et seulement si\n",
    "\n",
    "Retourne vrai que si les deux valeures booléennes sont \"vraies\" ou \"fausses\".\n",
    "\n",
    "Par exemple \"Je mange de la viande si et seulement si je ne suis pas végétarien\".\n",
    "\n",
    "- Si je mange de la viande et que je ne suis pas végétarien : la proposition est vraie.\n",
    "- Si je mange de la viande et que je suis végétarien : la proposition est fausse.\n",
    "- Si je ne mange pas de viande et que je ne suis pas végétarien : la proposition est fausse.\n",
    "- Si je ne mange pas de viande et que je suis végétarien : la proposition est vraie.\n",
    "\n",
    "En Python on pourrait dire :\n",
    "    \n",
    "    mange_viande = p\n",
    "    vegetarien = q\n",
    "    \n",
    "    if (not mange_viande or vegetarien) and (not vegetarien or mange_viande) :\n",
    "        print(\"La proposition est vraie (True)\")\n",
    "    else :\n",
    "        print(\"La proposition est fausse (False)\")\n",
    "\n",
    "Plus simplement, on peut faire :\n",
    "\n",
    "    if mange_viande == vegetarien :\n",
    "        print(\"La proposition est vraie (True)\")\n",
    "    else :\n",
    "        print(\"La proposition est fausse (False)\")\n",
    "\n",
    "\"Si et seulement si\" s'écrit de la manière suivante :\n",
    "\n",
    "    p ⇒ q = (p ⇒ q) ∧ (q ⇒ p)\n",
    "\n",
    "| p q | p ⇔ q |\n",
    "|-----|:-----:|\n",
    "| 1 1 | 1     |\n",
    "| 1 0 | 0     |\n",
    "| 0 1 | 0     |\n",
    "| 0 0 | 1     |"
   ]
  },
  {
   "cell_type": "code",
   "execution_count": 31,
   "id": "08692758-528c-47fa-881f-a7116a02f964",
   "metadata": {},
   "outputs": [
    {
     "name": "stdout",
     "output_type": "stream",
     "text": [
      "La proposition est vraie (True)\n"
     ]
    }
   ],
   "source": [
    "(not True or True) and (not True or True)\n",
    "# (False or True) and (False or True)\n",
    "# (False) and (False)\n",
    "\n",
    "mange_viande = True\n",
    "vegetarien = True\n",
    "    \n",
    "if mange_viande == vegetarien :\n",
    "    print(\"La proposition est vraie (True)\")\n",
    "else :\n",
    "    print(\"La proposition est fausse (False)\")"
   ]
  },
  {
   "cell_type": "code",
   "execution_count": 32,
   "id": "16a14b99-0b1e-432b-8c73-7c4aeb36519b",
   "metadata": {},
   "outputs": [
    {
     "name": "stdout",
     "output_type": "stream",
     "text": [
      "La proposition est fausse (False)\n"
     ]
    }
   ],
   "source": [
    "(not True or False) and (not False or True)\n",
    "# (False or False) and (True or True)\n",
    "# (False) and (True)\n",
    "\n",
    "mange_viande = True\n",
    "vegetarien = False\n",
    "    \n",
    "if mange_viande == vegetarien :\n",
    "    print(\"La proposition est vraie (True)\")\n",
    "else :\n",
    "    print(\"La proposition est fausse (False)\")"
   ]
  },
  {
   "cell_type": "code",
   "execution_count": 33,
   "id": "a17d5d3e-05d2-4df0-9463-03fd7372857b",
   "metadata": {},
   "outputs": [
    {
     "name": "stdout",
     "output_type": "stream",
     "text": [
      "La proposition est fausse (False)\n"
     ]
    }
   ],
   "source": [
    "(not False or True) and (not True or False)\n",
    "# (True or True) and (False or False)\n",
    "# (True) and (False)\n",
    "\n",
    "mange_viande = False\n",
    "vegetarien = True\n",
    "    \n",
    "if mange_viande == vegetarien :\n",
    "    print(\"La proposition est vraie (True)\")\n",
    "else :\n",
    "    print(\"La proposition est fausse (False)\")"
   ]
  },
  {
   "cell_type": "code",
   "execution_count": 34,
   "id": "5b9bb51f-bd74-401a-9b21-719148185b1d",
   "metadata": {},
   "outputs": [
    {
     "name": "stdout",
     "output_type": "stream",
     "text": [
      "La proposition est vraie (True)\n"
     ]
    }
   ],
   "source": [
    "(not False or False) and (not False or False)\n",
    "# (True or False) and (True or False)\n",
    "# (False) and (False)\n",
    "\n",
    "mange_viande = False\n",
    "vegetarien = False\n",
    "    \n",
    "if mange_viande == vegetarien :\n",
    "    print(\"La proposition est vraie (True)\")\n",
    "else :\n",
    "    print(\"La proposition est fausse (False)\")"
   ]
  },
  {
   "cell_type": "code",
   "execution_count": null,
   "id": "86a1a0e6-bc01-42bb-a831-489a20129275",
   "metadata": {},
   "outputs": [],
   "source": []
  }
 ],
 "metadata": {
  "kernelspec": {
   "display_name": "Python 3 (ipykernel)",
   "language": "python",
   "name": "python3"
  },
  "language_info": {
   "codemirror_mode": {
    "name": "ipython",
    "version": 3
   },
   "file_extension": ".py",
   "mimetype": "text/x-python",
   "name": "python",
   "nbconvert_exporter": "python",
   "pygments_lexer": "ipython3",
   "version": "3.8.15"
  }
 },
 "nbformat": 4,
 "nbformat_minor": 5
}
