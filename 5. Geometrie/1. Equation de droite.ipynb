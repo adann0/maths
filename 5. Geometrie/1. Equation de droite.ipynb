{
 "cells": [
  {
   "cell_type": "markdown",
   "id": "e22cdfaa-4a7b-4fd7-b884-4f8561678843",
   "metadata": {},
   "source": [
    "# Equation de droite\n",
    "\n",
    "## Equation cartésienne\n",
    "\n",
    "**Equation cartésienne** d'une droite : $ax + by + c = 0$.\n",
    "\n"
   ]
  },
  {
   "cell_type": "code",
   "execution_count": null,
   "id": "555ee359-5c3c-4752-918d-da8ddea72a02",
   "metadata": {},
   "outputs": [],
   "source": []
  }
 ],
 "metadata": {
  "kernelspec": {
   "display_name": "Python 3 (ipykernel)",
   "language": "python",
   "name": "python3"
  },
  "language_info": {
   "codemirror_mode": {
    "name": "ipython",
    "version": 3
   },
   "file_extension": ".py",
   "mimetype": "text/x-python",
   "name": "python",
   "nbconvert_exporter": "python",
   "pygments_lexer": "ipython3",
   "version": "3.8.15"
  }
 },
 "nbformat": 4,
 "nbformat_minor": 5
}
