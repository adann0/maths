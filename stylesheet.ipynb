{
 "cells": [
  {
   "cell_type": "markdown",
   "id": "aef34a4a-4c76-408b-b7f8-24ac3de75019",
   "metadata": {},
   "source": [
    "# Stylesheet\n",
    "\n",
    "## Théorème de Pythagore\n",
    "\n",
    "<p>Voici du texte en <span style=\"color: #58a6ff;\">bleu</span>.</p>\n",
    "<p>Voici du texte en <span style=\"color: #ff4d4d;\">rouge</span>.</p>\n",
    "<p>Voici du texte en <span style=\"color: #3cb371;\">vert</span>.</p>\n",
    "<p>Voici du texte en <span style=\"color: #ffff99;\">jaune</span>.</p>\n",
    "\n",
    "<div style=\"margin-left: 28px; border: 1px solid white; padding: 14px; display: inline-block;\">\n",
    "    <p><b>Théorème de Pythagore</b> — Si un triangle ABC est rectangle en C, alors :</p>\n",
    "    <p style=\"text-align: center; font-size: 1.2em; margin: 0;\">\n",
    "        $AB^2 = AC^2 + BC^2$\n",
    "    </p>\n",
    "</div>\n"
   ]
  },
  {
   "cell_type": "code",
   "execution_count": null,
   "id": "1f1f9fef-5457-4f88-9f1a-00f52d141296",
   "metadata": {},
   "outputs": [],
   "source": []
  },
  {
   "cell_type": "code",
   "execution_count": null,
   "id": "6693f98d-8d9c-444d-aa3a-16c57b44387c",
   "metadata": {},
   "outputs": [],
   "source": []
  }
 ],
 "metadata": {
  "kernelspec": {
   "display_name": "Python 3 (ipykernel)",
   "language": "python",
   "name": "python3"
  },
  "language_info": {
   "codemirror_mode": {
    "name": "ipython",
    "version": 3
   },
   "file_extension": ".py",
   "mimetype": "text/x-python",
   "name": "python",
   "nbconvert_exporter": "python",
   "pygments_lexer": "ipython3",
   "version": "3.8.15"
  }
 },
 "nbformat": 4,
 "nbformat_minor": 5
}
