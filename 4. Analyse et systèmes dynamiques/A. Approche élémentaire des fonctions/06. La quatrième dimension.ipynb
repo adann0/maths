{
 "cells": [
  {
   "cell_type": "markdown",
   "id": "08f95170-7f27-41c3-b555-66fdfea03944",
   "metadata": {},
   "source": [
    "# La quatrième dimension\n",
    "\n",
    "https://www.youtube.com/watch?v=LQFkUjYzOn8\n",
    "\n",
    "Les différentes dimensions peuvent être représentés de différentes manières. Nous vivons dans un espace en 3 dimensions. \n",
    "\n",
    "- Un espace 1 dimension consiste en une ligne droite, ou l'on pourrait uniquement avancer ou reculer (de droite a gauche).\n",
    "- Un espace en deux dimensions represente un espace ou l'on pourrait aller de droite a gauche, et de haut en bas. Comme sur un graph d'une fonction.\n",
    "- Un espace en trois dimensions ajoute la profondeur. On peut en effet avancer ou reculer.\n",
    "\n",
    "Etant donné que nous vivons dans un espace en 3 dimensions, il est difficile de représenter plus de dimensions.\n",
    "\n",
    "Cependant, des outils existent pour representer \"plus\" de dimensions :\n",
    "\n",
    "- Le temps (dans une video)\n",
    "- Les couleurs (du rouge au violet)\n",
    "\n",
    "On appel ana et kata les 2 prochaines \"directions\" qui seront découvertes avec la 4eme dimension.\n",
    "\n",
    "On a l'habitude de voir les patrons de cubes 3D :\n",
    "\n",
    "![Patron d'un Cube 3D](https://upload.wikimedia.org/wikipedia/commons/3/31/Cubo_desarrollo.gif)\n",
    "\n",
    "Voici le patron d'un cube 4D (appelé hypercube) :\n",
    "\n",
    "![Patron d'un Cube 4D](https://upload.wikimedia.org/wikipedia/commons/e/ef/Net_of_tesseract.gif)\n",
    "\n",
    "Un hypercube est composé de 8 cubes."
   ]
  },
  {
   "cell_type": "code",
   "execution_count": null,
   "id": "c9fde72c-9a72-423c-a57a-c0cdf0593a25",
   "metadata": {},
   "outputs": [],
   "source": []
  }
 ],
 "metadata": {
  "kernelspec": {
   "display_name": "Python 3 (ipykernel)",
   "language": "python",
   "name": "python3"
  },
  "language_info": {
   "codemirror_mode": {
    "name": "ipython",
    "version": 3
   },
   "file_extension": ".py",
   "mimetype": "text/x-python",
   "name": "python",
   "nbconvert_exporter": "python",
   "pygments_lexer": "ipython3",
   "version": "3.8.15"
  }
 },
 "nbformat": 4,
 "nbformat_minor": 5
}
