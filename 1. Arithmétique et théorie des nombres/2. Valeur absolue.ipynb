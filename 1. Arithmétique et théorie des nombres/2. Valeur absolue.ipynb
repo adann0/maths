{
 "cells": [
  {
   "cell_type": "markdown",
   "id": "c1eb80ce-9f07-4a71-b308-efe48210d964",
   "metadata": {},
   "source": [
    "# Valeur absolue\n",
    "\n",
    "La **valeur absolue** d'un nombre réel est sa valeur numérique considérée sans tenir compte de son signe.\n",
    "\n",
    "Par exemple, la valeur absolue de –4 est 4, et celle de +4 est 4. La valeur absolue se note par des barres verticales : ainsi, on écrit : |–4| = |+4| = 4. En programmation informatique, l'identificateur utilisé pour désigner la valeur absolue est usuellement `abs`.\n",
    "\n",
    "## Définition\n",
    "\n",
    "Pour tout nombre réel $x$, la **valeur absolue** de $x$ (notée $|x|$) est définie par :\n",
    "\n",
    "\\begin{equation}\n",
    "{\\displaystyle |x|=x,\\,{\\text{ si }}\\,x>0} \\\\\n",
    "{\\displaystyle |x|=-x,\\,{\\text{ si }}\\,x<0} \\\\\n",
    "{\\displaystyle |x|=0,\\,{\\text{ si }}\\,x=0}\n",
    "\\end{equation}\n",
    "\n",
    "Nous remarquons que $|x|=\\max(x,-x)$. "
   ]
  },
  {
   "cell_type": "code",
   "execution_count": null,
   "id": "133894c6-c108-4b3b-847a-cf6dfa271c4b",
   "metadata": {},
   "outputs": [],
   "source": []
  }
 ],
 "metadata": {
  "kernelspec": {
   "display_name": "Python 3 (ipykernel)",
   "language": "python",
   "name": "python3"
  },
  "language_info": {
   "codemirror_mode": {
    "name": "ipython",
    "version": 3
   },
   "file_extension": ".py",
   "mimetype": "text/x-python",
   "name": "python",
   "nbconvert_exporter": "python",
   "pygments_lexer": "ipython3",
   "version": "3.8.15"
  }
 },
 "nbformat": 4,
 "nbformat_minor": 5
}
