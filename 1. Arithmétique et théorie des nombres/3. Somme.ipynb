{
 "cells": [
  {
   "cell_type": "markdown",
   "id": "f2ca6244-8a6a-4409-98ba-51d7e15a9cab",
   "metadata": {},
   "source": [
    "# Somme\n",
    "\n",
    "En mathématiques, la **somme** de deux nombres est le résultat de leur addition. Les éléments additionnés s’appellent les termes de la somme.\n",
    "\n",
    "## Notation\n",
    "\n",
    "La notation mathématique utilise un symbole qui représente la somme d'une suite de termes : **Σ**. Celui-ci est défini comme suit :\n",
    "\n",
    "\\begin{equation}\n",
    "{\\displaystyle \\sum _{i\\mathop {=} m}^{n}a_{i}=a_{m}+a_{m+1}+a_{m+2}+\\cdots +a_{n-1}+a_{n}}\n",
    "\\end{equation}\n",
    "\n",
    "où $i$ représente l'**indice de sommation** ; $a_i$ est une variable indexée représentant chaque nombre successif de la série ; $m$ est la **limite inférieure de sommation**, et $n$ est la **limite supérieure de sommation**. Le « $i = m$ » sous le symbole de sommation signifie que l'indice $i$ débute avec la valeur $m$. L'indice, $i$, est incrémenté de _1_ à chaque itération, et s'arrêtant quand $i = n$.\n",
    "\n",
    "Voici un exemple montrant une somme de carrés :\n",
    "\n",
    "- ${\\displaystyle \\sum _{i\\mathop {=} 3}^{6}i^{2}=3^{2}+4^{2}+5^{2}+6^{2}=86.}$\n",
    "\n",
    "## Somme des premiers entiers\n",
    "\n",
    "Pour tout entier n, la somme des entiers de 1 à n vaut :\n",
    "\n",
    "\\begin{equation}\n",
    "{\\displaystyle S=1+2+3+\\cdots +(n-1)+n=\\sum _{i=1}^{n}i={\\frac {n(n+1)}{2}}.}\n",
    "\\end{equation}\n",
    "\n",
    "## Somme des premiers entiers impairs\n",
    "\n",
    "Pour tout entier n supérieur à 1, la somme des n premiers impairs vaut n² :\n",
    "\n",
    "\\begin{equation}\n",
    "{\\displaystyle S=1+3+5+\\cdots +(2n-1)=\\sum _{i=1}^{n}(2i-1)=n^{2}.}\n",
    "\\end{equation}\n",
    "\n",
    "Exemples :\n",
    "\n",
    "- $1=1²$,\n",
    "- $1+3=2²$,\n",
    "- $1+3+5=3²$, etc.\n",
    "\n",
    "Il s'agit d'un cas particulier de somme de termes d'une suite arithmétique. Ici c'est la suite arithmétique de raison 2 et de premier terme 1 dont on calcule la somme des _n_ premiers termes.\n",
    "\n",
    "## Somme des premières puissances\n",
    "\n",
    "Pour tout entier n, la somme des n premiers carrés d'entiers vérifie l'identité :\n",
    "\n",
    "\\begin{equation}\n",
    "{\\displaystyle \\sum _{k=1}^{n}k^{2}={\\frac {n(2n+1)(n+1)}{6}}.}\n",
    "\\end{equation}\n"
   ]
  }
 ],
 "metadata": {
  "kernelspec": {
   "display_name": "Python 3 (ipykernel)",
   "language": "python",
   "name": "python3"
  },
  "language_info": {
   "codemirror_mode": {
    "name": "ipython",
    "version": 3
   },
   "file_extension": ".py",
   "mimetype": "text/x-python",
   "name": "python",
   "nbconvert_exporter": "python",
   "pygments_lexer": "ipython3",
   "version": "3.8.15"
  }
 },
 "nbformat": 4,
 "nbformat_minor": 5
}
