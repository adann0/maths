{
 "cells": [
  {
   "cell_type": "markdown",
   "id": "ac83d9ad-b733-41ea-8fb9-fee0b87fc0ce",
   "metadata": {},
   "source": [
    "# Les ensembles de nombres\n",
    "\n",
    "- $\\mathbb{R}$ **Les nombres entiers naturels** : nombre permettant de compter des objets considérés comme des unités équivalentes : un jeton, deux jetons… une carte, deux cartes, trois cartes… Un tel nombre entier peut s'écrire avec une suite finie de chiffres en notation décimale positionnelle (sans signe et sans virgule)  (0, 1, 2, 3, 4, 5, 6, ...)\n",
    "- $\\mathbb{Z}$ **Les nombres entiers relatifs** : nombre qui se présente comme un entier naturel auquel on a adjoint un signe positif ou négatif indiquant sa position (..., -4, -3, -2, -1, 0, 1, 2, 3, 4, ...)\n",
    "- $\\mathbb{D}$ : **Les nombres décimaux** : nombre qui peut s’écrire exactement avec un nombre fini de chiffres après la virgule (..., -3.12, ..., 3/4, ...)\n",
    "- $\\mathbb{Q}$ : **Les nombres rationnels** : nombre qui peut s'exprimer comme le quotient de deux entiers relatifs (..., -0.6363..., ..., 0.3333..., ...) (π a priori, n'est pas un nombre rationnel alors que 1/3 et -0.3333 sont des nombres rationnels).\n",
    "- $\\mathbb{R}$ : **Les nombres réels** : nombre qui peut être représenté par une partie entière et une liste finie ou infinie de décimales. Cette définition s'applique donc aux nombres rationnels, dont les décimales se répètent de façon \"logique et lisible\" (comme 0.3333, on comprend bien qu'il s'agit d'une infinité de 3 après la virgule) ; mais aussi à d'autres nombres dits irrationnels, tels que la racine carrée de 2, π et e (qui contrairement aux nombres rationnels n'ont aucune suite logique après leur virgule). \n",
    "- $\\mathbb{C}$ : **Les nombres complexes**.\n",
    "\n",
    "![Position de l'ensemble des décimaux 𝔻 par rapport à l'ensemble des entiers relatifs ℤ et à l'ensemble des rationnels ℚ.](https://upload.wikimedia.org/wikipedia/commons/thumb/0/07/NumberSetinR.svg/390px-NumberSetinR.svg.png)\n",
    "\n",
    "## Source\n",
    "\n",
    "- https://www.youtube.com/watch?v=kL-eMNZiARM&list=PLVUDmbpupCap7h5ThFaAvjh44E0gUa9Xu\n",
    "- Wikipedia"
   ]
  },
  {
   "cell_type": "code",
   "execution_count": null,
   "id": "a679bbea-c9c7-4317-81a5-fcb309fb042a",
   "metadata": {},
   "outputs": [],
   "source": []
  }
 ],
 "metadata": {
  "kernelspec": {
   "display_name": "Python 3 (ipykernel)",
   "language": "python",
   "name": "python3"
  },
  "language_info": {
   "codemirror_mode": {
    "name": "ipython",
    "version": 3
   },
   "file_extension": ".py",
   "mimetype": "text/x-python",
   "name": "python",
   "nbconvert_exporter": "python",
   "pygments_lexer": "ipython3",
   "version": "3.8.15"
  }
 },
 "nbformat": 4,
 "nbformat_minor": 5
}
