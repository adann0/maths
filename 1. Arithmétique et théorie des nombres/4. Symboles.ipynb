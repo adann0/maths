{
 "cells": [
  {
   "cell_type": "markdown",
   "id": "00d511bf-61af-40f2-babc-3102dab9458f",
   "metadata": {},
   "source": [
    "# Table de symboles mathématiques\n",
    "\n",
    "## Anses\n",
    "\n",
    "| Nom                 | Unicode | Usages         |\n",
    "|:-------------------:|:-------:|:---------------|\n",
    "| intersection        | ∩       | intersection   | \n",
    "| union               | ∪       | réunion        |\n",
    "| appartient à        | ∈       | appartenance   |\n",
    "| n'appartient pas à  | ∉       | appartenance   |\n",
    "\n",
    "## Ondulations\n",
    "\n",
    "| Nom                 | Unicode | Usages         |\n",
    "|:-------------------:|:-------:|:---------------|\n",
    "| signe intégral      | ∫       | intégrale      | \n",
    "\n",
    "## Chevrons\n",
    "\n",
    "| Nom                 | Unicode | Usages                                 |\n",
    "|:-------------------:|:-------:|:---------------------------------------|\n",
    "| ET logique          | ∧       | conjonction logique                    | \n",
    "| OU logique          | ∨       | conjonction logique                    | \n",
    "| pour tout           | ∀       | quantificateur universel « pour tout » | \n",
    "\n",
    "\n",
    "## Croisements\n",
    "\n",
    "| Nom                 | Unicode | Usages                     |\n",
    "|:-------------------:|:-------:|:---------------------------|\n",
    "| symbole somme       | ∑       | somme                      | \n",
    "| il existe           | ∃       | quantificateur d'existence |"
   ]
  },
  {
   "cell_type": "code",
   "execution_count": null,
   "id": "b6b6963b-68f4-4d69-a53d-6fcc7a3dfb99",
   "metadata": {},
   "outputs": [],
   "source": []
  }
 ],
 "metadata": {
  "kernelspec": {
   "display_name": "Python 3 (ipykernel)",
   "language": "python",
   "name": "python3"
  },
  "language_info": {
   "codemirror_mode": {
    "name": "ipython",
    "version": 3
   },
   "file_extension": ".py",
   "mimetype": "text/x-python",
   "name": "python",
   "nbconvert_exporter": "python",
   "pygments_lexer": "ipython3",
   "version": "3.8.15"
  }
 },
 "nbformat": 4,
 "nbformat_minor": 5
}
