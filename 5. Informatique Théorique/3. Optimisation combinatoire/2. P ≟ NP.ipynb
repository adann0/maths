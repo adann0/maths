{
 "cells": [
  {
   "cell_type": "markdown",
   "id": "5db1021d-c7d4-40a2-8d7c-86ec6ae2ab90",
   "metadata": {},
   "source": [
    "# P ≟ NP\n",
    "\n",
    "Très schématiquement, il s'agit de déterminer si le fait de pouvoir vérifier rapidement une solution à un problème implique de pouvoir la trouver rapidement.\n",
    "\n",
    "Par exemple, considérons le problème de décision du voyageur de commerce qui, étant donné un entier $k$ et un ensemble de villes séparées par des distances, détermine s'il existe un circuit de longueur inférieure à $k$ qui passe une et une seule fois par toutes les villes. \n",
    "\n",
    "Si $P = NP$, ça voudrait dire que verifier la solution (verifier si un chemin est bien inferieur à k et passe par toutes les villes) (P) implique de pouvoir rapidement trouver ce chemin (NP). Si $P \\neq NP$, ça voudrait dire qu'il est impossible de trouver une solution \"rapide\" à ce problème.\n",
    "\n",
    "## Lower\n",
    "\n",
    "Commençons par un problème simple, on cherche à récuperer le plus petit nombre parmis une liste de nombre.\n",
    "\n",
    "Il suffit de commencer par initialiser une variable result (avec par exemple, le premier nombre de la liste). Puis d'iterer sur chaque nombre de la liste, en le comparant avec la variable result. Si le nombre est plus petit que celui contenu dans la variable, on met a jour le contenu de la variable par le nombre. A la fin, on retourne le nombre le plus petit que l'on a trouvé."
   ]
  },
  {
   "cell_type": "code",
   "execution_count": null,
   "id": "c82c55fa-c424-466c-a3e8-d587f22bb66f",
   "metadata": {},
   "outputs": [],
   "source": [
    "def lower(L :list) -> int:\n",
    "    result = L[0]\n",
    "    for i in L :\n",
    "        if i < result :\n",
    "            result = i\n",
    "    return(result)\n",
    "\n",
    "L = [583, 927, 927, 927, 832, 453, 420, 765, 777, 778, 774, 999]\n",
    "print(lower(L))"
   ]
  },
  {
   "cell_type": "markdown",
   "id": "31a77720-c967-4a36-a84d-713ae201a8c8",
   "metadata": {},
   "source": [
    "Pour calculer la rapidité de l'algorithme, on pourrait utiliser un chronomètre ; mais en fonction de la rapidité du processeur, cette valeur va changer. On compte alors le nombre d'opérations éffectuées par l'algorithme.\n",
    "\n",
    "On voit que pour notre algorithme ci-dessus, on doit faire n comparaisons pour une liste avec len(L) == n (on admet que l'on ne compte pas la boucle et la première affectation de la variable ; bien qu'il suffirait d'ajouter 2 opérations + 1 pour le return, ca ca ne change pas).\n",
    "\n",
    "| Liste de $N$ nombres | Trouver le minimum ($N$ opérations) |\n",
    "|:------------------:|:---------------------------------:|\n",
    "| 10                 | 10 |\n",
    "| 100 | 100 |\n",
    "| 1000 | 1000 |\n",
    "\n",
    "Considérons un problème un peu différent, il ne s'agit plus de trouver le plus petit nombre de la liste, mais de la trier par ordre croissant."
   ]
  },
  {
   "cell_type": "code",
   "execution_count": 3,
   "id": "eeb1272a-293d-41f7-ae42-d744b0325d30",
   "metadata": {},
   "outputs": [
    {
     "name": "stdout",
     "output_type": "stream",
     "text": [
      "[420, 453, 583, 765, 774, 777, 778, 832, 927, 927, 927, 999]\n"
     ]
    }
   ],
   "source": [
    "def ascending(L: list) -> list:\n",
    "    result = []\n",
    "    while L :\n",
    "        l = lower(L)\n",
    "        result.append(l)\n",
    "        L.remove(l)\n",
    "    return(result)\n",
    "\n",
    "print(ascending(L))"
   ]
  },
  {
   "cell_type": "markdown",
   "id": "4928fd63-53f8-49cb-b708-78f4f5d24fe3",
   "metadata": {},
   "source": [
    "Cette première solution que l'on appelera la solution \"naive\" pose plusieurs problèmes. "
   ]
  },
  {
   "cell_type": "markdown",
   "id": "4288a775-b831-48e3-9652-36b05136ff9b",
   "metadata": {},
   "source": [
    "| Liste de $N$ nombres | Trouver le minimum ($N$ opérations) | Trier la liste ($\\frac{N^2}{2}$) | \n",
    "|:------------------:|:---------------------------------:|:-------------------------------:|\n",
    "| 10                 | 10 | 50 |\n",
    "| 100 | 100 | 5000 |\n",
    "| 1000 | 1000 | 500000 |\n",
    "\n",
    "On voit que le nombre d'opérations effectués par cet algorithme est multiplié par x100 a chaque fois que l'on ajoute x10"
   ]
  },
  {
   "cell_type": "code",
   "execution_count": null,
   "id": "19a57f2a-6239-4bb4-b4e4-3f445a7e105e",
   "metadata": {},
   "outputs": [],
   "source": []
  }
 ],
 "metadata": {
  "kernelspec": {
   "display_name": "Python 3 (ipykernel)",
   "language": "python",
   "name": "python3"
  },
  "language_info": {
   "codemirror_mode": {
    "name": "ipython",
    "version": 3
   },
   "file_extension": ".py",
   "mimetype": "text/x-python",
   "name": "python",
   "nbconvert_exporter": "python",
   "pygments_lexer": "ipython3",
   "version": "3.8.15"
  }
 },
 "nbformat": 4,
 "nbformat_minor": 5
}
