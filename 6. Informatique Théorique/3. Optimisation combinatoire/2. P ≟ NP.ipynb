{
 "cells": [
  {
   "cell_type": "markdown",
   "id": "5db1021d-c7d4-40a2-8d7c-86ec6ae2ab90",
   "metadata": {},
   "source": [
    "# P ≟ NP\n",
    "\n",
    "De facon simplifié, il s'agit de déterminer si le fait de pouvoir vérifier rapidement une solution à un problème implique de pouvoir la trouver rapidement.\n",
    "\n",
    "Par exemple, considérons le problème de décision du voyageur de commerce qui, étant donné un entier $k$ et un ensemble de villes séparées par des distances, détermine s'il existe un circuit de longueur inférieure à $k$ qui passe une et une seule fois par toutes les villes. \n",
    "\n",
    "Si $P = NP$, ça voudrait dire que verifier la solution (verifier si un chemin est bien inferieur à k et passe par toutes les villes) (P) implique de pouvoir rapidement trouver ce chemin (NP). Si $P \\neq NP$, ça voudrait dire qu'il est impossible de trouver une solution \"rapide\" à ce problème.\n"
   ]
  }
 ],
 "metadata": {
  "kernelspec": {
   "display_name": "Python 3 (ipykernel)",
   "language": "python",
   "name": "python3"
  },
  "language_info": {
   "codemirror_mode": {
    "name": "ipython",
    "version": 3
   },
   "file_extension": ".py",
   "mimetype": "text/x-python",
   "name": "python",
   "nbconvert_exporter": "python",
   "pygments_lexer": "ipython3",
   "version": "3.8.15"
  }
 },
 "nbformat": 4,
 "nbformat_minor": 5
}
