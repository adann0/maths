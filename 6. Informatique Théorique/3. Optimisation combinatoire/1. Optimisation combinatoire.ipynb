{
 "cells": [
  {
   "cell_type": "markdown",
   "id": "8040d561-5c44-4ecc-9cdf-be550e0b32f1",
   "metadata": {},
   "source": [
    "# Optimisation combinatoire\n",
    "\n",
    "L’**optimisation combinatoire** est une branche de l'optimisation en mathématiques appliquées et en informatique, également liée à la recherche opérationnelle, l'algorithmique et la théorie de la complexité. \n",
    "\n",
    "## Définition\n",
    "\n",
    "Dans sa forme la plus générale, un problème d'optimisation combinatoire consiste à trouver dans un ensemble discret un parmi les _meilleurs_ sous-ensembles (ou solutions) réalisables, la notion de _meilleure solution_ étant définie par une fonction objectif. Formellement, étant donnés :\n",
    "\n",
    "- un **ensemble discret** $N$ fini;\n",
    "- une fonction d'ensemble $f:2^{N}\\rightarrow {\\mathbb R}$, dite **fonction objectif** ;\n",
    "- et un ensemble ${\\mathcal R}$ de sous-ensembles de $N$, dont les éléments sont appelés les **solutions réalisables**,\n",
    "\n",
    "un problème d'optimisation combinatoire consiste à déterminer\n",
    "\n",
    "\\begin{equation}\n",
    "\\max _{{S\\subseteq N}}\\{f(S):\\,S\\in {\\mathcal R}\\}.\n",
    "\\end{equation}\n",
    "\n",
    "L'ensemble des solutions réalisables ne saurait être décrit par une liste exhaustive car la difficulté réside ici précisément dans le fait que le nombre des solutions réalisables rend son énumération impossible, ou bien qu'il est **NP-complet** de dire s'il en existe ou non. La description de R {\\mathcal R} est donc implicite, il s'agit en général de la liste, relativement courte, des propriétés des solutions réalisables.\n",
    "\n",
    "La plupart du temps, on est dans les cas particuliers suivants :\n",
    "\n",
    "- $N=\\{1,2,\\ldots ,n\\}$ et ${\\mathcal R}=X\\cap {\\mathbb Z}^{n}$ où ${\\mathbb R}^{n}$ et la cardinalité de ${\\mathcal R}$ est exponentielle en $n$ ;\n",
    "- ${\\mathcal R}=conv({\\mathcal R})\\cap {\\mathbb Z}^{n}$ donc les propriétés de ${\\mathcal R}$ se traduisent en contraintes linéaires, c'est-à-dire que $X$ et un polyèdre de ${\\mathbb R}^{n}$ ;\n",
    "- $f(S)=\\sum _{{s\\in S}}f(s)$.\n",
    "\n",
    "## Exemple\n",
    "\n",
    "Le **problème du voyageur de commerce** (TSP) où un voyageur de Commerce doit parcourir les N villes d'un pays en effectuant le trajet le plus court. Une résolution par énumération nécessite de calculer ((N-1)!)/2 trajets entre des villes. En particulier, pour 24 villes, il faudrait en générer (23!)/2 ≈ 2,5×1022. Pour fournir un ordre de grandeur comparatif, une année ne compte qu'environ 3,16×1013 microsecondes. \n",
    "\n",
    "## Résolution\n",
    "\n",
    "Trouver une solution optimale dans un ensemble discret et fini est un problème facile en théorie : il suffit d'essayer toutes les solutions, et de comparer leurs qualités pour voir la meilleure. \n",
    "\n",
    "Cependant, en pratique, l'énumération de toutes les solutions peut prendre trop de temps ; or, _le temps de recherche de la solution optimale_ est un facteur très important et c'est à cause de lui que les problèmes d'optimisation combinatoire sont réputés si difficiles. La **théorie de la complexité** donne des outils pour mesurer ce temps de recherche. De plus, comme l'ensemble des solutions réalisables est défini de manière implicite, il est aussi parfois très difficile de trouver ne serait-ce qu'une solution réalisable. \n",
    "\n",
    "Quelques problèmes d'optimisation combinatoire peuvent être résolus (de manière exacte) en temps polynomial par exemple par un **algorithme glouton**, un algorithme de **programmation dynamique** ou en montrant que le problème peut être formulé comme un problème d'**optimisation linéaire** en variables réelles.\n",
    "\n",
    "Dans la plupart des cas, le problème est **NP-difficile** et, pour le résoudre, il faut faire appel à des algorithmes de **branch and bound**, à l'**optimisation linéaire en nombres entiers** ou encore à la **programmation par contraintes**. \n",
    "\n",
    "En pratique, la complexité physiquement acceptable n'est souvent que polynomiale. On se contente alors d'avoir une solution approchée au mieux, obtenue par une **heuristique** ou une **métaheuristique** (par exemple, dans l'algorithme A*).\n",
    "\n",
    "Pour certains problèmes, on peut prouver une **garantie de performance**, c'est-à-dire que pour une méthode donnée l'écart entre la solution obtenue et la solution optimale est borné. Dans ces conditions, à domaine égal, un algorithme est préférable à un autre si, à garantie égale ou supérieure, il est moins complexe. \n",
    "\n",
    "## Sources\n",
    "\n",
    "- https://fr.wikipedia.org/wiki/Optimisation_combinatoire"
   ]
  },
  {
   "cell_type": "code",
   "execution_count": null,
   "id": "1f076312-b36e-4a63-bfcc-d54bf3a3101e",
   "metadata": {},
   "outputs": [],
   "source": []
  }
 ],
 "metadata": {
  "kernelspec": {
   "display_name": "Python 3 (ipykernel)",
   "language": "python",
   "name": "python3"
  },
  "language_info": {
   "codemirror_mode": {
    "name": "ipython",
    "version": 3
   },
   "file_extension": ".py",
   "mimetype": "text/x-python",
   "name": "python",
   "nbconvert_exporter": "python",
   "pygments_lexer": "ipython3",
   "version": "3.8.15"
  }
 },
 "nbformat": 4,
 "nbformat_minor": 5
}
