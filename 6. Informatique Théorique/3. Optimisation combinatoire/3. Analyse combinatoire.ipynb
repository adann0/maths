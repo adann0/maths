{
 "cells": [
  {
   "cell_type": "markdown",
   "id": "b0fdf7ac-87f2-4ba0-9a7a-fdd40918a03a",
   "metadata": {},
   "source": [
    "# Analyse Combinatoire\n",
    "\n",
    "En mathématiques, **combinatoire**, appelée aussi **analyse combinatoire**, étudie les configurations de collections finies d'objets ou les combinaisons d'ensembles finis, et les dénombrements. \n",
    "\n",
    "Voici quelques exemples de situations donnant lieu à des questions d'analyse combinatoire :\n",
    "\n",
    "- les rangements de livres sur une étagère ;\n",
    "- les dispositions de personnes autour d'une table ronde ;\n",
    "- les tirages avec remise d'un certain nombre de boules numérotées dans une urne ;\n",
    "- les placements de jetons sur un damier ;\n",
    "- le nombre d'ordonnancements possibles des cartes d'un jeu de 52 cartes.\n",
    "\n",
    "## Permutations (dispositions, ordonnancements)\n",
    "\n",
    "Les deux sections qui suivent sont une présentation détaillée et élémentaire de quelques notions et théorèmes de base.\n",
    "\n",
    "Il faut noter que pour résoudre le problème du voyageur de commerce, servant souvent d'exemples ci-dessous pour mettre plus en pratique la théorie ; des algorithmes spécifiques ont été développés, tels que la méthode des plus proches voisins, la méthode de l'arbre couvrant minimum, la méthode de la programmation linéaire, la méthode des colonies de fourmis, etc. Ces algorithmes ne se basent pas sur les concepts de permutation ou d'arrangement, mais plutôt sur la recherche de solutions efficaces en utilisant des stratégies de recherche heuristiques. Ci-dessous, on va utiliser l'approche \"naïve\" du voyageur de commerce, c'est à dire l'approche \"bruteforce\" qui est en pratique \"non-réalisable\" vu le nombre de cas parfois possible.\n",
    "\n",
    "### Permutations sans répétition d'objets discernables\n",
    "\n",
    "Prenons cet exemple : J'invite chez moi ce soir 3 amis : Lea, Thea et Pea. Je souhaite trouver toutes les facons de placer mes invités, via la première lettre de leur prénoms, autour de la table :\n",
    "\n",
    "- Lea Thea Pea\n",
    "- Lea Pea Thea\n",
    "- Pea Lea Thea\n",
    "- Pea Thea Lea\n",
    "- Thea Pea Lea\n",
    "- Thea Lea Pea\n",
    "\n",
    "Il y a ainsi 3 × 2 × 1 ou 3! = 6 possibilités de disposer mes invités autour de la table.\n",
    "\n",
    "**Théorème** — Il y a _n_! permutations (sans répétition) de _n_ éléments.\n",
    "\n",
    "### Permutations avec répétition d'objets discernables\n",
    "\n",
    "Si on reprend l'exemple précédent, on va voir qu'assez vite ça ne va pas être \"très logique\", mais c'est pour bien comprendre la différence. Ici on autorise les répétitions et on cherche également toutes les combinaisons. Si je n'ai que deux invités, Thea et Lea, ca donnera :\n",
    "\n",
    "- Lea Thea\n",
    "- Lea Lea\n",
    "- Thea Thea\n",
    "- Thea Lea\n",
    "\n",
    "Deux invités peuvent être a deux endroits en même temps, sur cet exemple ça n'est pas très logique. C'est tout simplement car si, comme en statistiques, on utilise le mauvais outil pour démontrer quelque chose, il ne faut pas s'attendre a quelque chose de logique.\n",
    "\n",
    "Ici un meilleur exemple serait le bruteforce d'un mot de passe. Dans la non répétition, on aurait pu avoir que les phrase \"ab\" et \"ba\", alors qu'avec la repetition on peut tout faire : \"aa\", \"ab\", \"ba\", \"bb\". On aura ici n=2 répétitions. Si on autorise \"aaa\", \"aab\", etc c'est a dire des phrases de 3 lettres on aura n=3 répétitions.\n",
    "\n",
    "**Théorème** — Le nombre de permutations de $n$ éléments, répartis dans $k$ classes dont $n_1$ sont de classe 1, $n_2$ sont de classe 2, …, $n_k$ sont de classe k, indiscernables dans chaque classe, ou le nombre de permutations de $n$ éléments avec $n_1$, $n_2$, …, $n_k$ répétitions, avec $\\left(\\sum _{{i=1}}^{k}n_{i}=n\\right)$, est égal à : ${\\frac {n!}{n_{1}!n_{2}!\\ldots n_{k}!}}$.\n",
    "\n",
    "## Arrangements (choix en tenant compte de l'ordre)\n",
    "\n",
    "## Arrangements sans répétition\n",
    "\n",
    "Nous disposons de n objets discernables et nous voulons en placer k, en tenant compte de l'ordre, dans k cases numérotées de 1 à k avec un et un seul objet par case. Le nombre de dispositions est alors égal au nombre de k-listes distinctes formées à partir de ces objets. Au lieu de constituer un n-uplet, à partir de n objets discernables, nous formons ici des k-uplets avec k ≤ n , ( x 1 , x 2 , … , x k ) k\\leq n{\\text{,}}\\left(x_{1},x_{2},\\ldots ,x_{k}\\right) à partir de ces n objets tels que pour i ≠ j i\\neq j, on ait x i ≠ x j x_{i}\\neq x_{j}. Un tel k-uplet s'appelle un arrangement sans répétition de n éléments pris k à k. "
   ]
  },
  {
   "cell_type": "code",
   "execution_count": null,
   "id": "182a4a53-abbd-43bf-aa8c-cad7b94011b8",
   "metadata": {},
   "outputs": [],
   "source": []
  }
 ],
 "metadata": {
  "kernelspec": {
   "display_name": "Python 3 (ipykernel)",
   "language": "python",
   "name": "python3"
  },
  "language_info": {
   "codemirror_mode": {
    "name": "ipython",
    "version": 3
   },
   "file_extension": ".py",
   "mimetype": "text/x-python",
   "name": "python",
   "nbconvert_exporter": "python",
   "pygments_lexer": "ipython3",
   "version": "3.8.15"
  }
 },
 "nbformat": 4,
 "nbformat_minor": 5
}
