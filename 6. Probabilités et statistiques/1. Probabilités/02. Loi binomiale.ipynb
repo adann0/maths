{
 "cells": [
  {
   "cell_type": "markdown",
   "id": "28958c2b-c117-4547-8f03-121f286c53d3",
   "metadata": {},
   "source": [
    "# Loi binomiale\n",
    "\n",
    "## Epreuve de Bernoulli\n",
    "\n",
    "Une **épreuve de Bernoulli** est une expérience aléatoire à deux issues que l'on peut nommer \"succès\" ou \"échec\".\n",
    "\n",
    "Par exemple :\n",
    "\n",
    "- Le jeu du file ou face : On considère par exemple comme succès \"obtenir pile\" et comme echec \"obtenir face\".\n",
    "- On lance un dé et on considère par exemple comme succès \"obtenir un six\" et comme échec \"ne pas obtenir un six\".\n",
    "\n",
    "## Loi de Bernoulli\n",
    "\n",
    "Une **loi de Bernoulli** est une loi de probabilité qui suit le schéma suivant :\n",
    "\n",
    "- la probabilité d'obtenir un succès est égale à $p$,\n",
    "- la probabilité d'obtenir un échec est égale à $1-p$. $p$ est appelé le _paramètre_ de la loi de Bernouilli.\n",
    "\n",
    "Au succès, on peut associer le nomre 1. Et à l'echec, on peut associer le nombre 0 (à dissocier donc de la valeur de $p$).\n",
    "\n",
    "Voici le tableau de la loi de probabilité :\n",
    "\n",
    "| $$x_i$$        | 1     | 0     |\n",
    "|:--------------:|:-----:|:-------:|\n",
    "| $$P(X=x_i)$$   | $$p$$ | $$1-p$$ |\n",
    "\n",
    "Si on souhaite compléter notre tableau de probabilité avec l'exemple du dé, ça nous donnerait :\n",
    "\n",
    "| $$x_i$$        | 1     | 0     |\n",
    "|:--------------:|:-----:|:-------:|\n",
    "| $$P(X=x_i)$$   | $$\\frac{1}{6}$$ | $$\\frac{5}{6}$$ |\n",
    "\n",
    "La variable aléatoire $X$ suit la loi de Bernouilli de paramètre $p$, alors :\n",
    "\n",
    "\\begin{equation}\n",
    "E(X) = p \\\\\n",
    "V(X) = p(1-p) \\\\\n",
    "σ(X) = \\sqrt{p(1-p)}\n",
    "\\end{equation}\n",
    "\n",
    "## Répétition d'expériences\n",
    "\n",
    "Plusieurs expériences sont **identiques et indépendantes** si :\n",
    "\n",
    "- elles ont les mêmes issues,\n",
    "- les probabilités de chacune des issues ne changent pas d'une expérience à l'autre.\n",
    "\n"
   ]
  },
  {
   "cell_type": "code",
   "execution_count": null,
   "id": "fe133db7-daaa-433b-9b68-771d41458d01",
   "metadata": {},
   "outputs": [],
   "source": []
  }
 ],
 "metadata": {
  "kernelspec": {
   "display_name": "Python 3 (ipykernel)",
   "language": "python",
   "name": "python3"
  },
  "language_info": {
   "codemirror_mode": {
    "name": "ipython",
    "version": 3
   },
   "file_extension": ".py",
   "mimetype": "text/x-python",
   "name": "python",
   "nbconvert_exporter": "python",
   "pygments_lexer": "ipython3",
   "version": "3.8.15"
  }
 },
 "nbformat": 4,
 "nbformat_minor": 5
}
