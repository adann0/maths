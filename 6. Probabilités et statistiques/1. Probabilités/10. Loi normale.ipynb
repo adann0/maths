{
 "cells": [
  {
   "cell_type": "markdown",
   "id": "e56be0a1-4bbf-473d-8904-e40dda081585",
   "metadata": {},
   "source": [
    "# Loi normale\n",
    "\n",
    "Pour mieux comprendre les tenants et les aboutissants de ces concepts, on va prendre un cas concret, qui devrait nous permettre d'explorer tout ces outils.\n",
    "\n",
    "Une compagnie d'un jeux-video en ligne possède 20 000 comptes actifs. Elle souhaite reperer via diverses statistiques les joueurs qui utilisent des logiciels de triche. Il ne s'agit pas la de montrer comment reussir à detecter avec 100% de reussite les tricheurs.\n",
    "\n",
    "Plusieurs valeurs pourraient nous aider à dégager, en fonction du type de jeu (FPS, MMORPG, ...), des comptes suspects :\n",
    "\n",
    "- Le temps de jeu\n",
    "- Le temps entre les actions (MMORPG)\n",
    "- Le taux de precision (FPS)\n",
    "- Les temps de pause entre les parties (FPS)\n",
    "- Le nombre de paquets échangés par jour entre une IP et le Serveur\n",
    "- etc\n",
    "\n",
    "On peut biensur imaginer beaucoup d'autres données qui pourraient nous servir dans le but de detecter les bots. Cependant, comment savoir si ces données pourraient nous être utiles ? Surtout en faisant des testes et en affirmant/infirmant nos tests. Dans ce cas par exemple, il nous faudrait déjà être en mesure de pouvoir, sur un premier jeux de données, affirmer ou infirmer si certains comptes trichent, de facon a s'assurer que nos extrapolations sont correctes. Dans lequel cas, ces extrapolations pourraient être appliqués à de futurs datasets pour automatiquement detecter les comptes suspects.\n",
    "\n",
    "On voit bien pourquoi, ici certains comptes peuvent en réalité être des vrais joueurs qui jouent 24/24h, en se pretant leur comptes, etc. Avoir un 24/24h ne peut donc pas nous autoriser a les bannir automatiquement ; il faut d'autres facteurs pouvant appuyer le fait qu'ils trichent ; et croiser ses facteurs (comme avec un ratio de triche, qui augmenterait au fur et a mesure).\n",
    "\n",
    "\n",
    "| temps de jeu / jour | 0    | 1    | 2    | 3    | 4    | 5    | 6    | 7    | 8    | 9    | 10   | 11   | 12   | 13   | 14   | 15   | 16   | 17   | 18   | 19   | 20   | 21   | 22   | 23   | 24   |\n",
    "|:-------------------:|:----:|:----:|:----:|:----:|:----:|:----:|:----:|:----:|:----:|:----:|:----:|:----:|:----:|:----:|:----:|:----:|:----:|:----:|:----:|:----:|:----:|:----:|:----:|:----:|:-----:\n",
    "| population          | 1979 | 1999 | 2111 | 1547 | 1547 | 1211 | 900  | 810  | 540  | 121  | 212  | 154  | 121  | 255  | 54   | 53   | 75   | 545  | 848  | 646  | 848  | 848  | 474  | 1244 | 858  |\n",
    "\n",
    "J'ai mis des valeurs plus ou moins aléatoires dans ce tableau, on va voir ce que ca donne. Il suppose que dans un MMORPG, la majorité des joueurs jouent entre 0 et 4 heures par jour ; qu'au delas, il y a moins de monde (les \"hardcore gamers\") ; de facon logiquement decroissante (plus c'est hard moins il y a de monde) ; jusqu'à un moment ou soudainement, on va s'apercevoir qu'une population vis dans l'ombre (les bots, qui jouent H24, et ils sont beaucoup dans ce premier exemple. On va voir en faisant varier les valeurs si c'est toujours le cas.\n",
    "\n",
    "\n",
    "X la varriable aléatoire qui a un compte choisi au hasard associe le temps de jeux journalier.\n",
    "\n",
    "On suppose que X suit la loi normale $\\mathbb{N}(3, 2^2)$. C'est à dire $μ = 3$ et que $α = 2$.\n",
    "\n",
    "Calculer $P(12 \\le X \\le 24)$."
   ]
  },
  {
   "cell_type": "code",
   "execution_count": null,
   "id": "2cbeb137-cf0a-4244-94b7-e03f50e04ba1",
   "metadata": {},
   "outputs": [],
   "source": []
  }
 ],
 "metadata": {
  "kernelspec": {
   "display_name": "Python 3 (ipykernel)",
   "language": "python",
   "name": "python3"
  },
  "language_info": {
   "codemirror_mode": {
    "name": "ipython",
    "version": 3
   },
   "file_extension": ".py",
   "mimetype": "text/x-python",
   "name": "python",
   "nbconvert_exporter": "python",
   "pygments_lexer": "ipython3",
   "version": "3.8.15"
  }
 },
 "nbformat": 4,
 "nbformat_minor": 5
}
