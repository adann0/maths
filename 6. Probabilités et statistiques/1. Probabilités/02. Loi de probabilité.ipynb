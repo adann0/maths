{
 "cells": [
  {
   "cell_type": "markdown",
   "id": "bed7fc93-4adf-424d-92f5-b6cb9e7ebcc7",
   "metadata": {},
   "source": [
    "# Loi de probabilité\n",
    "\n",
    "En théorie des probabilités et en statistique, une **loi de probabilité** décrit le comportement aléatoire d'un phénomène dépendant du hasard.\n",
    "\n",
    "Une loi de probabilité décrit de manière théorique le caractère aléatoire d'_une_ expérience dont le résultat dépend du hasard.\n",
    "\n",
    "Par exemple, la loi de probabilité du lancé de la pièce nous indiquerais que dans \n",
    "\n",
    "## Définition mathématique\n",
    "\n",
    "En théorie des probabilités, une loi de probabilité est une mesure dont la masse totale vaut 1. En particulier, cette mesure vérifie les trois axiomes des probabilités.\n",
    "\n",
    "**Définition** — Pour ${\\displaystyle (\\Omega ,{\\mathcal {A}})}$ un espace mesurable, ${\\mathbb P}$ est une loi de probabilité, mesure de probabilité ou plus simplement probabilité si :\n",
    "1. ${\\mathbb P}$ est une application de ${\\mathcal A}$ dans [0,1] ;\n",
    "2. ${\\displaystyle \\mathbb{P} (\\Omega )=1}$ ;\n",
    "3. ${\\mathbb P}$ est $σ$-additive, c'est-à-dire pour toute famille finie ou dénombrable d'éléments deux à deux disjoints ${\\displaystyle (A_{i},i\\in I)}$ de ${\\mathcal A}$ : <br> ${\\displaystyle \\mathbb {P} \\left(\\bigcup _{i\\in I}A_{i}\\right)=\\sum _{i\\in I}\\mathbb {P} (A_{i})}$. <br> En particulier, ${\\displaystyle \\mathbb {P} (\\varnothing )=0}$."
   ]
  },
  {
   "cell_type": "markdown",
   "id": "c1d3b1ae-61c1-4cdc-b4e4-81b58c9dbd31",
   "metadata": {},
   "source": [
    "## Loi de Bernoulli\n",
    "\n",
    "Une **épreuve de Bernoulli** est une expérience aléatoire à deux issues que l'on peut nommer \"succès\" ou \"échec\".\n",
    "\n",
    "Par exemple :\n",
    "\n",
    "- Le jeu du file ou face : On considère par exemple comme succès \"obtenir pile\" et comme echec \"obtenir face\".\n",
    "- On lance un dé et on considère par exemple comme succès \"obtenir un six\" et comme échec \"ne pas obtenir un six\".\n",
    "\n",
    "Une **loi de Bernoulli** est une loi de probabilité qui suit le schéma suivant :\n",
    "\n",
    "- la probabilité d'obtenir un succès est égale à $p$,\n",
    "- la probabilité d'obtenir un échec est égale à $1-p$. $p$ est appelé le _paramètre_ de la loi de Bernouilli.\n",
    "\n",
    "Au succès, on peut associer le nomre 1. Et à l'echec, on peut associer le nombre 0 (à dissocier donc de la valeur de $p$).\n",
    "\n",
    "Voici le tableau de la loi de probabilité :\n",
    "\n",
    "| $$x_i$$        | 1     | 0     |\n",
    "|:--------------:|:-----:|:-------:|\n",
    "| $$P(X=x_i)$$   | $$p$$ | $$1-p$$ |\n",
    "\n",
    "Si on souhaite compléter notre tableau de probabilité avec l'exemple du dé, ça nous donnerait :\n",
    "\n",
    "| $$x_i$$        | 1     | 0     |\n",
    "|:--------------:|:-----:|:-------:|\n",
    "| $$P(X=x_i)$$   | $$\\frac{1}{6}$$ | $$\\frac{5}{6}$$ |\n",
    "\n",
    "La variable aléatoire $X$ suit la loi de Bernouilli de paramètre $p$, alors :\n",
    "\n"
   ]
  },
  {
   "cell_type": "code",
   "execution_count": null,
   "id": "d64525e3-2e08-45af-8d0b-fcfd99044b0a",
   "metadata": {},
   "outputs": [],
   "source": [
    "\n"
   ]
  },
  {
   "cell_type": "code",
   "execution_count": null,
   "id": "e2f817f0-7e98-40c7-9a73-cd95da35551d",
   "metadata": {},
   "outputs": [],
   "source": []
  }
 ],
 "metadata": {
  "kernelspec": {
   "display_name": "Python 3 (ipykernel)",
   "language": "python",
   "name": "python3"
  },
  "language_info": {
   "codemirror_mode": {
    "name": "ipython",
    "version": 3
   },
   "file_extension": ".py",
   "mimetype": "text/x-python",
   "name": "python",
   "nbconvert_exporter": "python",
   "pygments_lexer": "ipython3",
   "version": "3.8.15"
  }
 },
 "nbformat": 4,
 "nbformat_minor": 5
}
