{
 "cells": [
  {
   "cell_type": "markdown",
   "id": "1494c1ed-a1ef-469d-9525-4bb632be4cb1",
   "metadata": {},
   "source": [
    "# Loi binomiale\n",
    "\n",
    "## Epreuve de Bernoulli\n",
    "\n",
    "Une épreuve de Bernoulli est une expérience aléatoire à deux issues que l'on peut nommer \"succès\" ou \"échec\"."
   ]
  }
 ],
 "metadata": {
  "kernelspec": {
   "display_name": "Python 3 (ipykernel)",
   "language": "python",
   "name": "python3"
  },
  "language_info": {
   "codemirror_mode": {
    "name": "ipython",
    "version": 3
   },
   "file_extension": ".py",
   "mimetype": "text/x-python",
   "name": "python",
   "nbconvert_exporter": "python",
   "pygments_lexer": "ipython3",
   "version": "3.8.15"
  }
 },
 "nbformat": 4,
 "nbformat_minor": 5
}
