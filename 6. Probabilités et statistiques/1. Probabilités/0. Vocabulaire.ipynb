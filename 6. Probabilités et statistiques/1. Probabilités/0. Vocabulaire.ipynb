{
 "cells": [
  {
   "cell_type": "markdown",
   "id": "88191ad2-f702-46d3-9471-de189a783f5d",
   "metadata": {},
   "source": [
    "# Vocabulaire\n",
    "\n",
    "\n",
    "- Equiprobabilité : En théorie des probabilités et en statistique, l'équiprobabilité de deux évènements signifie que ces deux évènements ont une même probabilité.\n"
   ]
  }
 ],
 "metadata": {
  "kernelspec": {
   "display_name": "Python 3 (ipykernel)",
   "language": "python",
   "name": "python3"
  },
  "language_info": {
   "codemirror_mode": {
    "name": "ipython",
    "version": 3
   },
   "file_extension": ".py",
   "mimetype": "text/x-python",
   "name": "python",
   "nbconvert_exporter": "python",
   "pygments_lexer": "ipython3",
   "version": "3.8.15"
  }
 },
 "nbformat": 4,
 "nbformat_minor": 5
}
