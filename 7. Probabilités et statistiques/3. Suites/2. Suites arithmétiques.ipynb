{
 "cells": [
  {
   "cell_type": "markdown",
   "id": "87e11aee-94d5-457c-ad3a-18450d166d8a",
   "metadata": {},
   "source": [
    "# Suites Arithmétiques\n",
    "\n",
    "Considérons une suite numérique $(u_n)$ ou la _différence_ entre un terme et son précédent reste constante et égale à 5 et dont le premier terme est égal à 3.\n",
    "\n",
    "| $$n$$     | _0_   | _1_   | _2_   | _3_   | _n_   | $$u_{n+1}$$ |\n",
    "|:---------:|:-----:|:-----:|:-----:|:-----:|:-----:|:-----------:|\n",
    "| $$(u_n)$$ | 3     | 8     | 13    | 18    | $$3+5n$$| $u_n + 5$ |\n",
    "\n",
    "Une telle suite est appelée une suite arithmétique de raison 5 et de premier terme 3.\n",
    "\n",
    "**Définition 1** :\n",
    "\n",
    "Une suite $(u_n)$ est une **suite arithmétique** s'il existe un nombre $r$ tel que pour tout entier $n$ on a : \n",
    "\n",
    "\\begin{equation}\n",
    "u_{n+1} = u_n + r\n",
    "\\end{equation}\n",
    "\n",
    "Le nombre $r$ est appelé **raison** de la suite.\n",
    "\n",
    "**Définition 2** :\n",
    "\n",
    "Si $(u_n)$ est une suite arithmétique de raison $r$ et de premier terme $u_0$. Pour tout entier naturel $n$, on a : \n",
    "\n",
    "\\begin{equation}\n",
    "u_n = u_0 + nr\n",
    "\\end{equation}\n",
    "\n",
    "**Définition 3** : _Variations d'une suite arithmétique_\n",
    "\n",
    "$(u_n)$ est une suite arithmétique de raison $r$.\n",
    "\n",
    "- Si $r > 0$ alors la suite $(u_n)$ est croissante.\n",
    "- Si $r < 0$ alors la suite $(u_n)$ est décroissante.\n",
    "\n",
    "**Exemple** : _Variations d'une suite arithmétique_\n",
    "\n",
    "La suite arithmétique $(u_n)$ définie par $u_n = 5 - 4n$ est décroissante car de raison négative et égale à _-4_. Le premier point $(u_0)$ est à 5, et en avancant on enlève a chaque pas de un _4_.\n"
   ]
  },
  {
   "cell_type": "markdown",
   "id": "f18505be-767b-4147-9753-c4c3fc52c971",
   "metadata": {
    "jupyter": {
     "source_hidden": true
    },
    "tags": []
   },
   "source": [
    "import matplotlib.pyplot as plt\n",
    "\n",
    "# Définition de la suite\n",
    "def u(n):\n",
    "    return 5 - 4 * n\n",
    "\n",
    "# Création de la liste des valeurs de la suite pour n allant de 0 à 10\n",
    "n_values = list(range(11))\n",
    "u_values = [u(n) for n in n_values]\n",
    "\n",
    "# Tracé de la suite\n",
    "plt.plot(n_values, u_values, 'bo--')\n",
    "\n",
    "# Ajout de labels pour les axes\n",
    "plt.xlabel('n')\n",
    "plt.ylabel('u(n)')\n",
    "\n",
    "# Affichage de la figure\n",
    "plt.show()"
   ]
  },
  {
   "cell_type": "markdown",
   "id": "90329f2e-b4b8-4fa0-8486-1bb96caac48a",
   "metadata": {},
   "source": [
    "## Sommes de termes\n",
    "\n",
    "\\begin{equation}\n",
    "1 + 2 + 3 + ... + n = \\frac{n(n+1)}{2}\n",
    "\\end{equation}"
   ]
  },
  {
   "cell_type": "code",
   "execution_count": null,
   "id": "f9e82ffe-80c4-437b-bdb4-61082bfef2ac",
   "metadata": {},
   "outputs": [],
   "source": []
  }
 ],
 "metadata": {
  "kernelspec": {
   "display_name": "Python 3 (ipykernel)",
   "language": "python",
   "name": "python3"
  },
  "language_info": {
   "codemirror_mode": {
    "name": "ipython",
    "version": 3
   },
   "file_extension": ".py",
   "mimetype": "text/x-python",
   "name": "python",
   "nbconvert_exporter": "python",
   "pygments_lexer": "ipython3",
   "version": "3.8.15"
  }
 },
 "nbformat": 4,
 "nbformat_minor": 5
}
