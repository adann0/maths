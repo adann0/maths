{
 "cells": [
  {
   "cell_type": "markdown",
   "id": "0793be40-a271-4100-810e-bdfcca4d4949",
   "metadata": {},
   "source": [
    "# Suites\n",
    "\n",
    "## Définitions\n",
    "\n",
    "Une suite est une liste de nombres.\n",
    "\n",
    "On considère une liste de nombres formée par tous les nombres impairs rangés dans l'ordre croissant : 1, 3, 5, 7, ...\n",
    "\n",
    "On note $(u_n)$ l'ensemble des \"éléments\" de cette suite de nombres.\n",
    "\n",
    "On peut écrire :\n",
    "\n",
    "\\begin{equation}\n",
    "u : \\mathbb{N} \\to \\mathbb{R} \\\\\n",
    "n \\mapsto u(n) = u_n\n",
    "\\end{equation}\n",
    "\n",
    "On peut voir cette suite sous forme de tableau :\n",
    "\n",
    "| $$n$$     | _0_   | _1_   | _2_   | _3_   |\n",
    "|:---------:|:-----:|:-----:|:-----:|:-----:|\n",
    "| $$(u_n)$$ | 1     | 3     | 5     | 7     |\n",
    "\n",
    "En Python, on est déjà familié avec ce concept qui pourrait être représenté avec une liste ; ou l'index de la liste est $n$ et la valeur contenue à l'index de la liste est $(u_n)$ :"
   ]
  },
  {
   "cell_type": "code",
   "execution_count": 12,
   "id": "9689bb6f-d54e-4cfc-813c-7a7586a2a87f",
   "metadata": {},
   "outputs": [
    {
     "name": "stdout",
     "output_type": "stream",
     "text": [
      "0 1\n",
      "1 3\n",
      "2 5\n",
      "3 7\n"
     ]
    }
   ],
   "source": [
    "L = [1, 3, 5, 7]\n",
    "for k in range(len(L)):\n",
    "    print(k, L[k])"
   ]
  },
  {
   "cell_type": "markdown",
   "id": "c626c285-9724-472f-81bd-dbf19c107570",
   "metadata": {},
   "source": [
    "**Définition** :\n",
    "\n",
    "Une suite numérique $(u_n)$ est une liste ordonnée de nombres réels telle qu'à tout entier $n$ on associe un nombre réel note $u_n$. On appel donc les termes de la suites, tout les \"résultats\" de la suite.\n",
    "\n",
    "$u_n$ est appelé le **terme de rang $n$** de cette suite.\n",
    "\n",
    "### A l'aide d'une formule explicite\n",
    "\n",
    "Soit la suite $(u_n)$ des nombres pairs.\n",
    "\n",
    "| $$n$$     | _0_   | _1_   | _2_   | _3_   | _n_   |\n",
    "|:---------:|:-----:|:-----:|:-----:|:-----:|:-----:|\n",
    "| $$(u_n)$$ | 0     | 2     | 4     | 6     | _2n_  |\n",
    "\n",
    "On peut constater la relation entre les nombres de la suite pour géneraliser ; chaque résultat de la suite par rapport à son indice est multiplié par 2, on peut donc généraliser par _2n_.\n",
    "\n",
    "**Définition** :\n",
    "\n",
    "Lorsqu'on génère une suite par une formule explicite, chaque terme de la suite est exprimé en fonction de $n$.\n",
    "\n",
    "**Exemple** :\n",
    "\n",
    "On peut maintenant facilement calculer n'importe quel terme de la suite :\n",
    "\n",
    "- $(u_{100}) = 2*100 = 200$\n",
    "\n",
    "En Python on pourrait génerer les valeurs de la suite, pour $n$ compris entre 0 et 99 :"
   ]
  },
  {
   "cell_type": "code",
   "execution_count": 13,
   "id": "7f779ffb-2c83-47fb-b3b9-b16fa8e5b96b",
   "metadata": {},
   "outputs": [
    {
     "name": "stdout",
     "output_type": "stream",
     "text": [
      "0\n",
      "198\n"
     ]
    }
   ],
   "source": [
    "def f(n):\n",
    "    return 2*n\n",
    "\n",
    "L = [f(n) for n in range(100)]\n",
    "\n",
    "print(L[0])\n",
    "print(L[99])"
   ]
  },
  {
   "cell_type": "markdown",
   "id": "3ef55b3e-0c2b-468b-a3cb-2de5bc3a1a21",
   "metadata": {},
   "source": [
    "### A l'aide d'une relation de récurrence\n",
    "\n",
    "On définit la suite $(u_n)$ par : $u_0 = 5$ et chaque terme de la suite est le triple de son précédent.\n",
    "\n",
    "| $$n$$     | _0_   | _1_   | _2_   | _3_   | _n_            | _n+1_            |\n",
    "|:---------:|:-----:|:-----:|:-----:|:-----:|:--------------:|------------------|\n",
    "| $$(u_n)$$ | 5     | 15    | 45    | 135   | $$3*u_{n-1}$$  | $$3*u_n$$        |\n",
    "\n",
    "**Définition** :\n",
    "\n",
    "Lorsqu'on génère une suite par une relation de récurrence, chaque terme de la suite s'obtient à partir du terme précédent.\n",
    "\n",
    "En Python, on pourrait faire une fonction récursive (bien que le cout de calcul augmentera de façon linéaire en fonction de la grandeur de $n$, il y a certainement mieux en terme d'optimisation, comme calculer les valeurs unes par unes, les mettre dans un array, et se servir de l'index de l'array pour recuperer la valeur).\n",
    "\n",
    "## Représentation\n",
    "\n",
    "Pour tout $n$, de $\\mathbb{N}$, on donne : $u_n = \\frac{n^2}{2} - 3$.\n",
    "\n",
    "| $$n$$     | _0_   | _1_   | _2_   | _3_   | _4_   | _5_   | _6_   | _7_   | _8_   |\n",
    "|:---------:|:-----:|:-----:|:-----:|:-----:|:-----:|:-----:|:-----:|:-----:|:-----:|\n",
    "| $$(u_n)$$ | -3    | -2,5  | -1    | 1,5   | 5     | 9,5   | 15    | 21,5  | 29    |\n",
    "\n",
    "Dans un repère du plan, on représente une suite par un nuage de points de coordonnées $(n ; u_n)$ comme montré ci-dessous."
   ]
  },
  {
   "cell_type": "code",
   "execution_count": 14,
   "id": "82fd7db7-76ee-4922-83d7-6af49caf59e2",
   "metadata": {
    "jupyter": {
     "source_hidden": true
    },
    "tags": []
   },
   "outputs": [
    {
     "data": {
      "image/png": "[encoded data removed]",
      "text/plain": [
       "<Figure size 640x480 with 1 Axes>"
      ]
     },
     "metadata": {},
     "output_type": "display_data"
    }
   ],
   "source": [
    "import matplotlib.pyplot as plt\n",
    "import numpy as np\n",
    "\n",
    "n = np.arange(0, 9)\n",
    "u_n = n**2/2 - 3\n",
    "\n",
    "plt.plot(n, u_n, 'o')\n",
    "plt.title(\"Représentation de la suite $(u_n)$\")\n",
    "plt.xlabel(\"$n$\")\n",
    "plt.ylabel(\"$u_n$\")\n",
    "plt.grid()\n",
    "plt.show()\n"
   ]
  },
  {
   "cell_type": "markdown",
   "id": "2db47ec7-98b3-4bb8-9890-985e61eb5569",
   "metadata": {},
   "source": [
    "## Variation\n",
    "\n",
    "- La suite $(u_n)$ est **croissant à partir du rang $p$** signifie que pour $n \\ge p$, on a : $u_{n+1} \\ge u_n$.\n",
    "- La suite $(u_n)$ est **décroissante à partir du rang $p$** signifie que pour $n \\ge p$, on a : $u_{n+1} \\le u_n$.\n",
    "\n",
    "On calcul donc la différence entre $u_{n+1}$ et $u_n$ ; si la différence est positive, la suite est croissante ; si la différence est négative, la suite est décroissante.\n",
    "\n",
    "\\begin{equation}\n",
    "u_{n+1} - u_n \\ge 0 \\to croissant \\\\\n",
    "u_{n+1} - u_n \\le 0 \\to décroissant\n",
    "\\end{equation}\n",
    "\n",
    "### Passer par la fonction\n",
    "\n",
    "Soit une fonction $f$ définie sur $[0 ; +\\infty[$ et une suite numérique $(u_n)$ définie sur $\\mathbb{N}$ par $u_n = f(n)$. Soit un entier $p$.\n",
    "\n",
    "- $u_n = n^2 + 1$\n",
    "\n",
    "On peut donc à partir de cette suite définir une fonction :\n",
    "\n",
    "- $f(x) = x^2 + 1$\n",
    "\n",
    "Et aulieu d'étudier les variations de la suite ; on étudie les variations de la fonction (dependant des cas, c'est parfois plus simple).\n",
    "\n",
    "**Propriété** :\n",
    "\n",
    "- Si $f$ est croissante sur l'intervalle $[p ; +\\infty[$, alors la suite $(u_n)$ est croissante à partir du rang $p$.\n",
    "- Si $f$ est décroissante sur l'intervalle $[p ; +\\infty[$, alors la suite $(u_n)$ est décroissante à partir du rang $p$.\n",
    "\n",
    "## Limite\n",
    "\n",
    "Il existe deux types de suites : les suites convergente et les suites divergente.\n",
    "\n",
    "### Convergente\n",
    "\n",
    "Chercher la limite d'une suite, c'est savoir comment elle se comporte lorsque $n$ deviennent très grand. (Est-ce que les termes de la suites deviennent aussi très grand, est-ce qu'ils deviennent très petit, est-ce qu'ils se rapprochent d'un nombre, est-ce qu'ils se rapprochent de zéro, ...).\n",
    "\n",
    "Pour cela, on s'aide souvent d'un outil informatique pour faire des essais.\n",
    "\n",
    "On considère la suite $(u_n)$ définie par : $u_n = \\frac{2n+1}{n}$.\n",
    "\n",
    "| $$n$$     | _1_   | _2_   | _3_   | _4_   | _5_   | _10_  | _15_  | _50_  | _500_ |\n",
    "|:---------:|:-----:|:-----:|:-----:|:-----:|:-----:|:-----:|:-----:|:-----:|:-----:|\n",
    "| $$(u_n)$$ | 3     | 2,5   | 2,333 | 2,25  | 2,2   | 2,1   | 2,067 | 2,02  | 2,002 |\n",
    "\n",
    "Plus $n$ devient grand, plus les termes de la suite semblent se rapprocher de _2_.\n",
    "\n",
    "On dit que $(u_n)$ converge vers _2_.\n",
    "\n",
    "On peut aussi dire que la limite de la suite $u_n$ quand $n$ tend vers l'infini est _2_, qui s'écrit :\n",
    "\n",
    "- $\\lim\\limits_{n \\rightarrow +\\infty} u_n = 2$\n",
    "\n",
    "Ce genre de limites sont dites \"fini\".\n",
    "\n",
    "**Définition** : _Limite finie_\n",
    "\n",
    "On dit que la suite $(u_n)$ admet pour limite _L_ si tout intervalle ouvert contenant _L_ contient tous les termes de la suite à partir d'un certain rang et on note :\n",
    "\n",
    "\\begin{equation}\n",
    "\\lim\\limits_{n \\rightarrow +\\infty} u_n = L\n",
    "\\end{equation}\n",
    "\n",
    "Une telle suite est dite _convergente_.\n",
    "\n",
    "**Définition** :\n",
    "\n",
    "Une suite qui n'est pas convergente est dite _divergente_.\n",
    "\n",
    "### Divergente\n",
    "\n",
    "On considère la suite $(v_n)$ définie par : $v_n = n^2 + 1$.\n",
    "\n",
    "- $v_0 = 0^2 + 1 = 1$\n",
    "- $v_1 = 1^2 + 1 = 2$\n",
    "- $v_2 = 2^2 + 1 = 5$\n",
    "- $v_10 = 10^2 + 1 = 101$\n",
    "- $v_100 = 100^2 + 1 = 10001$\n",
    "\n",
    "Plus $n$ devient grand, plus les termes de la suite semblent devenir grand.\n",
    "\n",
    "On dit que $(v_n)$ diverge vers $+\\infty$.\n",
    "\n",
    "On peut aussi dire que la limite de la suite $v_n$ quand $n$ tend vers l'infini est égale à $+\\infty$, qui s'écrit :\n",
    "\n",
    "- $\\lim\\limits_{n \\rightarrow +\\infty} v_n = +\\infty$\n",
    "\n",
    "Une suite dont les résultats seraient alternativement \"2, 2, -2, -2, 2, 2, ...\" serait également divergente.\n",
    "\n",
    "Une suite divergente est simplement une suite qui n'est pas convergente.\n",
    "\n",
    "### Limites des suites usuelles\n",
    "\n",
    "- $\\lim\\limits_{n \\rightarrow +\\infty} n = +\\infty$\n",
    "- $\\lim\\limits_{n \\rightarrow +\\infty} n^2 = +\\infty$\n",
    "- $\\lim\\limits_{n \\rightarrow +\\infty} \\sqrt{n} = +\\infty$\n",
    "- $\\lim\\limits_{n \\rightarrow +\\infty} \\frac{1}{n} = 0$\n",
    "- $\\lim\\limits_{n \\rightarrow +\\infty} \\frac{1}{n^2} = 0$\n",
    "- $\\lim\\limits_{n \\rightarrow +\\infty} \\frac{1}{\\sqrt{n}} = 0$\n",
    "\n",
    "### Opérations sur les limites\n",
    "\n",
    "<center><b>Limite d'une somme</b></center>\n",
    "\n",
    "| $$\\lim\\limits_{n \\rightarrow +\\infty} u_n$$                          | _L_   | _L_         | _L_         | $$+\\infty$$  | $$-\\infty$$  | $$+\\infty$$   |\n",
    "|:--------------------------------------------------------------------:|:-----:|:-----------:|:-----------:|:------------:|:------------:|:-------------:|\n",
    "| $$\\lim\\limits_{n \\rightarrow +\\infty} v_n$$                          | _L'_  | $$+\\infty$$ | $$-\\infty$$ | $$+\\infty$$  | $$-\\infty$$  | $$-\\infty$$   |\n",
    "| $$\\lim\\limits_{n \\rightarrow +\\infty} (u_n + v_n)$$                  | _L + L'_  | $$+\\infty$$ | $$-\\infty$$ | $$+\\infty$$  | $$-\\infty$$  | Forme indéterminée   |\n",
    "\n",
    "<center><b>Limite d'un produit</b></center>\n",
    "\n",
    "| $$\\lim\\limits_{n \\rightarrow +\\infty} u_n$$                          | _L_   | _L > 0_     | _L < 0_     | _L > 0_      | _L < 0_     | $$+\\infty$$  | $$-\\infty$$  | $$+\\infty$$  | _0_           |\n",
    "|:--------------------------------------------------------------------:|:-----:|:-----------:|:-----------:|:------------:|:-----------:|:------------:|:------------:|-------------:|:-------------:|\n",
    "| $$\\lim\\limits_{n \\rightarrow +\\infty} v_n$$                          | _L'_  | $$+\\infty$$ | $$+\\infty$$ | $$-\\infty$$  | $$-\\infty$$ | $$+\\infty$$  | $$-\\infty$$  | $$-\\infty$$  | $$-\\infty$$ _ou_ $$+\\infty$$   |\n",
    "| $$\\lim\\limits_{n \\rightarrow +\\infty} (u_n + v_n)$$                  | _L L'_| $$+\\infty$$ | $$-\\infty$$ | $$-\\infty$$  | $$+\\infty$$ | $$+\\infty$$  | $$+\\infty$$  | $$-\\infty$$  | Forme indéterminée   |\n",
    "\n",
    "## Sources\n",
    "\n",
    "- https://www.youtube.com/watch?v=MJv7_pkFcdA"
   ]
  },
  {
   "cell_type": "code",
   "execution_count": null,
   "id": "7e61838f-1385-4948-98f0-732ce2cd3a9c",
   "metadata": {},
   "outputs": [],
   "source": []
  }
 ],
 "metadata": {
  "kernelspec": {
   "display_name": "Python 3 (ipykernel)",
   "language": "python",
   "name": "python3"
  },
  "language_info": {
   "codemirror_mode": {
    "name": "ipython",
    "version": 3
   },
   "file_extension": ".py",
   "mimetype": "text/x-python",
   "name": "python",
   "nbconvert_exporter": "python",
   "pygments_lexer": "ipython3",
   "version": "3.8.15"
  }
 },
 "nbformat": 4,
 "nbformat_minor": 5
}
