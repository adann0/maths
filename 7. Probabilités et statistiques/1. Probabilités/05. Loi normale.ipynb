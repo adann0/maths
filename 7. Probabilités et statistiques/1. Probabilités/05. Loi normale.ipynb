{
 "cells": [
  {
   "cell_type": "markdown",
   "id": "e56be0a1-4bbf-473d-8904-e40dda081585",
   "metadata": {},
   "source": [
    "# Loi normale\n",
    "\n",
    "**Exemple** :\n",
    "\n",
    "Une compagnie de transport possède un parc de 200 cars.\n",
    "\n",
    "X la varriable aléatoire qui a un car choisi au hasard, associe la distance journalière parcourue.\n",
    "\n",
    "On suppose que X suit la loi normale $N(80 ; 14^2)$.\n",
    "\n",
    "Calculer $P(70 \\le X \\le 100)$.\n",
    "\n",
    "- Dans $N(80 ; 14^2)$ : 80 est l'esperance, $μ = 80$, c'est à dire qu'en choisissant un grand nombre de car, en moyenne on a des cars qui ont parcourru 80km ; et 14 (sigma) est l'equart-type, l'équart moyen autour de la moyenne, toujours dans l'idée que l'on choisi un grand nombre de car, l'équart moyen autour de la moyenne serait de 14km.\n",
    "- En général, on utilise directement un logiciel pour calculer la probabilité de $P(70 \\le X \\le 100)$ :"
   ]
  },
  {
   "cell_type": "code",
   "execution_count": 22,
   "id": "2cbeb137-cf0a-4244-94b7-e03f50e04ba1",
   "metadata": {
    "jupyter": {
     "source_hidden": true
    },
    "tags": []
   },
   "outputs": [
    {
     "data": {
      "application/vnd.jupyter.widget-view+json": {
       "model_id": "61d0c8886ac5437b851d9644ce5b1c35",
       "version_major": 2,
       "version_minor": 0
      },
      "text/plain": [
       "interactive(children=(IntSlider(value=500, description='sigma', max=1000, min=1), IntSlider(value=500, descrip…"
      ]
     },
     "metadata": {},
     "output_type": "display_data"
    }
   ],
   "source": [
    "import matplotlib.pyplot as plt\n",
    "import numpy as np\n",
    "from ipywidgets import interact, widgets\n",
    "from scipy.stats import norm\n",
    "\n",
    "def plot_normal_distribution(sigma, mu, xmin, xmax):\n",
    "    x_margin = 50 * sigma\n",
    "    x_left = mu - 50\n",
    "    x_right = mu + 50\n",
    "    x = np.linspace(x_left, x_right, 1000)\n",
    "    y = (1/(sigma*np.sqrt(2*np.pi))) * np.exp(-((x-mu)**2)/(2*sigma**2))\n",
    "    fig, ax = plt.subplots(figsize=(8, 6))\n",
    "    ax.plot(x, y, linewidth=2)\n",
    "    ax.fill_between(x, 0, y, where=(x>=xmin) & (x<=xmax), alpha=0.5, color='violet')\n",
    "    ax.set_xlabel('X')\n",
    "    ax.set_ylabel('Probability Density')\n",
    "    ax.set_title('Normal Distribution')\n",
    "    ax.set_xlim(x_left, x_right)\n",
    "    ax.set_ylim(0, 1/(sigma*np.sqrt(2*np.pi)) * 1.05)\n",
    "    x_range = np.linspace(-5*sigma, 5*sigma, 1000)\n",
    "    prob_left = norm.cdf((xmin-mu)/sigma)\n",
    "    prob_right = norm.cdf((xmax-mu)/sigma)\n",
    "    prob = prob_right - prob_left\n",
    "    result = \"Probability: {:.4f}\".format(prob)\n",
    "    ax.text(0.98, 0.98, result, transform=ax.transAxes, ha='right', va='top')\n",
    "    plt.show()\n",
    "\n",
    "interact(plot_normal_distribution, sigma=(1, 1000, 1), mu=(0, 1000, 1), xmin=(0, 1000, 1), xmax=(0, 1000, 1));\n"
   ]
  },
  {
   "cell_type": "markdown",
   "id": "706efb61-7c0f-4ad3-afb9-458d824c2b8a",
   "metadata": {},
   "source": [
    "On peut entrer dans sigma 14, dans mu 80, dans xmin 70 et dans xmax 100 : le tool nous donne la probabilité 0.6859 ; on a donc 68,59% de chances de tomber sur un car ayant parcouru entre 70 et 100km en prenant un car au hasard qui suit la loi normale $N(80, 14^2)$."
   ]
  },
  {
   "cell_type": "code",
   "execution_count": null,
   "id": "09c27c80-421a-4dfc-bd15-bc9765d4e52b",
   "metadata": {},
   "outputs": [],
   "source": []
  }
 ],
 "metadata": {
  "kernelspec": {
   "display_name": "Python 3 (ipykernel)",
   "language": "python",
   "name": "python3"
  },
  "language_info": {
   "codemirror_mode": {
    "name": "ipython",
    "version": 3
   },
   "file_extension": ".py",
   "mimetype": "text/x-python",
   "name": "python",
   "nbconvert_exporter": "python",
   "pygments_lexer": "ipython3",
   "version": "3.8.15"
  }
 },
 "nbformat": 4,
 "nbformat_minor": 5
}
