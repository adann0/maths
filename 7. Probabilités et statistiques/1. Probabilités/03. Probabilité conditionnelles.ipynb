{
 "cells": [
  {
   "attachments": {
    "8d9364d7-fad9-4d0a-80b0-b00405508039.png": {
     "image/png": "[encoded data removed]"
    }
   },
   "cell_type": "markdown",
   "id": "b5797690-480e-4fee-a884-d1f0710fb216",
   "metadata": {},
   "source": [
    "# Probabilités conditionnelles\n",
    "\n",
    "## Notion de probabilité conditionnelle\n",
    "\n",
    "<span style=\"color: #ff4d4d;\">**Définition** : Soit $A$ et $B$ deux évènements avec $P(A) \\neq 0$. On appelle probabilité conditionnelle de $B$ sachant $A$, la probabilité que l'évènement $B$ se réalise sachant que l'évènement $A$ est réalisé.\n",
    "\n",
    "<span style=\"color: #ff4d4d;\">Elle est notée $P_A(B)$ est est définie par : \n",
    "\n",
    "\\begin{equation}\n",
    "P_B(A) = \\frac{P(A \\cap B)}{P(B)}\n",
    "\\end{equation}\n",
    "\n",
    "_On lit $P_B(A)$ \"la probabilité de A SACHANT B\" ; par exemple \"la probabilité de tirer un trèfle sachant que j'ai tiré un a (1/4)\", ce qui est différent de \"la probabilité de tirer une carte qui soit un as de trèfle (soit un as et soit un trèfle)\" ($P(A \\cap B)$) (1/32)\"._\n",
    "\n",
    "<span style=\"color: #ff4d4d;\">**Propriétés** : Soit $A$ et $B$ deux évènements avec $P(A) \\neq 0$.\n",
    "\n",
    "- $0 \\leq P_A(B) \\leq 1$\n",
    "- $P_A(\\bar{B}) = A - P_A(B)$\n",
    "- $P(A \\cap B) = P(A) \\times P_A(B)$\n",
    "\n",
    "## Arbres de probabilité\n",
    "\n",
    "- <span style=\"color: #ff4d4d;\">**Règle 1** : La somme des probabilités des branches issues d'un même noeud est égale à 1.\n",
    "- <span style=\"color: #ff4d4d;\">**Règle 2** : La probabilité sur l'extrémité d'un chemin est égale au produit des probabilités sur ce chemin.\n",
    "- <span style=\"color: #ff4d4d;\">**Règle 3** (_Formule des probabilités totales_) : La probabilité d'un évènement associé à plusieurs chemins est égale à la somme des probabilités de chacun de ces chemins.\n",
    "\n",
    "![image.png](attachment:8d9364d7-fad9-4d0a-80b0-b00405508039.png)\n",
    "\n",
    "**Exemple** :\n",
    "    \n",
    "_On tire au hasard une boule dans une urne contenant des boules rouges et noires. L'urne contient 40% de boules rouges. Parmi les boules rouges, 75% sont gagnantes. Et 25% de boules sont noires et gagnantes._\n",
    "    \n",
    "_Celon l'énoncé, on peut placer ces différentes informations sur l'arbre. On sait que la probabilité de tirer une boule rouge, que l'on appelera $P(R)$, est de 40%, soit $P(R) = 0.4$, la probabilité de ne pas tirer une boule rouge, c'est a dire de tirer une boule noire est de $P(\\bar{R}) = 1 - P(R) = 0.6$. On sait également que parmi les boules rouges, 75% sont gagnantes, on peut noter $P_R(G) = 0.75$ et $P_R(\\bar{G}) = 0.75$._\n",
    "\n",
    "_On peut donc calculer la probabilité de $P(R \\cap G) = 0.4 \\times 0.75 = 0.3$. On peut également calculer la probabilité de $P(R \\cap \\bar{G}) = 0.4 \\times 0.25 = 0.1$._\n",
    "\n",
    "_L'énoncé nous donne d'ores et déjà la probabilité de tirer une boule noire et gagnante, soit $P(\\bar{R} \\cap G) = 0.25$. La probabilité de $P(\\bar{R} \\cap \\bar{G})$ est donc de $P(\\bar{R} \\cap \\bar{G}) = 1 - 0.4 - 0.3 - 0.1 = 0.2$._\n",
    "\n",
    "_On peut également calculer $P(G) = 0.3 + 0.25 = 0.55$ donc $P_\\bar{R}(G) = \\frac{P(G \\cap \\bar{R})}{P(G)} = \\frac{0.25}{0.55} = 0.45$ et $P_\\bar{R}(\\bar{G}) = 1 - P_\\bar{R}(G) = 0.55$._\n",
    "\n",
    "## Evènements indépendants\n",
    "\n",
    "<span style=\"color: #ff4d4d;\">**Définition** : On dit que deux évènements $A$ et $B$ de probabilité non nulle sont indépendants lorsque $P(A \\cap B) = P(A) \\times P(B)$.\n",
    "\n",
    "<span style=\"color: #ff4d4d;\">$A$ et $B$ sont indépendants, si et seulement si, $P_A(B) = P(B)$ ou $P_B(A) = P(A)$.\n",
    "\n",
    "<span style=\"color: #ff4d4d;\">**Propriété** : Si $A$ et $B$ sont indépendants alors $\\bar{A}$ et $B$ sont indépendants.\n",
    "\n",
    "**Exemple** :\n",
    "\n",
    "_On tire une carte au hasard dans un jeu de 32 cartes. Soit R l'évènement \"On tire un roi\". Soit T l'évènement on tire un trèfle. Les évènements R et T sont-ils indépendants ?_\n",
    "\n",
    "_De par la définition, on sait que $R$ et $T$ sont indépendants, si et seulement si, $P_R(T) = P(T)$ ou $P_T(R) = P(R)$._\n",
    "\n",
    "_On peut donc calculer dans un premier temps P(T), la probabilité de tirer un trèfle dans un jeu de carte est de 1/4 donc $P(T) = \\frac{1}{4}$. On peut aussi calculer P(R), la probabilité de tirer un roi dans un jeu de carte est de 4/32 (il y a 4 rois sur les 32 cartes) donc $P(R) = \\frac{4}{32} = \\frac{1}{8}$._\n",
    "\n",
    "_$P_T(R)$ équivaut à \"Tirer un Roi sachant que c'est un Trèfle\". On sait que si on a tiré un trèfle, on a 1/8 chance de tirer un roi, donc $P_T(R) = \\frac{1}{8}$. On peut aussi le démontrer avec la formule $P_T(R) = \\frac{P(R \\cap T)}{P(T)} = \\frac{\\frac{1}{32}}{\\frac{1}{4}}$_\n",
    "\n",
    "_$P_R(T)$ équivaut à \"Tirer un Trèfle sachant que c'est un Roi\". On sait que si on a tiré un Roi, on a 1/4 chance d'avoir un trèfle, donc $P_R(T) = \\frac{1}{4}$._\n",
    "\n",
    "_On voit que $P_T(R) = P(R)$ donc $R$ et $T$ sont indépendants._\n",
    "\n",
    "_Même question en reprenant l'expérience précédente après avoir ajouté deux jokers au jeu de cartes._\n",
    "\n",
    "_On peut recalculer P(T) et P(R) : $P(T) = \\frac{8}{34}$ et $P(R) = \\frac{4}{34}$._\n",
    "\n",
    "- _$P_T(R) = \\frac{P(R \\cap T)}{P(T)} = \\frac{\\frac{1}{34}}{\\frac{8}{34}}$_"
   ]
  }
 ],
 "metadata": {
  "kernelspec": {
   "display_name": "Python 3 (ipykernel)",
   "language": "python",
   "name": "python3"
  },
  "language_info": {
   "codemirror_mode": {
    "name": "ipython",
    "version": 3
   },
   "file_extension": ".py",
   "mimetype": "text/x-python",
   "name": "python",
   "nbconvert_exporter": "python",
   "pygments_lexer": "ipython3",
   "version": "3.8.15"
  }
 },
 "nbformat": 4,
 "nbformat_minor": 5
}
