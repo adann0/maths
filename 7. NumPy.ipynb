{
 "cells": [
  {
   "cell_type": "markdown",
   "id": "4346843b-d8bd-497c-a1ea-b7b9dd2b66b1",
   "metadata": {},
   "source": [
    "# NumPy\n",
    "\n",
    "NumPy est une bibliothèque pour langage de programmation Python, destinée à manipuler des matrices ou tableaux multidimensionnels ainsi que des fonctions mathématiques opérant sur ces tableaux.\n",
    "\n",
    "Plus précisément, cette bibliothèque logicielle libre et open source fournit de multiples fonctions permettant notamment de créer directement un tableau depuis un fichier ou au contraire de sauvegarder un tableau dans un fichier, et manipuler des vecteurs, matrices et polynômes.\n",
    "\n",
    "NumPy est la base de SciPy, regroupement de bibliothèques Python autour du calcul scientifique.\n",
    "\n",
    "- `np.array()` : permet de convertir une `list` en `numpy.ndarray`."
   ]
  },
  {
   "cell_type": "code",
   "execution_count": 43,
   "id": "e34a7969-46d2-4544-8d2c-e0cb45bd99f1",
   "metadata": {},
   "outputs": [
    {
     "name": "stdout",
     "output_type": "stream",
     "text": [
      "[1 2 3 4]\n",
      "<class 'numpy.ndarray'>\n"
     ]
    }
   ],
   "source": [
    "import numpy as np\n",
    "\n",
    "L = np.array([1, 2, 3, 4])\n",
    "print(L)\n",
    "print(type(L))"
   ]
  },
  {
   "cell_type": "markdown",
   "id": "ee93b0d9-a58c-468a-a86a-806c752f5bdc",
   "metadata": {},
   "source": [
    "On peut constater que dans la sortie, que contrairement à une liste en Python, les éléments ne sont pas séparés par des `,` (virgules).\n",
    "\n",
    "- `np.arange()` : genère un array à partir d'un interval, on peut préciser un pas optionnel ; on s'arrête à l'avant dernier élément."
   ]
  },
  {
   "cell_type": "code",
   "execution_count": 44,
   "id": "aa61d98d-3a52-4cbd-9bf7-9dcc677a0784",
   "metadata": {},
   "outputs": [
    {
     "name": "stdout",
     "output_type": "stream",
     "text": [
      "[1 2 3 4 5 6 7 8 9]\n",
      "[1.  1.5 2.  2.5 3.  3.5 4.  4.5 5.  5.5 6.  6.5 7.  7.5 8.  8.5 9.  9.5]\n"
     ]
    }
   ],
   "source": [
    "L = np.arange(1, 10)\n",
    "print(L)\n",
    "M = np.arange(1, 10, 0.5)\n",
    "print(M)"
   ]
  },
  {
   "cell_type": "markdown",
   "id": "a7052b99-cb5a-4382-9f02-89824bb9dd5a",
   "metadata": {},
   "source": [
    "- `np.linspace()` : Cette fonction permet de génerer un array contenant un interval de nombres, coupés x fois."
   ]
  },
  {
   "cell_type": "code",
   "execution_count": 45,
   "id": "967f5bac-fd89-42f1-abf2-882dc86963a7",
   "metadata": {},
   "outputs": [
    {
     "name": "stdout",
     "output_type": "stream",
     "text": [
      "[0. 1.]\n",
      "[0.  0.5 1. ]\n",
      "[0.         0.33333333 0.66666667 1.        ]\n",
      "[0.   0.25 0.5  0.75 1.  ]\n"
     ]
    }
   ],
   "source": [
    "L = np.linspace(0, 1, num=2)\n",
    "print(L)\n",
    "M = np.linspace(0, 1, num=3)\n",
    "print(M)\n",
    "N = np.linspace(0, 1, num=4)\n",
    "print(N)\n",
    "O = np.linspace(0, 1, num=5)\n",
    "print(O)"
   ]
  },
  {
   "cell_type": "markdown",
   "id": "d21b8825-ef1d-4671-abf9-a1293e80fae7",
   "metadata": {},
   "source": [
    "- `np.zeros()/np.ones()` : permet de créer un vecteurs remplis de x zéros ou de x uns."
   ]
  },
  {
   "cell_type": "code",
   "execution_count": 46,
   "id": "70611a23-ede6-4c20-9d08-0afd158add46",
   "metadata": {},
   "outputs": [
    {
     "name": "stdout",
     "output_type": "stream",
     "text": [
      "[0. 0. 0. 0. 0.]\n",
      "[7. 7. 7. 7. 7.]\n"
     ]
    }
   ],
   "source": [
    "L = np.zeros(5)\n",
    "print(L)\n",
    "M = np.ones(5) * 7\n",
    "print(M)"
   ]
  },
  {
   "cell_type": "markdown",
   "id": "87c7d65a-488e-4368-82ef-fd677fa167e9",
   "metadata": {},
   "source": [
    "- `np.random.random()` : permet de créer un vecteurs remplis de x nombres compris entre 0 et 1 tirés au hasard."
   ]
  },
  {
   "cell_type": "code",
   "execution_count": 70,
   "id": "6f96ade1-20f5-4945-be52-244dbb796df9",
   "metadata": {},
   "outputs": [
    {
     "name": "stdout",
     "output_type": "stream",
     "text": [
      "[0.54047586 0.44771476 0.81105775]\n"
     ]
    }
   ],
   "source": [
    "L = np.random.random(3)\n",
    "print(L)"
   ]
  },
  {
   "cell_type": "markdown",
   "id": "c8436ccd-637e-48ae-a569-ce4b92dbd573",
   "metadata": {},
   "source": [
    "- `np.sin(), np.cos(), np.tan(), ...` : ces fonctions permettent d'appliquer des fonctions mathématiques à un array."
   ]
  },
  {
   "cell_type": "code",
   "execution_count": 71,
   "id": "6f37548f-b2ca-40ca-8fb5-36b133f5048d",
   "metadata": {},
   "outputs": [
    {
     "name": "stdout",
     "output_type": "stream",
     "text": [
      "[-10  -9  -8  -7  -6  -5  -4  -3  -2]\n",
      "[10  9  8  7  6  5  4  3  2]\n"
     ]
    }
   ],
   "source": [
    "L = np.arange(-10, -1)\n",
    "print(L)\n",
    "print(np.abs(L))"
   ]
  },
  {
   "cell_type": "markdown",
   "id": "301091da-db5e-4aa3-9175-a8d5d2a3ba1a",
   "metadata": {},
   "source": [
    "On a :\n",
    "\n",
    "- `np.sqrt()` : racine carré\n",
    "- `np.exp()` : exponentielle\n",
    "- `np.log()` : logarithme\n",
    "- `np.abs()` : valeur absolue\n",
    "- `np.sin()` : sinus\n",
    "- `np.cos()` : cosinus\n",
    "- `np.tan()` : tangente\n",
    "- `np.sinh()` : sinus hyperbolique\n",
    "- `np.cosh()` : cosinus hyperbolique\n",
    "- `np.tanh()` : tangente hyperbolique\n",
    "- `np.sign()` : signe"
   ]
  },
  {
   "cell_type": "markdown",
   "id": "58d12c6f-953b-46b2-a3ab-eed7fea95ab0",
   "metadata": {},
   "source": [
    "## Opérations sur les Tableau (Array)\n",
    "\n",
    "On peut facilement effectuer des opérations sur tout les éléments d'un `np.ndarray` :"
   ]
  },
  {
   "cell_type": "code",
   "execution_count": 72,
   "id": "e71080a5-01fd-453a-b7f0-9c7e531c5252",
   "metadata": {},
   "outputs": [
    {
     "name": "stdout",
     "output_type": "stream",
     "text": [
      "[2 4 6 8]\n",
      "[2 3 4 5]\n",
      "[ 1  4  9 16]\n"
     ]
    }
   ],
   "source": [
    "X = np.array([1, 2, 3, 4])\n",
    "print(X*2)\n",
    "print(X+1)\n",
    "print(X**2) # puissance n"
   ]
  },
  {
   "cell_type": "markdown",
   "id": "ea364f02-5b8e-402a-b9ff-14aaee86a306",
   "metadata": {},
   "source": [
    "On peut également faire la **somme** de tout les éléments d'un tableau :"
   ]
  },
  {
   "cell_type": "code",
   "execution_count": 73,
   "id": "fa60b0b7-c22f-4958-9fdb-6c551a7b3647",
   "metadata": {},
   "outputs": [
    {
     "name": "stdout",
     "output_type": "stream",
     "text": [
      "10\n"
     ]
    }
   ],
   "source": [
    "print(np.sum(X))"
   ]
  },
  {
   "cell_type": "markdown",
   "id": "ce4ee9e2-9f2e-4ea5-b93a-6911da531eff",
   "metadata": {},
   "source": [
    "On peut aussi faire la somme ou le produit de deux tableau :"
   ]
  },
  {
   "cell_type": "code",
   "execution_count": 50,
   "id": "7ebde85c-59b2-4018-b15b-b5adc931452a",
   "metadata": {},
   "outputs": [
    {
     "name": "stdout",
     "output_type": "stream",
     "text": [
      "[3 5 7 9]\n",
      "[ 2  6 12 20]\n"
     ]
    }
   ],
   "source": [
    "Y = np.array([2, 3, 4, 5])\n",
    "\n",
    "print(X+Y)\n",
    "print(X*Y)"
   ]
  },
  {
   "cell_type": "markdown",
   "id": "57e3ebda-4473-4b9e-ad55-b17fe13503bd",
   "metadata": {},
   "source": [
    "Ou bien afficher la valeur **minimale/maximale** présente dans la liste :"
   ]
  },
  {
   "cell_type": "code",
   "execution_count": 51,
   "id": "3348646e-d3df-4011-aa04-76d7cd41a037",
   "metadata": {},
   "outputs": [
    {
     "name": "stdout",
     "output_type": "stream",
     "text": [
      "4\n"
     ]
    }
   ],
   "source": [
    "print(np.max(X))"
   ]
  },
  {
   "cell_type": "code",
   "execution_count": 52,
   "id": "86500fb2-449b-4892-8d24-b60a0de408a9",
   "metadata": {},
   "outputs": [
    {
     "name": "stdout",
     "output_type": "stream",
     "text": [
      "1\n"
     ]
    }
   ],
   "source": [
    "print(np.min(X))"
   ]
  },
  {
   "cell_type": "markdown",
   "id": "380c10f9-2422-4aa6-a003-6c7728ef425a",
   "metadata": {},
   "source": [
    "## Accès sur les Arrays\n",
    "\n",
    "L'accès aux arrays NumPy se fait comme les listes en Python."
   ]
  },
  {
   "cell_type": "code",
   "execution_count": 53,
   "id": "8148f171-26b9-4a91-b434-e57b2d1883a2",
   "metadata": {},
   "outputs": [
    {
     "name": "stdout",
     "output_type": "stream",
     "text": [
      "[0.         0.33333333 0.66666667 1.        ]\n"
     ]
    }
   ],
   "source": [
    "L = np.linspace(0, 1, 4)\n",
    "print(L)"
   ]
  },
  {
   "cell_type": "code",
   "execution_count": 54,
   "id": "279279d5-94cc-4899-9ca8-da6800b29664",
   "metadata": {},
   "outputs": [
    {
     "name": "stdout",
     "output_type": "stream",
     "text": [
      "0.0\n"
     ]
    }
   ],
   "source": [
    "print(L[0])"
   ]
  },
  {
   "cell_type": "code",
   "execution_count": 55,
   "id": "85fb2506-d54d-4561-818b-f0338e177b9a",
   "metadata": {},
   "outputs": [
    {
     "name": "stdout",
     "output_type": "stream",
     "text": [
      "0.3333333333333333\n"
     ]
    }
   ],
   "source": [
    "print(L[1])"
   ]
  },
  {
   "cell_type": "code",
   "execution_count": 56,
   "id": "71274f81-8858-45f2-af72-e9b23d226ee4",
   "metadata": {},
   "outputs": [
    {
     "name": "stdout",
     "output_type": "stream",
     "text": [
      "1.0\n"
     ]
    }
   ],
   "source": [
    "print(L[-1])"
   ]
  },
  {
   "cell_type": "code",
   "execution_count": 57,
   "id": "27ba73c3-c3fd-4306-90df-8cecdc2c5f46",
   "metadata": {},
   "outputs": [
    {
     "name": "stdout",
     "output_type": "stream",
     "text": [
      "[0.33333333 0.66666667 1.        ]\n"
     ]
    }
   ],
   "source": [
    "print(L[1:])"
   ]
  },
  {
   "cell_type": "code",
   "execution_count": 58,
   "id": "0cc5f9fe-c38a-4f3e-a354-d4ee4bb3b8c6",
   "metadata": {},
   "outputs": [
    {
     "name": "stdout",
     "output_type": "stream",
     "text": [
      "[0.         0.33333333 0.66666667]\n"
     ]
    }
   ],
   "source": [
    "print(L[:-1])"
   ]
  },
  {
   "cell_type": "code",
   "execution_count": 59,
   "id": "8fcce22e-6dd3-4881-ba24-e9e064bbc739",
   "metadata": {},
   "outputs": [
    {
     "name": "stdout",
     "output_type": "stream",
     "text": [
      "[0.33333333 0.66666667]\n"
     ]
    }
   ],
   "source": [
    "print(L[1:-1])"
   ]
  },
  {
   "cell_type": "code",
   "execution_count": 60,
   "id": "ef60d577-8694-4e69-907f-9d21beb65ccc",
   "metadata": {},
   "outputs": [
    {
     "name": "stdout",
     "output_type": "stream",
     "text": [
      "0.0\n",
      "0.3333333333333333\n",
      "0.6666666666666666\n",
      "1.0\n"
     ]
    }
   ],
   "source": [
    "for x in L : print(x)"
   ]
  },
  {
   "cell_type": "code",
   "execution_count": 61,
   "id": "b96f9626-aeea-4878-ba38-efc3e2d285aa",
   "metadata": {},
   "outputs": [
    {
     "name": "stdout",
     "output_type": "stream",
     "text": [
      "0 0.0\n",
      "1 0.3333333333333333\n",
      "2 0.6666666666666666\n",
      "3 1.0\n"
     ]
    }
   ],
   "source": [
    "for k in range(len(L)) : print(k, L[k])"
   ]
  },
  {
   "cell_type": "code",
   "execution_count": null,
   "id": "eb30e009-77d7-4ba0-a9f5-9c0f19bec461",
   "metadata": {},
   "outputs": [],
   "source": []
  }
 ],
 "metadata": {
  "kernelspec": {
   "display_name": "Python 3 (ipykernel)",
   "language": "python",
   "name": "python3"
  },
  "language_info": {
   "codemirror_mode": {
    "name": "ipython",
    "version": 3
   },
   "file_extension": ".py",
   "mimetype": "text/x-python",
   "name": "python",
   "nbconvert_exporter": "python",
   "pygments_lexer": "ipython3",
   "version": "3.8.15"
  }
 },
 "nbformat": 4,
 "nbformat_minor": 5
}
