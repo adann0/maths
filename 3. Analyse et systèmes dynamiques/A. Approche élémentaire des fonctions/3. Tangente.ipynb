{
 "cells": [
  {
   "cell_type": "markdown",
   "id": "42c7dd30-7d03-4026-a846-39fa6fd920a7",
   "metadata": {},
   "source": [
    "# Tangente\n",
    "\n",
    "\n",
    "### Calculs de tangente \n",
    "\n",
    "#### Tangente à un graphe de fonction numérique\n",
    "\n",
    "Ici f est une fonction définie sur un intervalle de la forme $] a − α , a + α [ , α > 0 $, à valeurs réelles. On se préoccupe de savoir si le graphe, d'équation $y = f(x)$, admet une tangente au point _A_ de coordonnées $(a,f(a))$.\n",
    "\n",
    "![](https://upload.wikimedia.org/wikipedia/commons/2/21/Tangente_en_a.png)\n",
    "\n",
    "La sécante entre les points d'abscisse $a$ et $a+h$ est la droite passant par _A_ et de pente $p(h)={\\frac {f(a+h)-f(a)}{h}}$, qui est un taux de variation de $f$. Il y a trois possibilités :\n",
    "\n",
    "- si $p(h)$ admet une limite finie $p$ lorsque $h$ tend vers 0, il y a une tangente : la droite passant par _A_ et de pente _p_. La fonction est alors dérivable et la pente de la tangente est la valeur de la dérivée. L'équation de cette tangente est alors :\n",
    "\n",
    "${\\displaystyle y=f'(a)(x-a)+f(a)}$ ;\n",
    "\n",
    "- si $p(h)$ admet une limite infinie, il y a une tangente : la droite d'équation $x = a$. Cela se produit par exemple pour la fonction $f(x)={\\sqrt {|x|}}$ en $a = 0$ ;\n",
    "- sinon (s'il n'y a pas de limite), il n'y a pas de tangente.\n",
    "\n",
    "Pour plus d'informations : https://fr.wikipedia.org/wiki/Tangente_(g%C3%A9om%C3%A9trie)\n"
   ]
  }
 ],
 "metadata": {
  "kernelspec": {
   "display_name": "Python 3 (ipykernel)",
   "language": "python",
   "name": "python3"
  },
  "language_info": {
   "codemirror_mode": {
    "name": "ipython",
    "version": 3
   },
   "file_extension": ".py",
   "mimetype": "text/x-python",
   "name": "python",
   "nbconvert_exporter": "python",
   "pygments_lexer": "ipython3",
   "version": "3.8.15"
  }
 },
 "nbformat": 4,
 "nbformat_minor": 5
}
