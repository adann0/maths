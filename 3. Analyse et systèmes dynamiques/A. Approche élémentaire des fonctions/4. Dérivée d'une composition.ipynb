{
 "cells": [
  {
   "cell_type": "markdown",
   "id": "696a7a2a-593d-49df-94c7-e3052debbbf0",
   "metadata": {},
   "source": [
    "# Dérivée d'une composition\n",
    "\n",
    "On va ici voir comment dérivée une composition pour les fonctions avec une seule variable.\n",
    "\n",
    "On part de deux fonctions, $f$ et $g$ :\n",
    "\n",
    "$f : \\mathbb{R} \\mapsto \\mathbb{R}$\n",
    "\n",
    "$g : \\mathbb{R} \\mapsto \\mathbb{R}$\n",
    "\n",
    "On défini une troisième fonction $F$ :\n",
    "\n",
    "$F = g \\circ f$\n",
    "\n",
    "Qui est définie de la façon suivante :\n",
    "\n",
    "$F(x) = g \\circ f(x) = g(f(x))$\n",
    "\n",
    "Ce qui donne :\n",
    "\n",
    "$x \\mapsto y = f(x) \\mapsto z = g(y) = g(f(x))$\n",
    "\n",
    "On a bien la fonction $f$ qui est appliquée avant la fonction $g$.\n",
    "\n",
    "**Proposition** : $(g \\circ f)'(x) = g'(f(x)) * f'(x)$\n",
    "\n",
    "Cette formule sera utilisé pour calculer les paramètres dans un réseau de neurones.\n",
    "\n"
   ]
  },
  {
   "cell_type": "code",
   "execution_count": null,
   "id": "40a8c11e-1096-4ee7-a058-8f6f30eb799e",
   "metadata": {},
   "outputs": [],
   "source": []
  }
 ],
 "metadata": {
  "kernelspec": {
   "display_name": "Python 3 (ipykernel)",
   "language": "python",
   "name": "python3"
  },
  "language_info": {
   "codemirror_mode": {
    "name": "ipython",
    "version": 3
   },
   "file_extension": ".py",
   "mimetype": "text/x-python",
   "name": "python",
   "nbconvert_exporter": "python",
   "pygments_lexer": "ipython3",
   "version": "3.8.15"
  }
 },
 "nbformat": 4,
 "nbformat_minor": 5
}
