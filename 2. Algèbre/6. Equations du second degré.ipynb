{
 "cells": [
  {
   "cell_type": "markdown",
   "id": "c43a4c8c-242c-47d5-a592-bb618bea000d",
   "metadata": {},
   "source": [
    "# Equations du second degré\n",
    "\n",
    "\\begin{equation}\n",
    "ax^2 + bx + c = 0\n",
    "\\end{equation}\n",
    "\n",
    "ou $a$, $b$ et $c$ sont des réels avec $a ≠ 0$.\n",
    "\n",
    "Une solution de cette équation s'appelle une **racine** du trinôme $ax^2 + bx + c$.\n",
    "\n",
    "**Discriminant** du trinôme $ax^2 + bx + c$ :\n",
    "\n",
    "\\begin{equation}\n",
    "Δ = b^2 - 4ac\n",
    "\\end{equation}\n",
    "\n",
    "- Si Δ > 0 : L'équation $ax^2 + bx +c = 0$ n'a pas de solution réelle.\n",
    "- Si Δ = 0 : L'équation $ax^2 + bx + c = 0$ a une unique solution : $x_0 = \\frac{-b}{2a}$.\n",
    "- Si Δ < 0 : L'équation $ax^2 + bx + c = 0$ a deux solutions distinctes : $x_1 = \\frac{-b-\\sqrt{Δ}}{2a}$ et $x_2 = \\frac{-b+\\sqrt{Δ}}{2a}$.\n",
    "\n",
    "## Factorisation d'un trinôme\n",
    "\n",
    "\\begin{equation}\n",
    "f(x) = ax^2 + bx + c\n",
    "\\end{equation}\n",
    "\n",
    "- Si Δ = 0 : Pour tout réel $x$, on a : $f(x) = a(x - x_0)^2$.\n",
    "- Si Δ > 0 : Pour tout réel $x$, on a : $f(x) = a(x - x_1)(x - x_2)$.\n",
    "- Si Δ < 0 : il n'existe pas de forme factorisée de $f$ _(enfin pas encore)_.\n",
    "\n",
    "## Signe d'un trinôme\n",
    "\n",
    "- si $a > 0$, sa représentation graphique est une parabole tournée vers le haut.\n",
    "- si $a < 0$, sa représentation graphique est une parabole tournée vers le bas.\n",
    "\n"
   ]
  },
  {
   "cell_type": "code",
   "execution_count": null,
   "id": "55563b31-1ac0-41a9-aab6-7c5e9d0190a0",
   "metadata": {},
   "outputs": [],
   "source": [
    "## "
   ]
  }
 ],
 "metadata": {
  "kernelspec": {
   "display_name": "Python 3 (ipykernel)",
   "language": "python",
   "name": "python3"
  },
  "language_info": {
   "codemirror_mode": {
    "name": "ipython",
    "version": 3
   },
   "file_extension": ".py",
   "mimetype": "text/x-python",
   "name": "python",
   "nbconvert_exporter": "python",
   "pygments_lexer": "ipython3",
   "version": "3.8.15"
  }
 },
 "nbformat": 4,
 "nbformat_minor": 5
}
