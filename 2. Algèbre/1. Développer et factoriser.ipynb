{
 "cells": [
  {
   "cell_type": "markdown",
   "id": "e68c3359-0f15-40f0-babd-bd3175d26caa",
   "metadata": {
    "tags": []
   },
   "source": [
    "# Développer et factoriser\n",
    "\n",
    "## Distributivité\n",
    "\n",
    "**Règle de base** — Si a, b et c sont trois éléments d'un anneau, alors :\n",
    "\n",
    "\\begin{equation}\n",
    "{\\displaystyle a(b+c)=ab+ac\\quad {\\textrm {et}}\\quad (a+b)c=ac+bc}. \\\\\n",
    "{\\displaystyle a(b-c)=ab-ac\\quad {\\textrm {et}}\\quad (a-b)c=ac-bc}.\n",
    "\\end{equation}\n",
    "\n",
    "**Produit de sommes** — Si a, b, c et d sont quatre éléments d'un anneau, alors :\n",
    "\n",
    "\\begin{equation}\n",
    "(a+b)(c+d)=ac+ad+bc+bd.\n",
    "\\end{equation}\n",
    "\n",
    "## Identités remarquables\n",
    "\n",
    "Les trois identités remarquables du second degré sont :\n",
    "\n",
    "\\begin{equation}\n",
    "{\\displaystyle (a+b)^{2}=a^{2}+2ab+b^{2}} \\\\\n",
    "{\\displaystyle (a-b)^2 = a^2 - 2ab + b^2} \\\\\n",
    "{\\displaystyle (a+b)(a-b)=a^{2}-b^{2}}\n",
    "\\end{equation}\n",
    "\n",
    "## Exemples\n",
    "\n",
    "En developpant :\n",
    "\n",
    "- $-3(-2x + 4) = 3*2x-3*4 = 6x-12$\n",
    "- $-x(2-3x) = -x*2+x*3x = -2x+3x^2$\n",
    "- $-(4-x) = -4 + x = x - 4$\n",
    "- $(4-x)^2 = 4^2 - 2 * 4 * x + x^2 = 16 -8x + x^2$\n",
    "\n",
    "En factorisant ; il faut récuperer le **facteur commun** dans l'expression. Dans le premier exemple on voit que $x$ est le facteur commun de $7x - 4x$, ; dans le second exemple, on peut $6$ comme facteur commun car il est également un multiple de $12$ ; dans le troisième exemple on voit que $(1+x)$ est le facteur commun de l'expression $(1+x)(2-x)+2(1+x) = (1+x)(2-x)+(1+x)(1+x) = ab + ac$; et dans le quatrième exemple on sait que $\\sqrt{49}=7$ ; et que $7^2=49$, donc on peut utiliser une identité remarquable pour factoriser :\n",
    "\n",
    "- $7x - 4x = x(7 - 4) = x * (7 - 4) = x * 3 = 3x$\n",
    "- $6x + 12y = 6(x + 2y)$\n",
    "- $(1+x)(2-x) + 2(1+x) = (1+x)(2-x + 2) = (1+x)(4-x)$\n",
    "- $49-x^2 = 7^2 - x^2 = (7+x)(7-x)$"
   ]
  }
 ],
 "metadata": {
  "kernelspec": {
   "display_name": "Python 3 (ipykernel)",
   "language": "python",
   "name": "python3"
  },
  "language_info": {
   "codemirror_mode": {
    "name": "ipython",
    "version": 3
   },
   "file_extension": ".py",
   "mimetype": "text/x-python",
   "name": "python",
   "nbconvert_exporter": "python",
   "pygments_lexer": "ipython3",
   "version": "3.8.15"
  }
 },
 "nbformat": 4,
 "nbformat_minor": 5
}
