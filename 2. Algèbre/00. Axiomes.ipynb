{
 "cells": [
  {
   "cell_type": "markdown",
   "id": "2a2a3f50-70ad-4f8c-81e1-fa9e7a3510b7",
   "metadata": {},
   "source": [
    "# Axiomes\n",
    "\n",
    "\\begin{equation}\n",
    "a + b - b = a \\\\\n",
    "\\frac{a}{b} \\cdot b= a \\\\\n",
    "\\frac{ab}{b} + \\frac{b^2}{b} = a + b\n",
    "\\end{equation}\n",
    "\n",
    "## Calculs de fractions\n",
    "\n",
    "### Additions/Soustractions\n",
    "\n",
    "Il suffit de mettre au même dénominateur.\n",
    "\n",
    "- $A = \\frac{-3}{4} - \\frac{5}{6} + 2$\n",
    "- $A = \\frac{6 \\times -3}{6 \\times 4} - \\frac{4 \\times 5}{4 \\times 6} + \\frac{24 \\times 2}{24}$\n",
    "- $A = \\frac{-18}{24} - \\frac{20}{24} + \\frac{48}{24}$\n",
    "- $A = \\frac{-18-20+48}{24}$\n",
    "- $A = \\frac{10}{24} = \\frac{5}{12}$\n",
    "\n",
    "### Multiplications\n",
    "\n",
    "Les multiplications de fractions s'effectuent en ligne.\n",
    "\n",
    "- $B = \\frac{25}{-4} \\times {-3}{35}$\n",
    "- $B = \\frac{25 \\times (-3)}{-4 \\times 35}$"
   ]
  },
  {
   "cell_type": "code",
   "execution_count": null,
   "id": "852e8eca-91e5-4b39-9024-c91ddd15726d",
   "metadata": {},
   "outputs": [],
   "source": []
  }
 ],
 "metadata": {
  "kernelspec": {
   "display_name": "Python 3 (ipykernel)",
   "language": "python",
   "name": "python3"
  },
  "language_info": {
   "codemirror_mode": {
    "name": "ipython",
    "version": 3
   },
   "file_extension": ".py",
   "mimetype": "text/x-python",
   "name": "python",
   "nbconvert_exporter": "python",
   "pygments_lexer": "ipython3",
   "version": "3.8.15"
  }
 },
 "nbformat": 4,
 "nbformat_minor": 5
}
