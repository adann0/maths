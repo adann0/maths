{
 "cells": [
  {
   "cell_type": "markdown",
   "id": "b83d5a5f-c2ab-4660-9a62-9b8c8321b046",
   "metadata": {},
   "source": [
    "# Congruences\n",
    "\n",
    "$a ≡ b[n]$ signifie $a - b$ est un multiple de $n$.\n",
    "\n",
    "$a$ **divise** $n$ s'il existe un entier relatif $k$ tel que $b = kn$.\n",
    "\n"
   ]
  },
  {
   "cell_type": "code",
   "execution_count": null,
   "id": "b0556da0-9fff-40fb-926c-e0fff3131f83",
   "metadata": {},
   "outputs": [],
   "source": []
  }
 ],
 "metadata": {
  "kernelspec": {
   "display_name": "Python 3 (ipykernel)",
   "language": "python",
   "name": "python3"
  },
  "language_info": {
   "codemirror_mode": {
    "name": "ipython",
    "version": 3
   },
   "file_extension": ".py",
   "mimetype": "text/x-python",
   "name": "python",
   "nbconvert_exporter": "python",
   "pygments_lexer": "ipython3",
   "version": "3.8.15"
  }
 },
 "nbformat": 4,
 "nbformat_minor": 5
}
