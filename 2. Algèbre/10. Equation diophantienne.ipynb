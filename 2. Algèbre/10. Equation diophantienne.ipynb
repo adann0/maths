{
 "cells": [
  {
   "cell_type": "markdown",
   "id": "92077248-76a6-4514-9a91-441e59c6369a",
   "metadata": {},
   "source": [
    "# Équation diophantienne\n",
    "\n",
    "Equation diophantienne :\n",
    "\n",
    "$ax + by + c$, avec $a$, $b$ et $c$ entiers relatifs.\n",
    "\n"
   ]
  },
  {
   "cell_type": "code",
   "execution_count": null,
   "id": "81a83469-d7fa-4e5f-9880-6d95b7354710",
   "metadata": {},
   "outputs": [],
   "source": []
  }
 ],
 "metadata": {
  "kernelspec": {
   "display_name": "Python 3 (ipykernel)",
   "language": "python",
   "name": "python3"
  },
  "language_info": {
   "codemirror_mode": {
    "name": "ipython",
    "version": 3
   },
   "file_extension": ".py",
   "mimetype": "text/x-python",
   "name": "python",
   "nbconvert_exporter": "python",
   "pygments_lexer": "ipython3",
   "version": "3.8.15"
  }
 },
 "nbformat": 4,
 "nbformat_minor": 5
}
