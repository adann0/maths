{
 "cells": [
  {
   "cell_type": "markdown",
   "id": "aad4c58e-2de9-4344-afb8-7e3846a6cbc6",
   "metadata": {},
   "source": [
    "# Factorielle\n",
    "\n",
    "La **factorielle** d'un entier naturel _n_ est le produit des nombres entiers strictement positifs inférieurs ou égaux à _n_. \n",
    "\n",
    "Cette opération est notée avec un point d'exclamation, _n_!, ce qui se lit soit « factorielle de n », soit « factorielle n », soit « n factorielle ».\n",
    "\n",
    "Par exemple, la factorielle 10 exprime le nombre de combinaisons possibles de placement des 10 convives autour d'une table (on dit la permutation des convives). Le premier convive s'installe sur l'une des 10 places à sa disposition. Chacun de ses 10 placements ouvre 9 nouvelles possibilités pour le deuxième convive, celles-ci 8 pour le troisième, et ainsi de suite. \n",
    "\n",
    "La factorielle joue un rôle important en **algèbre combinatoire** parce qu'il y a _n_! façons différentes de permuter _n_ objets. Elle apparaît dans de nombreuses formules en mathématiques, comme la formule du binôme et la formule de Taylor.\n",
    "\n",
    "## Définition\n",
    "\n",
    "Soit n un entier naturel. Sa factorielle est formellement définie par :\n",
    "\n",
    "\\begin{equation}\n",
    "{\\displaystyle n!=\\prod _{i}^{n}i=1\\times 2\\times 3\\times \\ldots \\times (n-1)\\times n\\quad n\\in \\mathbb {N} }\n",
    "\\end{equation}\n",
    "\n",
    "Par exemple :\n",
    "\n",
    "- 1! = 1\n",
    "- 2! = 1 × 2 = 2\n",
    "- 3! = 1 × 2 × 3 = 6\n",
    "- 4! = 1 × 2 × 3 × 4 = 24\n",
    "- 10! = 1 × 2 × 3 × 4 × 5 × 6 × 7 × 8 × 9 × 10 = 3 628 800\n"
   ]
  },
  {
   "cell_type": "code",
   "execution_count": null,
   "id": "2c4274d6-c0f7-4544-845e-838e5521af30",
   "metadata": {},
   "outputs": [],
   "source": []
  }
 ],
 "metadata": {
  "kernelspec": {
   "display_name": "Python 3 (ipykernel)",
   "language": "python",
   "name": "python3"
  },
  "language_info": {
   "codemirror_mode": {
    "name": "ipython",
    "version": 3
   },
   "file_extension": ".py",
   "mimetype": "text/x-python",
   "name": "python",
   "nbconvert_exporter": "python",
   "pygments_lexer": "ipython3",
   "version": "3.8.15"
  }
 },
 "nbformat": 4,
 "nbformat_minor": 5
}
