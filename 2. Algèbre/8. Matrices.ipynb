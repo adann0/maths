{
 "cells": [
  {
   "cell_type": "markdown",
   "id": "d9fc0748-2512-48e6-94c7-1df17364a08c",
   "metadata": {},
   "source": [
    "# Matrices\n",
    "\n",
    "Todo : https://www.youtube.com/playlist?list=PLdz4lhk1rRmOfOM6gVUxLUGxXH0pfYiSh"
   ]
  }
 ],
 "metadata": {
  "kernelspec": {
   "display_name": "Python 3 (ipykernel)",
   "language": "python",
   "name": "python3"
  },
  "language_info": {
   "codemirror_mode": {
    "name": "ipython",
    "version": 3
   },
   "file_extension": ".py",
   "mimetype": "text/x-python",
   "name": "python",
   "nbconvert_exporter": "python",
   "pygments_lexer": "ipython3",
   "version": "3.8.15"
  }
 },
 "nbformat": 4,
 "nbformat_minor": 5
}
