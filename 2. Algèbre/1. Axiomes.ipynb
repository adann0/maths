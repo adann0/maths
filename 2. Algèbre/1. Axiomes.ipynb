{
 "cells": [
  {
   "cell_type": "markdown",
   "id": "2a2a3f50-70ad-4f8c-81e1-fa9e7a3510b7",
   "metadata": {},
   "source": [
    "# Axiomes\n",
    "\n",
    "\\begin{equation}\n",
    "a + b - b = a \\\\\n",
    "\\frac{a}{b} \\cdot b= a \\\\\n",
    "\\frac{ab}{b} + \\frac{b^2}{b} = a + b\n",
    "\\end{equation}"
   ]
  },
  {
   "cell_type": "code",
   "execution_count": null,
   "id": "852e8eca-91e5-4b39-9024-c91ddd15726d",
   "metadata": {},
   "outputs": [],
   "source": []
  }
 ],
 "metadata": {
  "kernelspec": {
   "display_name": "Python 3 (ipykernel)",
   "language": "python",
   "name": "python3"
  },
  "language_info": {
   "codemirror_mode": {
    "name": "ipython",
    "version": 3
   },
   "file_extension": ".py",
   "mimetype": "text/x-python",
   "name": "python",
   "nbconvert_exporter": "python",
   "pygments_lexer": "ipython3",
   "version": "3.8.15"
  }
 },
 "nbformat": 4,
 "nbformat_minor": 5
}
