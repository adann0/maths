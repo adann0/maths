{
 "cells": [
  {
   "cell_type": "markdown",
   "id": "18b8b64d-8e20-4efa-8d32-4911edf268bd",
   "metadata": {},
   "source": [
    "# Opérations sur les puissances\n",
    "\n",
    "\\begin{equation}\n",
    "a^n = a \\times a \\times \\dots \\times a \\\\\n",
    "\\end{equation}\n",
    "\n",
    "- $a^1 = a$\n",
    "- $a^0 = 1$\n",
    "- $0^p = 0$\n",
    "- $1^p = 1$\n",
    "\n",
    "Attention aux parenthèses avec les puissances :\n",
    "\n",
    "- $(-3)^4 = (-3) \\times (-3) \\times (-3) \\times (-3) = 81$\n",
    "- $-3^4 = -(3 \\times 3 \\times 3 \\times 3) = -81$\n",
    "\n",
    "\\begin{equation}\n",
    "a^n \\times a^p = a^{n+p} \\\\\n",
    "\\frac{a^n}{a^p} = a^{n-p} \\\\\n",
    "(a^n)^p = a^{n \\times p} \\\\\n",
    "(a \\times b)^n = a^n \\times b^n \\\\\n",
    "a^{-1} = \\frac{1}{a} \\\\\n",
    "a^{-n} = \\frac{1}{a^n} \\\\\n",
    "\\end{equation}"
   ]
  },
  {
   "cell_type": "code",
   "execution_count": null,
   "id": "b33c1016-8a08-4e21-98f7-6f769c2c2caf",
   "metadata": {},
   "outputs": [],
   "source": []
  }
 ],
 "metadata": {
  "kernelspec": {
   "display_name": "Python 3 (ipykernel)",
   "language": "python",
   "name": "python3"
  },
  "language_info": {
   "codemirror_mode": {
    "name": "ipython",
    "version": 3
   },
   "file_extension": ".py",
   "mimetype": "text/x-python",
   "name": "python",
   "nbconvert_exporter": "python",
   "pygments_lexer": "ipython3",
   "version": "3.8.15"
  }
 },
 "nbformat": 4,
 "nbformat_minor": 5
}
