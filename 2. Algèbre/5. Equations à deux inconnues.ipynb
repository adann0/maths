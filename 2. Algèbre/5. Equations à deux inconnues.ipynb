{
 "cells": [
  {
   "cell_type": "markdown",
   "id": "0c3fc576-a1cd-4b79-823b-d9d5b471c202",
   "metadata": {},
   "source": [
    "# Equations à deux inconnues\n",
    "\n",
    "Si on prend ce système d'équations :\n",
    "\n",
    "${\\displaystyle {\\begin{cases}3x+y=5\\\\4x-y=9\\end{cases}}}$\n",
    "\n",
    "Dans un premier temps, il faut prendre une des deux équations du système pour récuperer la valeur de $y$ :\n",
    "\n",
    "- $4x - y = 9 \\Longleftrightarrow 4x - 9 = y$\n",
    "\n",
    "On peut alors substituer la valeur de $y$ dans le système par $4x - 9$ pour avoir une équation à une inconnue :\n",
    "\n",
    "- $3x + y = 5 \\Longleftrightarrow 3x + 4x - 9 = 5$\n",
    "\n",
    "On peut comme cela résoudre la première équation du système pour trouver la valeur de $x$ :\n",
    "\n",
    "- $3x + 4x = 5 + 9$\n",
    "- $7x = 14$\n",
    "- $x = \\frac{14}{7} = 2$\n",
    "\n",
    "Puis utiliser la valeur de $x$ pour trouver la valeur de $y$ :\n",
    "\n",
    "- $3x + y = 5$\n",
    "- $3 \\times 2 + y = 5$\n",
    "- $6 + y = 5$\n",
    "- $y = 5 - 6 = -1$\n",
    "\n",
    "On peut vérifier le résultat en remplaçant $x$ et $y$ dans le système original et verifier l'équivalence :\n",
    "\n",
    "${\\displaystyle {\\begin{cases}3 \\times 2 + (-1) = 6 - 1 = 5\\\\4 \\times 2 - (-1) = 8 + 1 = 9\\end{cases}}}$\n"
   ]
  },
  {
   "cell_type": "code",
   "execution_count": null,
   "id": "be15e133-edcd-4120-aa1b-8544d4a9088c",
   "metadata": {},
   "outputs": [],
   "source": []
  }
 ],
 "metadata": {
  "kernelspec": {
   "display_name": "Python 3 (ipykernel)",
   "language": "python",
   "name": "python3"
  },
  "language_info": {
   "codemirror_mode": {
    "name": "ipython",
    "version": 3
   },
   "file_extension": ".py",
   "mimetype": "text/x-python",
   "name": "python",
   "nbconvert_exporter": "python",
   "pygments_lexer": "ipython3",
   "version": "3.8.15"
  }
 },
 "nbformat": 4,
 "nbformat_minor": 5
}
