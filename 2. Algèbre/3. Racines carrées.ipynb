{
 "cells": [
  {
   "cell_type": "markdown",
   "id": "441eceb6-0c6e-44ec-aa63-0dc7aa6a365e",
   "metadata": {},
   "source": [
    "# Opérations sur les racines carrées\n",
    "\n",
    "## Définition\n",
    "\n",
    "- La racine carrée de $a$ est le nombre dont le carré est $a$.\n",
    "- Racine carrée de $a$ se note $\\sqrt{a}$.\n",
    "- $\\sqrt{a} > 0$\n",
    "- Si $a < 0$, $\\sqrt{a}$ n'existe pas !\n",
    "\n",
    "## Formules\n",
    "\n",
    "- Pour un nombre $a$ positif, on a $\\sqrt{a^2} = a$.\n",
    "- Pour un nombre $a$ negatif, on a $\\sqrt{a^2} = -a$.\n",
    "\n",
    "\\begin{equation}\n",
    "\\sqrt{a} \\times \\sqrt{b} = \\sqrt{a \\times b} \\\\\n",
    "\\frac{\\sqrt{a}}{\\sqrt{b}} = \\sqrt{\\frac{a}{b}} \\\\\n",
    "(\\sqrt{a})^2 = a\n",
    "\\end{equation}\n",
    "\n",
    "- $\\sqrt{a} + \\sqrt{b} \\neq \\sqrt{a + b}$\n",
    "- $\\sqrt{a} - \\sqrt{b} \\neq \\sqrt{a - b}$"
   ]
  },
  {
   "cell_type": "code",
   "execution_count": null,
   "id": "37fab57b-89e1-4771-95e2-0a33d3b8dcb5",
   "metadata": {},
   "outputs": [],
   "source": []
  }
 ],
 "metadata": {
  "kernelspec": {
   "display_name": "Python 3 (ipykernel)",
   "language": "python",
   "name": "python3"
  },
  "language_info": {
   "codemirror_mode": {
    "name": "ipython",
    "version": 3
   },
   "file_extension": ".py",
   "mimetype": "text/x-python",
   "name": "python",
   "nbconvert_exporter": "python",
   "pygments_lexer": "ipython3",
   "version": "3.8.15"
  }
 },
 "nbformat": 4,
 "nbformat_minor": 5
}
