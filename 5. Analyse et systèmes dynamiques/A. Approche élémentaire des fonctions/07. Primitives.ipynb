{
 "cells": [
  {
   "cell_type": "markdown",
   "id": "b0bb5b9b-16e3-4dc4-9240-d57cf78570fa",
   "metadata": {},
   "source": [
    "# Primitives\n",
    "\n",
    "Il s'agit de l'opération inverse de la dérivation : si $F(x)$ est une primitive de $f(x)$, alors la dérivée de la primitive $F(x)$, notée $F'(x)$, est égale à la fonction $f(x)$ (la dérivée de la primitive est égale à la fonction originale vu que les deux opérations s'annulent).\n",
    "\n",
    "On dit que une primitive d’une fonction réelle $f$ est une fonction $F$ dont $f$ est la **dérivée** : ${\\displaystyle F'=f}$. \n",
    "\n",
    "En d'autres termes, \n",
    "\n",
    "\\begin{equation}\n",
    "{\\displaystyle \\int _{a}^{b}f(x)\\;\\mathrm {d} x=F(b)-F(a)}\n",
    "\\end{equation}\n",
    "\n",
    "\n",
    "## Méthodes de calcul\n",
    "\n",
    "### Formulaire\n",
    "\n",
    "Chacune des primitives indiquées ici permet de déterminer toutes les autres primitives en ajoutant des constantes (éventuellement différentes d’une composante connexe à l’autre du domaine).\n",
    "\n",
    "<center><b>Primitives élémentaires</b></center>\n",
    "\n",
    "| $f(x)$ | $D_f$ | $F(x)$ |\n",
    "| :---: | :---: | :---: |\n",
    "| $a$ | $\\mathbb{R}$ | $ax$ | \n",
    "| $\\frac{1}{x}$ | $\\mathbb{R}^*$ | $\\ln{|x|}$ |\n",
    "| $x^a$ (avec $a \\neq -1$) | $\\begin{cases} \\mathbb{R} &\\mbox{si } a \\in \\mathbb{N} \\\\ \\mathbb{R}^* &\\mbox{si } a \\in \\mathbb{Z} \\setminus \\mathbb{N} \\\\ \\mathbb{R}_+^* &\\mbox{sinon} \\end{cases}$ | $\\frac{x^{a+1}}{a+1}$ |\n",
    "| $a^x$ (avec $a>0$ et $a\\neq1$) | $\\mathbb{R}$ | $\\frac{a^x}{\\ln{a}}$ |\n",
    "| $\\ln{(x)}$ | $\\mathbb{R}_+^*$ | $x(\\ln{(x)}-1)$ |\n",
    "\n",
    "<br>\n",
    "<center><b>Primitives avec fonctions trigonométriques</b></center>\n",
    "\n",
    "| $f(x)$ | $D$ | $D_f$ | $F(x)$ |\n",
    "|:---------------------------------------:|:----:|:-:|:---:|\n",
    "|            $\\cos(x)$                     |   $R$  | $\\mathbb {R}$ | $\\sin(x)$ |\n",
    "|            $\\sin(x)$                     |   $R$  | $\\mathbb {R}$ | $-cos(x)$ |\n",
    "|    $\\frac{1}{cos^2 x}$                   |  $$R \\backslash \\{\\frac{\\pi}{2} + k \\pi \\mid k\\in \\mathbb{Z}\\}$$ | $\\mathbb{R}$ | $\\tan(x)$ |\n",
    "|  $-\\frac{1}{sin^2 x}$                    |  $R\\backslash\\{k\\pi\\mid k\\in \\mathbb{Z}\\}$ | $\\mathbb{R}$ | $\\cot(x)$ |\n",
    "|            $\\tan(x)$                     |  $R\\backslash\\{\\frac{\\pi}{2}+k\\pi \\mid k\\in \\mathbb{Z}\\}$ | $\\mathbb{R}$ | $-\\ln|\\cos(x)|$ |\n",
    "|            $\\cot(x)$                     |  $R\\backslash\\{k\\pi\\mid k\\in \\mathbb{Z}\\}$ | $\\mathbb{R}$ | $\\ln|\\sin(x)|$ |\n",
    "|     $\\frac{1}{\\sqrt{1-x^2}}$             |  $]-1,1[$ | $\\mathbb{R}$ | $\\arcsin(x)$ |\n",
    "|    $\\frac{1}{1+x^2}$                     |   $R$  | $\\mathbb{R}$ | $\\arctan(x)$ |\n",
    "\n",
    "\n"
   ]
  },
  {
   "cell_type": "code",
   "execution_count": null,
   "id": "c7b195ad-a600-44a7-b8d0-4aea56e2d271",
   "metadata": {},
   "outputs": [],
   "source": []
  },
  {
   "cell_type": "code",
   "execution_count": null,
   "id": "935ed457-a56b-4b2f-ac96-13a11f25a3aa",
   "metadata": {},
   "outputs": [],
   "source": []
  }
 ],
 "metadata": {
  "kernelspec": {
   "display_name": "Python 3 (ipykernel)",
   "language": "python",
   "name": "python3"
  },
  "language_info": {
   "codemirror_mode": {
    "name": "ipython",
    "version": 3
   },
   "file_extension": ".py",
   "mimetype": "text/x-python",
   "name": "python",
   "nbconvert_exporter": "python",
   "pygments_lexer": "ipython3",
   "version": "3.8.15"
  }
 },
 "nbformat": 4,
 "nbformat_minor": 5
}
