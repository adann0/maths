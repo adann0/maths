{
 "cells": [
  {
   "cell_type": "markdown",
   "id": "08f95170-7f27-41c3-b555-66fdfea03944",
   "metadata": {},
   "source": [
    "# La quatrième dimension\n",
    "\n",
    "https://www.youtube.com/watch?v=LQFkUjYzOn8\n",
    "\n",
    "Les différentes dimensions peuvent être représentés de différentes manières. Nous vivons dans un espace en 3 dimensions. Un espace 1 dimension consiste en une ligne droite, ou l'on pourrait uniquement avancer ou reculer (de droite a gauche).\n",
    "\n",
    "Un espace en deux dimensions represente un espace ou l'on pourrait aller de droite a gauche, et de haut en bas. Comme sur un graph d'une fonction.\n",
    "\n",
    "Un espace en trois dimensions ajoute la profondeur. On peut en effet avancer ou reculer.\n",
    "\n",
    "Etant donné que nous vivons dans un espace en 3 dimensions, il est difficile de représenter plus de dimensions.\n",
    "\n",
    "Cependant, des outils existent pour representer ces differentes dimensions :\n",
    "\n",
    "- Le temps (dans une video)\n",
    "- Les couleurs (du rouge au violet)\n",
    "\n",
    "On appel ana et kata les 2 prochaines \"directions\" qui seront découvertes avec la 4eme dimension.\n",
    "\n"
   ]
  },
  {
   "cell_type": "code",
   "execution_count": null,
   "id": "dd6121fb-9423-450c-baa4-628eb43726a1",
   "metadata": {},
   "outputs": [],
   "source": []
  },
  {
   "cell_type": "code",
   "execution_count": null,
   "id": "20d15703-0905-4f2f-9297-10811a6cb5be",
   "metadata": {},
   "outputs": [],
   "source": [
    "C"
   ]
  }
 ],
 "metadata": {
  "kernelspec": {
   "display_name": "Python 3 (ipykernel)",
   "language": "python",
   "name": "python3"
  },
  "language_info": {
   "codemirror_mode": {
    "name": "ipython",
    "version": 3
   },
   "file_extension": ".py",
   "mimetype": "text/x-python",
   "name": "python",
   "nbconvert_exporter": "python",
   "pygments_lexer": "ipython3",
   "version": "3.8.15"
  }
 },
 "nbformat": 4,
 "nbformat_minor": 5
}
