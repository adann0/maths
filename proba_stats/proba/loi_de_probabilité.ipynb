{
 "cells": [
  {
   "cell_type": "markdown",
   "id": "4f2f839d-bd46-4508-a24e-4e6a64002680",
   "metadata": {},
   "source": [
    "# Loi de probabilité\n",
    "\n",
    "En théorie des probabilités et en statistique, une loi de probabilité décrit le comportement aléatoire d'un phénomène dépendant du hasard. \n",
    "\n",
    "L'étude des phénomènes aléatoires a commencé avec l'étude des jeux de hasard. Jeux de dés, tirage de boules dans des urnes et jeu de pile ou face ont été des motivations pour comprendre et prévoir les expériences aléatoires. \n",
    "\n",
    "Ces premières approches sont des phénomènes discrets, c'est-à-dire dont le nombre de résultats possibles est fini ou dénombrable. Certaines questions ont cependant fait apparaître des lois à support infini non dénombrable ; par exemple, lorsque le nombre de tirages de pile ou face effectués tend vers l'infini, la répartition des fréquences avec lesquelles le côté pile apparaît s'approche d'une loi normale. "
   ]
  }
 ],
 "metadata": {
  "kernelspec": {
   "display_name": "Python 3 (ipykernel)",
   "language": "python",
   "name": "python3"
  },
  "language_info": {
   "codemirror_mode": {
    "name": "ipython",
    "version": 3
   },
   "file_extension": ".py",
   "mimetype": "text/x-python",
   "name": "python",
   "nbconvert_exporter": "python",
   "pygments_lexer": "ipython3",
   "version": "3.8.15"
  }
 },
 "nbformat": 4,
 "nbformat_minor": 5
}
