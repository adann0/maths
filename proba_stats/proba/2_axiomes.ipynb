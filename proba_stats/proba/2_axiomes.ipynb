{
 "cells": [
  {
   "cell_type": "markdown",
   "metadata": {},
   "source": [
    "# Axiomes des probabilités\n",
    "\n",
    "En théorie des probabilités, les axiomes de probabilités désignent les propriétés que doit vérifier une application P afin de formaliser l'idée de probabilité.\n",
    "\n",
    "Dans ce qui suit, on considère un ensemble non vide Ω \\Omega muni d'une tribu A {\\mathcal A}. \n",
    "\n",
    "## Premier axiome\n",
    "\n",
    "On appelle évènements les éléments de $A$.\n",
    "\n",
    "Pour tout événement   $A$ :\n",
    "\n",
    "$0 ≤ P ( A ) ≤ 1. 0\\leq {\\mathbb {P}}(A)\\leq 1$.\n",
    "\n",
    "C'est-à-dire que la probabilité d'un événement est représentée par un nombre réel compris entre 0 et 1. "
   ]
  },
  {
   "cell_type": "code",
   "execution_count": null,
   "metadata": {},
   "outputs": [],
   "source": []
  }
 ],
 "metadata": {
  "kernelspec": {
   "display_name": "Python 2",
   "language": "python",
   "name": "python2"
  },
  "language_info": {
   "codemirror_mode": {
    "name": "ipython",
    "version": 2
   },
   "file_extension": ".py",
   "mimetype": "text/x-python",
   "name": "python",
   "nbconvert_exporter": "python",
   "pygments_lexer": "ipython2",
   "version": "2.7.16"
  }
 },
 "nbformat": 4,
 "nbformat_minor": 5
}
