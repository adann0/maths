{
 "cells": [
  {
   "cell_type": "markdown",
   "id": "4f9063f4",
   "metadata": {},
   "source": [
    "# Ensembles\n",
    "\n",
    "## Egalité entre deux ensembles (Axiome d'extensionnalité)\n",
    "\n",
    "En mathématiques, un ensemble désigne intuitivement un rassemblement d’objets distincts (les éléments de l'ensemble).\n",
    "\n",
    "![Ensemble de polygones dans un Diagramme d'Euler](https://upload.wikimedia.org/wikipedia/commons/thumb/3/37/Example_of_a_set.svg/450px-Example_of_a_set.svg.png?uselang=fr)\n",
    "\n",
    "En _Python_, les ensembles sont représentés par le type de donnée `set` :"
   ]
  },
  {
   "cell_type": "code",
   "execution_count": 1,
   "id": "ad1ff6b6",
   "metadata": {},
   "outputs": [],
   "source": [
    "A = {1, 2, 3, 4, 5}"
   ]
  },
  {
   "cell_type": "markdown",
   "id": "4ef310b7-4811-4d0b-b1a7-c68e770bf0ed",
   "metadata": {},
   "source": [
    "## Ensembles, éléments et appartenance\n",
    "\n",
    "Un _ensemble_ peut être vu comme une sorte de sac virtuel entourant ses éléments, ce que modélisent les _diagrammes de Venn_. \n",
    "\n",
    "Souvent (ce n'est pas toujours possible), on essaye de le distinguer typographiquement de ses éléments, par exemple en utilisant une lettre latine majuscule, par exemple « _E_ » ou « _A_ », pour représenter l'ensemble, et des minuscules, telles que « _x_ » ou « _n_ », pour ses éléments.\n",
    "\n",
    "Les éléments peuvent être de n’importe quelle nature : nombres, points géométriques, droites, fonctions, autres ensembles… On donne donc volontiers des exemples d'ensembles en dehors du monde mathématique. Par exemple : lundi est un élément de l’ensemble des jours de la semaine ; une bibliothèque est un ensemble de livres, etc.\n",
    "\n",
    "Un même objet peut être élément de plusieurs ensembles : 4 est un élément de l'ensemble des nombres entiers, ainsi que de l’ensemble des nombres pairs (forcément entiers). Ces deux derniers ensembles sont infinis, ils ont une infinité d’éléments.\n",
    "\n",
    "L'appartenance d'un élément, noté par exemple _x_, à un ensemble, noté par exemple _A_, s’écrit : _x ∈ A_.\n",
    "\n",
    "Comme souvent pour les relations, on barre ce symbole pour indiquer sa négation, la non-appartenance d’un objet à un ensemble :\n",
    "\n",
    "- « _z_ ∉ _A_ » signifie « _z_ n’appartient pas à _A_ ».\n",
    "\n",
    "En Python, on utiliserait l'operateur `in` pour l'appartenance et `not in` pour la non-appartenance :"
   ]
  },
  {
   "cell_type": "code",
   "execution_count": 2,
   "id": "cdd1b3aa",
   "metadata": {},
   "outputs": [
    {
     "name": "stdout",
     "output_type": "stream",
     "text": [
      "True\n",
      "True\n",
      "True\n"
     ]
    }
   ],
   "source": [
    "B = {True, False}                  # L'ensemble des booléens (B = {vrai, faux})\n",
    "C = {\"a\", \"e\", \"i\", \"o\", \"u\", \"y\"} # L'ensemble des voyelles de l'alphabet (C = {a, e, i, o, u, y})\n",
    "D = {2, 4, 6, 8, ...}              # L'ensemble des nombres pairs positifs (D = {2, 4, 6, 8, ...})\n",
    "E = [B, C, D]                      # L'ensemble des ensembles B, C, D\n",
    "\n",
    "print(\"w\" not in B) # w ∈ B\n",
    "print(2 in D) # 2 ∈ D\n",
    "print(B in E) # B ∈ E"
   ]
  },
  {
   "cell_type": "markdown",
   "id": "95e52162",
   "metadata": {},
   "source": [
    "## Égalité de deux ensembles\n",
    "\n",
    "On dira que deux ensembles _A_ et _B_ sont égaux (on le notera comme d'habitude _A_ = _B_) quand ils ont exactement les mêmes éléments. Cette propriété est connue sous le nom d'extensionnalité :\n",
    "\n",
    "**(Extensionnalité)**         _A_ = _B_   si et seulement si   ∀_x_(_x_ ∈ _A_ ⇔ _x_ ∈ _B_) \n",
    "\n",
    "où « ⇔ » désigne l'équivalence logique. Deux ensembles qui ont les mêmes éléments sont bien identiques : tout ce qui peut être dit de l'un peut être dit de l'autre.\n",
    "\n",
    "Ainsi un ensemble est complètement déterminé par ses éléments. Quand un ensemble est fini, il est donc possible de le définir en donnant la liste de ses éléments, que l'on note traditionnellement entre accolades. Par exemple l'ensemble auxquels appartiennent les éléments 2, 3, et 5, et seulement ces éléments, est noté {2, 3, 5}."
   ]
  },
  {
   "cell_type": "code",
   "execution_count": 3,
   "id": "6b109354",
   "metadata": {},
   "outputs": [
    {
     "data": {
      "text/plain": [
       "True"
      ]
     },
     "execution_count": 3,
     "metadata": {},
     "output_type": "execute_result"
    }
   ],
   "source": [
    "A = {2, 3, 5}\n",
    "B = {2, 3, 5}\n",
    "A == B"
   ]
  },
  {
   "cell_type": "markdown",
   "id": "0f36484a-5040-4dd9-8a18-b0239c1c2623",
   "metadata": {},
   "source": [
    "\n",
    "## Ensembles finis\n",
    "\n",
    "Un ensemble est fini quand on peut compter ses éléments.\n",
    "\n",
    "Par exemple, l'ensemble des jours de la semaine peut être représenté par { lundi, mardi, mercredi, jeudi, vendredi, samedi, dimanche }.\n",
    "\n",
    "La notation d'un ensemble en extension n'est pas unique : un même ensemble peut être noté en extension de façon différentes.\n",
    "\n",
    "- L’ordre des éléments est sans importance, par exemple { 1, 2 } = { 2, 1 }.\n",
    "- La répétition d’éléments entre les accolades ne modifie pas l’ensemble : <br> toujours avec le même exemple, { 1, 2, 2 } = { 1, 1, 1, 2 } = { 1, 2 }.\n",
    "\n",
    "Dans l'exemple qui suit, les ensembles $A$, $B$ et $C$ contiennent les nombres entiers compris entre 1 et 2 inclusivement :"
   ]
  },
  {
   "cell_type": "code",
   "execution_count": 4,
   "id": "61de77b7",
   "metadata": {},
   "outputs": [
    {
     "data": {
      "text/plain": [
       "True"
      ]
     },
     "execution_count": 4,
     "metadata": {},
     "output_type": "execute_result"
    }
   ],
   "source": [
    "A = {1, 2, 2}\n",
    "B = {1, 1, 1, 2}\n",
    "C = {1, 2}\n",
    "A == B == C"
   ]
  },
  {
   "cell_type": "markdown",
   "id": "dd6ce189-bb3b-40ed-ad96-3c56b8eda2e1",
   "metadata": {},
   "source": [
    "L'ordre des éléments dans la présentation de l'ensemble n'a pas d'importance, de même que la présence de répétitions. Les ensembles $A$, $B$ et \n",
    "$C$ peuvent donc s'écrire de plusieurs manières équivalentes.\n",
    "\n",
    "Il peut arriver que l'on ait besoin d'ensemble « avec répétition », dans le cas fini, il s'agit plus justement, de suites finies à l'ordre des éléments près, on définit alors la notion de **multiensemble** fini (qui peut se définir à partir de la notion de suite finie).\n",
    "\n",
    "Les ensembles réduits à un seul élément sont appelés **singletons**. Par exemple l'ensemble qui contient pour seul élément 0 est appelé « singleton 0 » et noté {0}.\n",
    "\n",
    "Les ensembles qui ont exactement deux éléments sont appelés **paires**, la paire des éléments 1 et 2, notée {1,2}, ne doit pas être confondue avec le couple (1,2), qui a un ordre déterminé.\n",
    "\n",
    "Par extensionnalité, il n'y a qu'un seul ensemble sans éléments, l'**ensemble vide**, que l'on note ∅ ou { }. \n",
    "\n",
    "## Définition d’un ensemble en compréhension\n",
    "\n",
    "Un ensemble peut être défini en compréhension, c’est-à-dire qu'on le définit par une propriété caractéristique parmi les éléments d'un ensemble donné. Par exemple, l'ensemble des entiers naturels pairs est clairement défini en compréhension, par la propriété « être pair » parmi les entiers naturels. \n",
    "\n",
    "On peut utiliser la notation d'un ensemble en compréhension, par exemple pour l'ensemble des entiers naturels pairs, on écrira (ℕ désignant l'ensemble des entiers naturels) :\n",
    "\n",
    "- $\\{x\\in {\\mathbb N}\\mid x\\ {\\rm {pair\\}}}$.\n",
    "\n",
    "On définira de la même façon (ℤ désignant l'ensemble des entiers relatifs) :\n",
    "\n",
    "- $\\{x\\in {\\mathbb Z}\\mid -7\\leq x\\leq 23\\}$ l'ensemble des entiers relatifs compris entre -7 et 23 ;\n",
    "- $\\left\\{x\\in {\\mathbb N}\\mid \\exists y\\in {\\mathbb N}\\ (y\\geq 1\\ {{\\rm {et}}}\\ x=y^{2})\\right\\}$ l'ensemble des carrés parfaits non nuls.\n",
    "\n",
    "La formulation générale est :\n",
    "\n",
    "- ${\\displaystyle \\{x\\in E\\mid P(x)\\}}$\n",
    "\n",
    "## Autres notations\n",
    "\n",
    "Il existe d'autres notations commodes, en particulier pour les ensembles de nombres, et plus généralement pour les ensembles totalement ordonnés.\n",
    "\n",
    "On peut utiliser des **points de suspension**, pour des notations inspirées de la notation en extension pour des ensembles de cardinalité infinie, ou finie mais non déterminée. Par exemple, l’ensemble des entiers naturels peut se noter par : ℕ = { 0, 1, 2, 3, … }. S'il est clair par ailleurs que n désigne un entier naturel, {1, 2, … , n}, voire {1, … , n} désigne en général l'ensemble des entiers supérieurs ou égaux à 1 et inférieurs ou égaux à n. De même on peut écrire ℤ = { … , –3, –2, –1, 0, 1, 2, 3, … }.\n",
    "\n",
    "Quand il y a un procédé itératif simple pour engendrer les éléments de l'ensemble, on peut se risquer à des notations comme {0, 2, 4, 6, … } pour l'ensemble des entiers naturels pairs, etc.\n",
    "\n",
    "On peut bien sûr utiliser ces notations pour des ensembles ayant « beaucoup » d'éléments, {1, 2, … , 1000} plutôt que d'écrire les mille premiers nombres entiers non nuls, ou encore { 3, 5, … , 21} plutôt que { 3, 5, 7, 9, 11, 13, 15, 17, 19, 21 }. "
   ]
  },
  {
   "cell_type": "code",
   "execution_count": null,
   "id": "972ea0ad-cc51-44c2-bcc4-1151a22225de",
   "metadata": {},
   "outputs": [],
   "source": []
  }
 ],
 "metadata": {
  "kernelspec": {
   "display_name": "Python 3 (ipykernel)",
   "language": "python",
   "name": "python3"
  },
  "language_info": {
   "codemirror_mode": {
    "name": "ipython",
    "version": 3
   },
   "file_extension": ".py",
   "mimetype": "text/x-python",
   "name": "python",
   "nbconvert_exporter": "python",
   "pygments_lexer": "ipython3",
   "version": "3.8.15"
  }
 },
 "nbformat": 4,
 "nbformat_minor": 5
}
