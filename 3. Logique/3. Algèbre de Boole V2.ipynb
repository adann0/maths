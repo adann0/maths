{
 "cells": [
  {
   "cell_type": "markdown",
   "id": "ee975097-2f2d-4e61-b903-c7fd295e0508",
   "metadata": {},
   "source": [
    "# Algèbre de Boole\n",
    "\n",
    "L'**algèbre de Boole**, ou calcul booléen, est la partie des mathématiques qui s'intéresse à une approche algébrique de la logique, vue en termes de variables, d'opérateurs et de fonctions sur les variables logiques, ce qui permet d'utiliser des techniques algébriques pour traiter les expressions à deux valeurs du calcul des propositions. Elle fut lancée en 1854 par le mathématicien britannique George Boole. Aujourd'hui, l'algèbre de Boole trouve de nombreuses applications en informatique et dans la conception des circuits électroniques. \n",
    "\n",
    "Elle fut utilisée la première fois pour les circuits de commutation téléphonique par Claude Shannon. \n",
    "\n",
    "## Exemple introductif\n",
    "\n",
    "L'algèbre de Boole des fonctions logiques permet de modéliser des raisonnements logiques, en exprimant un « état » en fonction de conditions. Par exemple, si nous étudions l'expression Communication et l'expression Décrocher ;\n",
    "\n",
    "### Communication\n",
    "\n",
    "Communication = Émetteur ET Récepteur\n",
    "\n",
    "_Communication serait « VRAI » si à la fois les variables Émetteur ET Récepteur étaient actifs (c'est une fonction logique dépendant des variables Émetteur et Récepteur)_\n",
    "\n",
    "### Décrocher\n",
    "\n",
    "Décrocher = (Sonnerie ET Décision de répondre) OU Décision d'appeler\n",
    "\n",
    "_Décrocher serait « VRAI » soit si à la fois on entend la sonnerie ET l'on décide de répondre, soit (OU) si simplement l'on décide d'appeler._\n",
    "\n",
    "L'algèbre de Boole étant un domaine commun à trois disciplines, on rencontre des notations différentes pour désigner un même objet. Dans le reste de l'article, on indiquera les diverses notations, mais on en privilégiera une pour conserver une certaine homogénéité. \n",
    "\n",
    "## Algèbre de Boole des valeurs de vérité\n",
    "\n",
    "On appelle B l'ensemble constitué de deux éléments appelés **valeurs de vérité** {VRAI, FAUX}. Cet ensemble est aussi noté\n",
    "\n",
    "- ${\\displaystyle B=\\{1,0\\}}$\n",
    "- ${\\displaystyle B=\\{\\top ,\\perp \\}}$.\n",
    "\n",
    "avec $⊤$ pour $1$ et $⊥$ pour $0$.\n",
    "\n",
    "On privilégiera dans la suite la notation ${\\displaystyle B=\\{1,0\\}}$.\n",
    "\n",
    "Sur cet ensemble on peut définir deux lois (ou opérations) binaires, les lois ET et OU, et une opération unaire, la négation (ou le complémentaire).\n",
    "\n",
    "Pour l'ensemble des exemples et propriétés suivantes, ${\\displaystyle \\{a,b,c\\}\\subset B} $\n",
    "\n",
    "### Conjonction\n",
    "\n",
    "| p q | p ∧ q |\n",
    "|-----|:-----:|\n",
    "| 1 1 | 1     |\n",
    "| 1 0 | 0     |\n",
    "| 0 1 | 0     |\n",
    "| 0 0 | 0     |\n",
    "\n",
    "\n",
    "Elle est définie de la manière suivante : a ET b est VRAI si et seulement si a est VRAI et b est VRAI.\n",
    "\n",
    "La table de cette loi (analogue à une table d'addition ou de multiplication) n'est pas une table de vérité. "
   ]
  },
  {
   "cell_type": "code",
   "execution_count": null,
   "id": "bc8d5d2f-16c6-49b7-83ac-019f80c52532",
   "metadata": {},
   "outputs": [],
   "source": []
  }
 ],
 "metadata": {
  "kernelspec": {
   "display_name": "Python 3 (ipykernel)",
   "language": "python",
   "name": "python3"
  },
  "language_info": {
   "codemirror_mode": {
    "name": "ipython",
    "version": 3
   },
   "file_extension": ".py",
   "mimetype": "text/x-python",
   "name": "python",
   "nbconvert_exporter": "python",
   "pygments_lexer": "ipython3",
   "version": "3.8.15"
  }
 },
 "nbformat": 4,
 "nbformat_minor": 5
}
