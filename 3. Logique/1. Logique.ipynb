{
 "cells": [
  {
   "cell_type": "markdown",
   "metadata": {},
   "source": [
    "# Logique\n",
    "\n",
    "La logique est l'étude des règles formelles permettant d'exprimer correctement une argumentation.\n",
    "\n",
    "## Symboles\n",
    "\n",
    "Voici une liste des principaux symboles logiques. Ils permettent de formaliser les expressions, calculs et démonstrations.\n",
    "\n",
    "| Symbole | Signification |\n",
    "| ------ | ------------ |\n",
    "| $\\lnot A$ | Négation de A |\n",
    "| $A\\to B$ | Implication. Si A alors B |\n",
    "| $A\\land B$ | Conjonction. A et B. |\n",
    "| $A\\lor B$ | Disjonction (inclusive). A ou B. |\n",
    "| $A\\leftrightarrow B$ | Équivalence. A est équivalent B ; on dit aussi : A si et seulement si B. |\n",
    "| $\\Gamma \\vdash A$ | Déduction. De l'ensemble de formules Γ on déduit A. |\n",
    "| $M\\models A$ | Modélisation. M est un modèle de A ; on dit aussi A est vraie dans M. |\n",
    "| $\\vdash A$ | Théorème. Notion syntaxique |\n",
    "| $\\models A$ | Tautologie. Notion sémantique |\n",
    "| $M\\Vdash A$ | Réalisabilité. M réalise A, on dit aussi que M « force » A. |\n",
    "\n",
    "## Sujets d'Etude\n",
    "\n",
    "- théorie de la complexité,\n",
    "- calculabilité.\n",
    "\n",
    "- Le calcul des propositions.\n",
    "- Le calcul des prédicats\n",
    "- La logique floue.\n",
    "- Le calcul des classes et la théorie des ensembles.\n"
   ]
  },
  {
   "cell_type": "code",
   "execution_count": null,
   "metadata": {},
   "outputs": [],
   "source": []
  }
 ],
 "metadata": {
  "kernelspec": {
   "display_name": "Python 3 (ipykernel)",
   "language": "python",
   "name": "python3"
  },
  "language_info": {
   "codemirror_mode": {
    "name": "ipython",
    "version": 3
   },
   "file_extension": ".py",
   "mimetype": "text/x-python",
   "name": "python",
   "nbconvert_exporter": "python",
   "pygments_lexer": "ipython3",
   "version": "3.8.15"
  }
 },
 "nbformat": 4,
 "nbformat_minor": 4
}
