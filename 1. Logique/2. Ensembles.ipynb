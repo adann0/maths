{
 "cells": [
  {
   "cell_type": "markdown",
   "id": "4f9063f4",
   "metadata": {},
   "source": [
    "# Ensembles\n",
    "\n",
    "## Egalité entre deux ensembles (Axiome d'extensionnalité)\n",
    "\n",
    "Un ensemble est une collection d'éléments non ordonnée et sans répétitions. Les variables représentant des ensembles sont habituellement des lettres majuscules et les éléments d'un ensembles sont indiqués entre accolades. \n",
    "\n",
    "En Python, les ensembles sont représentés par le type de donnée set().\n",
    "\n",
    "Dans l'exemple qui suit, l'ensemble A contient les nombres entiers compris entre 1 et 5 inclusivement :"
   ]
  },
  {
   "cell_type": "code",
   "execution_count": 6,
   "id": "ad1ff6b6",
   "metadata": {},
   "outputs": [],
   "source": [
    "A = {1, 2, 3, 4, 5}"
   ]
  },
  {
   "cell_type": "markdown",
   "id": "372bdb88",
   "metadata": {},
   "source": [
    "L'ordre des éléments dans la présentation de l'ensemble n'a pas d'importance, de même que la présence de répétitions. L'ensemble A peut donc d'écrire de plusieurs manières équivalentes :"
   ]
  },
  {
   "cell_type": "code",
   "execution_count": 7,
   "id": "65348b32",
   "metadata": {},
   "outputs": [
    {
     "data": {
      "text/plain": [
       "True"
      ]
     },
     "execution_count": 7,
     "metadata": {},
     "output_type": "execute_result"
    }
   ],
   "source": [
    "A = {5, 4, 3, 2, 1}\n",
    "B = {1, 2, 2, 3, 3, 3, 4, 4, 5}\n",
    "A == B"
   ]
  },
  {
   "cell_type": "markdown",
   "id": "514c2669",
   "metadata": {},
   "source": [
    "Ainsi un ensemble est défini uniquement par la nature de ses éléments. Il s'agit d'un choix fait lors de la définiton de cette structure mathématique. Lorsqu'on souhaite considérer l'ordre des éléments ou leur multiplicité, on peut le faire en se donnant des axiomes ou des définitions supplémentaires. C'est ce que l'on vera dans la Théorie des Relations.\n",
    "\n",
    "**Définition** : Axiome d'extensionnalité\n",
    "\n",
    "Soit S et T deux ensembles :\n",
    "\n",
    "$S = T -> \\{ Pour tout élément e, e appartient à l'ensemble S si et seulement si e appartient à l'ensemble T.$\n",
    "\n",
    "De manière équivalente, on écrit :\n",
    "\n",
    "$S = T -> (∀e | e ∈ S ⇔ e ∈ T)$\n",
    "\n",
    "## Définition d'un ensemble et opérateur d'appartenance\n",
    "\n",
    "Les éléments d'un ensemble, bien que nous travaillerons fréquemment avec des ensembles de nombres, peuvent être de type quelconque.\n",
    "\n",
    "Voici quelques exemples d'ensembles :"
   ]
  },
  {
   "cell_type": "code",
   "execution_count": 1,
   "id": "a105255d",
   "metadata": {},
   "outputs": [],
   "source": [
    "B = {True, False}                  # L'ensemble des booléens (B = {vrai, faux})\n",
    "C = {\"a\", \"e\", \"i\", \"o\", \"u\", \"y\"} # L'ensemble des voyelles de l'alphabet (C = {a, e, i, o, u, y})\n",
    "D = {2, 4, 6, 8, ...}              # L'ensemble des nombres pairs positifs (D = {2, 4, 6, 8, ...})\n",
    "N = {0, 1, 2, 3, ...}              # L'ensemble des nombres naturels (N = {0, 1, 2, 3, ...})\n",
    "Z = {..., -2, -1, 0, 1, 2, ...}    # L'ensemble des nombres relatifs (Z = {..., -2, -1, 0, 1, 2, ...})"
   ]
  },
  {
   "cell_type": "markdown",
   "id": "8a9f8f4d",
   "metadata": {},
   "source": [
    "L'opérateur d'appartenance \"∈\" exprime si un élément appartient à un ensemble. L'expression \"e ∈ S\" se dit \"l'élément e appartient à l'ensemble S\". Il s'agit d'une expression booléenne. Elle est donc évaluée à vrai ou faux.\n",
    "\n",
    "En Python, on utiliserait l'operateur \"in\".\n",
    "\n",
    "Par exemple :"
   ]
  },
  {
   "cell_type": "code",
   "execution_count": 2,
   "id": "cdd1b3aa",
   "metadata": {},
   "outputs": [
    {
     "data": {
      "text/plain": [
       "False"
      ]
     },
     "execution_count": 2,
     "metadata": {},
     "output_type": "execute_result"
    }
   ],
   "source": [
    "\"w\" in B # w ∈ B"
   ]
  },
  {
   "cell_type": "code",
   "execution_count": 3,
   "id": "fad7c78f",
   "metadata": {},
   "outputs": [
    {
     "data": {
      "text/plain": [
       "True"
      ]
     },
     "execution_count": 3,
     "metadata": {},
     "output_type": "execute_result"
    }
   ],
   "source": [
    "2 in D # 2 ∈ D"
   ]
  },
  {
   "cell_type": "markdown",
   "id": "95e52162",
   "metadata": {},
   "source": [
    "## Définition par compréhension\n",
    "\n",
    "La définition par **compréhénsion**, consiste plutôt à présenter les propriétés que respectent les éléments d'un ensemble, plutôt que par extension comme on l'a fait jusqu'à maintenant, c'est à dire en énumerant les éléments de l'ensemble (A = {1, 2, 3, 4, 5}).\n",
    "\n",
    "Nous utilisons pour définir un ensemble par comprehension, la notation : \n",
    "\n",
    "    S = { f(x) | R(x) }\n",
    "\n",
    "Ou :\n",
    "\n",
    "- f(x) est une fonction qui décrit les éléments de l'ensemble.\n",
    "- R(x) est une expression booléenne qui permet de resteindre le contenu de l'ensemble.\n",
    "\n",
    "Autrement dit, on a \"f(x) ∈ S\" si et seulement si \"R(x) = vrai\".\n",
    "\n",
    "Voici quelques exemples d'ensembles définis par compréhension :\n",
    "\n",
    "- $A = { x | (x ∈ N) ∧ (1 ≤ x ≤ 5) }$, l'ensemble des nombres entiers entre 1 et 5 inclusivement.\n",
    "- $B = { x | x est une voyelle }$, l'ensemble des voyelles de l'alphabet.\n",
    "- $N* = {x | (x ∈ N) ∧ (x != 0) }$, l'ensemble des nombres naturels excluant le zero.\n",
    "- $F = { 2x | x ∈ N* }$, l'ensemble des nombres pairs positifs.\n",
    "- $G = { 2ⁿ | (n ∈ N) ∧ (x ≤ 8) }$, l'ensemble des puissances de 2, de 1 à 256.\n",
    "- $Z = { x | x ∈ N ∨ (-x ∈ N) }$, l'ensemble des nombres relatifs.\n",
    "- $Q = { x/y | (x ∈ N) ∧ (y ∈ N*) }$, l'ensemble des nombres rationnels.\n",
    "\n",
    "La manière dont est défini un ensemble (par extension ou par compréhension) n'a aucune influence sur sa composition. Par exemple, on peut imaginer une multitude de manières de définir l'ensemble des nombres pairs positifs :\n",
    "\n",
    "- {2, 4, 6, 8, ...}\n",
    "- {2x | x ∈ N* }\n",
    "- { x | x est pair }\n",
    "- ...\n",
    "\n",
    "### Notation abrégée\n",
    "\n",
    "Aulieu d'écrire :\n",
    "\n",
    "$A = { x | x ∈ N ∧ ...)$\n",
    "    \n",
    "On peut écrire :\n",
    "\n",
    "$A = { x ∈ N | ... }$\n",
    "\n",
    "### Ensemble vide\n",
    "\n",
    "On utilise le symbol \"∅\" pour désigner un ensemble vide, c'est à dire un ensemble qui ne contient aucun élément. Par exemple, l'ensemble des nombres plus petits que 1 et plus grand que 5 est vide :\n",
    "\n",
    "    { x | x < 1 ∧ x > 5 } = ∅\n",
    "\n",
    "Notons que l'ensemble {∅} ne correspond pas à l'ensemble vide. Cet ensemble contient 1 élément, cet élément étant l'ensemble vide.\n",
    "\n",
    "### Cardinalité d'un ensemble\n",
    "\n",
    "La cardinalité d'un ensemble correspond au nombre d'éléments qu'il contient. On note \"|S|\" la cardinalité de l'ensemble S. Par exemple, l'ensemble :\n",
    "\n",
    "    B = {vrai, faux}\n",
    "\n",
    "On a :\n",
    "\n",
    "    |B| = 2\n",
    "\n"
   ]
  },
  {
   "cell_type": "code",
   "execution_count": null,
   "id": "6b109354",
   "metadata": {},
   "outputs": [],
   "source": []
  },
  {
   "cell_type": "code",
   "execution_count": null,
   "id": "02396c26",
   "metadata": {},
   "outputs": [],
   "source": []
  },
  {
   "cell_type": "code",
   "execution_count": null,
   "id": "61de77b7",
   "metadata": {},
   "outputs": [],
   "source": []
  },
  {
   "cell_type": "code",
   "execution_count": null,
   "id": "970f71dd",
   "metadata": {},
   "outputs": [],
   "source": []
  }
 ],
 "metadata": {
  "kernelspec": {
   "display_name": "Python 3 (ipykernel)",
   "language": "python",
   "name": "python3"
  },
  "language_info": {
   "codemirror_mode": {
    "name": "ipython",
    "version": 3
   },
   "file_extension": ".py",
   "mimetype": "text/x-python",
   "name": "python",
   "nbconvert_exporter": "python",
   "pygments_lexer": "ipython3",
   "version": "3.8.15"
  }
 },
 "nbformat": 4,
 "nbformat_minor": 5
}
