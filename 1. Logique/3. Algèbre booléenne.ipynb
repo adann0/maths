{
 "cells": [
  {
   "cell_type": "markdown",
   "id": "217fe5b8",
   "metadata": {},
   "source": [
    "# Algèbre booléenne\n",
    "\n",
    "## Expressions booléennes\n",
    "\n",
    "Une **expression booléenne** correspond à un regroupement d'affirmations. \n",
    "\n",
    "On désigne par le terme **expression booléenne atomique** une expression booléenne contenant une seule affirmation. \n",
    "\n",
    "Une affirmation est une phrase, généralement de la forme \"sujet-verbe-complément\", à laquelle il est possible d'attribuer une **valeur de vérité**.\n",
    "\n",
    "### Expressions booléennes atomiques\n",
    "\n",
    "Par exemple, les affirmationss suivantes peuvent être considérées comme des expressions booléennes atomiques :\n",
    "\n",
    "- Cinq est un nombre impair.\n",
    "- Dix est plus petit que sept.\n",
    "\n",
    "La première affirmation est vraie tandis que la seconde affirmation est fausse.\n",
    "\n",
    "On peut aussi exprimer des expressions booléennes par des formules mathématiques. Par exemple :\n",
    "\n",
    "- 5 + 5 + 5 = 3 * 5\n",
    "- 10 < 7\n",
    "\n",
    "Dans ce dernier exemple, la première expression est toujours vraie et la deuxième est toujours fausse.\n",
    "\n",
    "On peut le constater en Python.\n"
   ]
  },
  {
   "cell_type": "code",
   "execution_count": 7,
   "id": "6821d42c",
   "metadata": {},
   "outputs": [
    {
     "data": {
      "text/plain": [
       "True"
      ]
     },
     "execution_count": 7,
     "metadata": {},
     "output_type": "execute_result"
    }
   ],
   "source": [
    "5 + 5 + 5 == 3 * 5"
   ]
  },
  {
   "cell_type": "code",
   "execution_count": 8,
   "id": "18e9c80e",
   "metadata": {
    "collapsed": true,
    "jupyter": {
     "outputs_hidden": true
    },
    "tags": []
   },
   "outputs": [
    {
     "data": {
      "text/plain": [
       "False"
      ]
     },
     "execution_count": 8,
     "metadata": {},
     "output_type": "execute_result"
    }
   ],
   "source": [
    "10 < 7"
   ]
  },
  {
   "cell_type": "markdown",
   "id": "45e1471c",
   "metadata": {
    "tags": []
   },
   "source": [
    "Certaines expressions booléennes changent de valeur de vérité dépendament du contexte dans lequel elles sont évaluées. Par exemple :\n",
    "\n",
    "- La capitale de ma province est la ville de Québec.\n",
    "- x < 7\n",
    "\n",
    "### Expressions booléennes complexes\n",
    "\n",
    "Nous effectuons de telles combinaisons dans nos conversations de tous les jours, notamment à l'aide des mots \"et\", \"ou\" et \"si... alors...\". Par exemple :\n",
    "\n",
    "- J'habite à Chicoutimi et la capitale de ma province est la ville de Québec.\n",
    "- Si j'habite à chicoutimi, alors la capitale de ma province est la ville de Québec.\n",
    "- Mon prénom contient la lettre P ou mon prénom contient la lettre S.\n",
    "\n",
    "Pour vérifier la véracité de ces expressions booléennes, il suffit d'évaluer séparement la véracité de chacune des expressions booléennes atomiques les constituant.\n",
    "\n",
    "## Opérateurs booléens et table de vérité\n",
    "\n",
    "### Les trois opérateurs booléens de base\n",
    "\n",
    "Afin de définir les trois premiers opérateurs booléens, nous avons recours à des tables de vérité, qui associent à chaque combinaison de valeur booléennes le résultat de l'évaluation de l'expression formée par l'opérateur.\n",
    "\n",
    "- L'opérateur négation \"¬\" (!), correspond a \"not\" en Python.\n",
    "- L'opérateur de conjonction \"∧\" (&), correspond au \"and\" en Python.\n",
    "- L'opérateur de disjonction \"∨\" (|), correspond au \"or\" en Python.\n",
    "\n",
    "Les tables de vérité ci-dessous indiquent le résultat de l'évaluation de la négation, de la conjonction et de la disjonction :\n",
    "\n",
    "- Négation\n",
    "\n",
    "Comme un \"not\" Python, on inverse la valeur de vérité de la valeur booléenne.\n",
    "\n",
    "| p | ¬p|\n",
    "|---|:-:|\n",
    "| 1 | 0 |\n",
    "| 0 | 1 |\n"
   ]
  },
  {
   "cell_type": "code",
   "execution_count": 9,
   "id": "d58707f1",
   "metadata": {},
   "outputs": [
    {
     "data": {
      "text/plain": [
       "False"
      ]
     },
     "execution_count": 9,
     "metadata": {},
     "output_type": "execute_result"
    }
   ],
   "source": [
    "not True"
   ]
  },
  {
   "cell_type": "code",
   "execution_count": 10,
   "id": "ca09d7ef",
   "metadata": {},
   "outputs": [
    {
     "data": {
      "text/plain": [
       "True"
      ]
     },
     "execution_count": 10,
     "metadata": {},
     "output_type": "execute_result"
    }
   ],
   "source": [
    "not False"
   ]
  },
  {
   "cell_type": "markdown",
   "id": "1a8b23d7",
   "metadata": {},
   "source": [
    "- Conjonction\n",
    "\n",
    "Comme un \"and\" en Python, ce n'est vrai que si les deux valeurs booléenne sont vraies.\n",
    "\n",
    "Par exemple : \"Si demain il fait beau et que je suis en forme, alors j'irais à la plage\". Je vais a la plage uniquement si il fait beau **et** que je suis en forme.\n",
    "\n",
    "En Python on pourrait dire `if fait_beau() and en_forme(): go_to_plage()` ; il faudrait que les deux fonctions renvoient True pour que la condition soit validée.\n",
    "\n",
    "| p q | p ∧ q |\n",
    "|-----|:-----:|\n",
    "| 1 1 | 1     |\n",
    "| 1 0 | 0     |\n",
    "| 0 1 | 0     |\n",
    "| 0 0 | 0     |\n"
   ]
  },
  {
   "cell_type": "code",
   "execution_count": 11,
   "id": "a52c819b",
   "metadata": {},
   "outputs": [
    {
     "data": {
      "text/plain": [
       "True"
      ]
     },
     "execution_count": 11,
     "metadata": {},
     "output_type": "execute_result"
    }
   ],
   "source": [
    "True and True"
   ]
  },
  {
   "cell_type": "code",
   "execution_count": 12,
   "id": "3ede498f",
   "metadata": {},
   "outputs": [
    {
     "data": {
      "text/plain": [
       "False"
      ]
     },
     "execution_count": 12,
     "metadata": {},
     "output_type": "execute_result"
    }
   ],
   "source": [
    "True and False"
   ]
  },
  {
   "cell_type": "code",
   "execution_count": 13,
   "id": "e5cc5e86",
   "metadata": {},
   "outputs": [
    {
     "data": {
      "text/plain": [
       "False"
      ]
     },
     "execution_count": 13,
     "metadata": {},
     "output_type": "execute_result"
    }
   ],
   "source": [
    "False and True"
   ]
  },
  {
   "cell_type": "code",
   "execution_count": 14,
   "id": "1067c4ce",
   "metadata": {},
   "outputs": [
    {
     "data": {
      "text/plain": [
       "False"
      ]
     },
     "execution_count": 14,
     "metadata": {},
     "output_type": "execute_result"
    }
   ],
   "source": [
    "False and False"
   ]
  },
  {
   "cell_type": "markdown",
   "id": "e1ffbbe4",
   "metadata": {},
   "source": [
    "- Disjonction\n",
    "\n",
    "Comme un \"or\" en Python, c'est vrai que si une des deux valeurs est vrai.\n",
    "\n",
    "Par exemple \"Si demain il fait beau ou que je suis en forme, alors j'irais à la plage\". Je vais a la plage si il fait beau **ou** que je suis en forme (ou les deux).\n",
    "\n",
    "En Python on pourrait dire `if fait_beau() or en_forme(): go_to_plage()` ; il faudrait que une des deux fonctions renvoient True pour que la condition soit validée.\n",
    "\n",
    "| p q | p ∧ q |\n",
    "|-----|:-----:|\n",
    "| 1 1 | 1     |\n",
    "| 1 0 | 1     |\n",
    "| 0 1 | 1     |\n",
    "| 0 0 | 0     |"
   ]
  },
  {
   "cell_type": "code",
   "execution_count": 15,
   "id": "79e7743c",
   "metadata": {},
   "outputs": [
    {
     "data": {
      "text/plain": [
       "True"
      ]
     },
     "execution_count": 15,
     "metadata": {},
     "output_type": "execute_result"
    }
   ],
   "source": [
    "True or True"
   ]
  },
  {
   "cell_type": "code",
   "execution_count": 16,
   "id": "ddf903e7",
   "metadata": {},
   "outputs": [
    {
     "data": {
      "text/plain": [
       "True"
      ]
     },
     "execution_count": 16,
     "metadata": {},
     "output_type": "execute_result"
    }
   ],
   "source": [
    "True or False"
   ]
  },
  {
   "cell_type": "code",
   "execution_count": 17,
   "id": "e22a2f13",
   "metadata": {},
   "outputs": [
    {
     "data": {
      "text/plain": [
       "True"
      ]
     },
     "execution_count": 17,
     "metadata": {},
     "output_type": "execute_result"
    }
   ],
   "source": [
    "False or True"
   ]
  },
  {
   "cell_type": "code",
   "execution_count": 18,
   "id": "d1fab2a3",
   "metadata": {},
   "outputs": [
    {
     "data": {
      "text/plain": [
       "False"
      ]
     },
     "execution_count": 18,
     "metadata": {},
     "output_type": "execute_result"
    }
   ],
   "source": [
    "False or False"
   ]
  },
  {
   "cell_type": "markdown",
   "id": "080cd0db",
   "metadata": {
    "tags": []
   },
   "source": [
    "## Les opérateurs d'implication\n",
    "\n",
    "La logique booléenne repose entièrement sur les trois opérateurs vu précedement. Ils permettent de définir les trois derniers opérateurs booléens que nous verrons ci-dessous.\n",
    "\n",
    "- L'opérateur d'implication \"⇒\", correspond a \"not x or y\" en Python.\n",
    "- L'opérateur d'implication inverse \"⇐\", correspond a \"x or not y\" en Python.\n",
    "- L'opérateur si et seulement si \"⇔\", correspond au \"ou\" du français.\n",
    "\n",
    "- Implication (Si... alors...)\n",
    "\n",
    "Comme un \"not x or y\" en Python : il faut inverser la première valeure booléenne puis faire une disjonction (un \"or\") entre les deux valeurs booléennes.\n",
    "\n",
    "Par exemple, \"Si je n'ai pas plus de 18 ans (si j'ai moins de 18 ans) (ou) que je suis Etudiant (alors) j'ai droit à une reduction\".\n",
    "\n",
    "- Si j'ai plus de 18 ans et que je suis Etudiant : j'ai droit à une reduction.\n",
    "- Si j'ai plus de 18 ans et que je ne suis pas Etudiant : je n'ai pas droit à une reduction.\n",
    "- Si j'ai moins de 18 ans et que je suis Etudiant : j'ai droit à une reduction.\n",
    "- Si j'ai moins de 18 ans et que je ne suis pas Etudiant : je n'ai pas droit à une reduction.\n",
    "\n",
    "En Python on pourrait dire :\n",
    "    \n",
    "    age = p\n",
    "    is_student = q\n",
    "    \n",
    "    if not age >= 18 or is_student :\n",
    "        print(\"Eligible à une reduction (True)\")\n",
    "    else :\n",
    "        print(\"Non eligible à une reduction (False)\")\n",
    "\n",
    "L'implication s'écrit de la manière suivante :\n",
    "\n",
    "    p ⇒ q = ¬p ∨ q \n",
    "\n",
    "| p q | p ⇒ q |\n",
    "|-----|:-----:|\n",
    "| 1 1 | 1     |\n",
    "| 1 0 | 0     |\n",
    "| 0 1 | 1     |\n",
    "| 0 0 | 1     |\n"
   ]
  },
  {
   "cell_type": "code",
   "execution_count": 19,
   "id": "6cb1d075",
   "metadata": {},
   "outputs": [
    {
     "name": "stdout",
     "output_type": "stream",
     "text": [
      "Eligible à une reduction (True)\n"
     ]
    }
   ],
   "source": [
    "not True or True # False or True == True\n",
    "\n",
    "age = 25\n",
    "is_student = True\n",
    "    \n",
    "if not age >= 18 or is_student :\n",
    "    print(\"Eligible à une reduction (True)\")\n",
    "else :\n",
    "    print(\"Non eligible à une reduction (False)\")"
   ]
  },
  {
   "cell_type": "code",
   "execution_count": 20,
   "id": "868f0b62",
   "metadata": {},
   "outputs": [
    {
     "name": "stdout",
     "output_type": "stream",
     "text": [
      "Non eligible à une reduction (False)\n"
     ]
    }
   ],
   "source": [
    "not True or False # False or False == False\n",
    "\n",
    "age = 25\n",
    "is_student = False\n",
    "    \n",
    "if not age >= 18 or is_student :\n",
    "    print(\"Eligible à une reduction (True)\")\n",
    "else :\n",
    "    print(\"Non eligible à une reduction (False)\")"
   ]
  },
  {
   "cell_type": "code",
   "execution_count": 21,
   "id": "041ec132",
   "metadata": {},
   "outputs": [
    {
     "name": "stdout",
     "output_type": "stream",
     "text": [
      "Eligible à une reduction (True)\n"
     ]
    }
   ],
   "source": [
    "not False or True # True or True == True\n",
    "\n",
    "age = 17\n",
    "is_student = True\n",
    "    \n",
    "if not age >= 18 or is_student :\n",
    "    print(\"Eligible à une reduction (True)\")\n",
    "else :\n",
    "    print(\"Non eligible à une reduction (False)\")"
   ]
  },
  {
   "cell_type": "code",
   "execution_count": 22,
   "id": "fd0ae8df",
   "metadata": {},
   "outputs": [
    {
     "name": "stdout",
     "output_type": "stream",
     "text": [
      "Eligible à une reduction (True)\n"
     ]
    }
   ],
   "source": [
    "not False or False # True or False == True\n",
    "\n",
    "age = 17\n",
    "is_student = False\n",
    "    \n",
    "if not age >= 18 or is_student :\n",
    "    print(\"Eligible à une reduction (True)\")\n",
    "else :\n",
    "    print(\"Non eligible à une reduction (False)\")"
   ]
  },
  {
   "cell_type": "markdown",
   "id": "9ed6154c",
   "metadata": {},
   "source": [
    "- Implication inverse\n",
    "\n",
    "Comme un \"x or not y\" en Python : il faut inverser la seconde valeure booléenne puis faire une disjonction (un \"or\") entre les deux valeurs booléennes.\n",
    "\n",
    "Par exemple : \"Si j'ai pris un coup de soleil (ou) que je n'ai plus de crème solaire (alors) je dois rentrer à la maison\".\n",
    "\n",
    "- Si j'ai pris un coup de soleil et que je n'ai pas pris de crème : je rentre à la maison.\n",
    "- Si j'ai pris un coup de soleil et que j'ai pris de la crème : je rentre à la maison.\n",
    "- Si je n'ai pas pris de coup de soleil, et que j'ai pris de la crême : je ne rentre pas à la maison.\n",
    "- Si je n'ai pas pris de coup de soleil et que je n'ai pas pris de crême : je rentre à la maison.\n",
    "\n",
    "\n",
    "En Python on pourrait dire :\n",
    "    \n",
    "    coup_de_soleil = p\n",
    "    creme_solaire = q\n",
    "    \n",
    "    if coup_de_soleil or not creme_solaire :\n",
    "        print(\"Rentre à la maison (True)\")\n",
    "    else :\n",
    "        print(\"Reste à la plage (False)\")\n",
    "\n",
    "L'implication inverse s'écrit de la manière suivante :\n",
    "\n",
    "    p ⇐ q = q ∨ ¬p\n",
    "\n",
    "| p q | p ⇐ q |\n",
    "|-----|:-----:|\n",
    "| 1 1 | 1     |\n",
    "| 1 0 | 1     |\n",
    "| 0 1 | 0     |\n",
    "| 0 0 | 1     |\n"
   ]
  },
  {
   "cell_type": "code",
   "execution_count": 23,
   "id": "10fdc413",
   "metadata": {},
   "outputs": [
    {
     "name": "stdout",
     "output_type": "stream",
     "text": [
      "Rentre à la maison (True)\n"
     ]
    }
   ],
   "source": [
    "True or not True # True or False == True\n",
    "\n",
    "coup_de_soleil = True\n",
    "creme_solaire = True\n",
    "    \n",
    "if coup_de_soleil or not creme_solaire :\n",
    "    print(\"Rentre à la maison (True)\")\n",
    "else :\n",
    "    print(\"Reste à la plage (False)\")"
   ]
  },
  {
   "cell_type": "code",
   "execution_count": 24,
   "id": "e33ed7e3",
   "metadata": {},
   "outputs": [
    {
     "name": "stdout",
     "output_type": "stream",
     "text": [
      "Rentre à la maison (True)\n"
     ]
    }
   ],
   "source": [
    "True or not False # True or True == True\n",
    "\n",
    "coup_de_soleil = True\n",
    "creme_solaire = False\n",
    "    \n",
    "if coup_de_soleil or not creme_solaire :\n",
    "    print(\"Rentre à la maison (True)\")\n",
    "else :\n",
    "    print(\"Reste à la plage (False)\")"
   ]
  },
  {
   "cell_type": "code",
   "execution_count": 25,
   "id": "58de8194",
   "metadata": {},
   "outputs": [
    {
     "name": "stdout",
     "output_type": "stream",
     "text": [
      "Reste à la plage (False)\n"
     ]
    }
   ],
   "source": [
    "False or not True # False or False == False\n",
    "\n",
    "coup_de_soleil = False\n",
    "creme_solaire = True\n",
    "    \n",
    "if coup_de_soleil or not creme_solaire :\n",
    "    print(\"Rentre à la maison (True)\")\n",
    "else :\n",
    "    print(\"Reste à la plage (False)\")"
   ]
  },
  {
   "cell_type": "code",
   "execution_count": 26,
   "id": "590747af",
   "metadata": {},
   "outputs": [
    {
     "name": "stdout",
     "output_type": "stream",
     "text": [
      "Rentre à la maison (True)\n"
     ]
    }
   ],
   "source": [
    "False or not False # False or True == True\n",
    "\n",
    "coup_de_soleil = False\n",
    "creme_solaire = False\n",
    "    \n",
    "if coup_de_soleil or not creme_solaire :\n",
    "    print(\"Rentre à la maison (True)\")\n",
    "else :\n",
    "    print(\"Reste à la plage (False)\")"
   ]
  },
  {
   "cell_type": "markdown",
   "id": "5f3b229a",
   "metadata": {},
   "source": [
    "- Si et seulement si\n",
    "\n",
    "Retourne vrai que si les deux valeures booléennes sont \"vraies\" ou \"fausses\".\n",
    "\n",
    "Par exemple \"Je mange de la viande si et seulement si je ne suis pas végétarien\".\n",
    "\n",
    "- Si je mange de la viande et que je ne suis pas végétarien : la proposition est vraie.\n",
    "- Si je mange de la viande et que je suis végétarien : la proposition est fausse.\n",
    "- Si je ne mange pas de viande et que je ne suis pas végétarien : la proposition est fausse.\n",
    "- Si je ne mange pas de viande et que je suis végétarien : la proposition est vraie.\n",
    "\n",
    "En Python on pourrait dire :\n",
    "    \n",
    "    mange_viande = p\n",
    "    vegetarien = q\n",
    "    \n",
    "    if (not mange_viande or vegetarien) and (not vegetarien or mange_viande) :\n",
    "        print(\"La proposition est vraie (True)\")\n",
    "    else :\n",
    "        print(\"La proposition est fausse (False)\")\n",
    "\n",
    "Plus simplement, on peut faire :\n",
    "\n",
    "    if mange_viande == vegetarien :\n",
    "        print(\"La proposition est vraie (True)\")\n",
    "    else :\n",
    "        print(\"La proposition est fausse (False)\")\n",
    "\n",
    "\"Si et seulement si\" s'écrit de la manière suivante :\n",
    "\n",
    "    p ⇒ q = (p ⇒ q) ∧ (q ⇒ p)\n",
    "\n",
    "| p q | p ⇔ q |\n",
    "|-----|:-----:|\n",
    "| 1 1 | 1     |\n",
    "| 1 0 | 0     |\n",
    "| 0 1 | 0     |\n",
    "| 0 0 | 1     |"
   ]
  },
  {
   "cell_type": "code",
   "execution_count": 31,
   "id": "519737ec",
   "metadata": {},
   "outputs": [
    {
     "name": "stdout",
     "output_type": "stream",
     "text": [
      "La proposition est vraie (True)\n"
     ]
    }
   ],
   "source": [
    "(not True or True) and (not True or True)\n",
    "# (False or True) and (False or True)\n",
    "# (False) and (False)\n",
    "\n",
    "mange_viande = True\n",
    "vegetarien = True\n",
    "    \n",
    "if mange_viande == vegetarien :\n",
    "    print(\"La proposition est vraie (True)\")\n",
    "else :\n",
    "    print(\"La proposition est fausse (False)\")"
   ]
  },
  {
   "cell_type": "code",
   "execution_count": 32,
   "id": "2c3b48b0",
   "metadata": {},
   "outputs": [
    {
     "name": "stdout",
     "output_type": "stream",
     "text": [
      "La proposition est fausse (False)\n"
     ]
    }
   ],
   "source": [
    "(not True or False) and (not False or True)\n",
    "# (False or False) and (True or True)\n",
    "# (False) and (True)\n",
    "\n",
    "mange_viande = True\n",
    "vegetarien = False\n",
    "    \n",
    "if mange_viande == vegetarien :\n",
    "    print(\"La proposition est vraie (True)\")\n",
    "else :\n",
    "    print(\"La proposition est fausse (False)\")"
   ]
  },
  {
   "cell_type": "code",
   "execution_count": 33,
   "id": "a4932270",
   "metadata": {},
   "outputs": [
    {
     "name": "stdout",
     "output_type": "stream",
     "text": [
      "La proposition est fausse (False)\n"
     ]
    }
   ],
   "source": [
    "(not False or True) and (not True or False)\n",
    "# (True or True) and (False or False)\n",
    "# (True) and (False)\n",
    "\n",
    "mange_viande = False\n",
    "vegetarien = True\n",
    "    \n",
    "if mange_viande == vegetarien :\n",
    "    print(\"La proposition est vraie (True)\")\n",
    "else :\n",
    "    print(\"La proposition est fausse (False)\")"
   ]
  },
  {
   "cell_type": "code",
   "execution_count": 34,
   "id": "2e24b98e",
   "metadata": {},
   "outputs": [
    {
     "name": "stdout",
     "output_type": "stream",
     "text": [
      "La proposition est vraie (True)\n"
     ]
    }
   ],
   "source": [
    "(not False or False) and (not False or False)\n",
    "# (True or False) and (True or False)\n",
    "# (False) and (False)\n",
    "\n",
    "mange_viande = False\n",
    "vegetarien = False\n",
    "    \n",
    "if mange_viande == vegetarien :\n",
    "    print(\"La proposition est vraie (True)\")\n",
    "else :\n",
    "    print(\"La proposition est fausse (False)\")"
   ]
  },
  {
   "cell_type": "code",
   "execution_count": null,
   "id": "36f8c8ac",
   "metadata": {},
   "outputs": [],
   "source": []
  }
 ],
 "metadata": {
  "kernelspec": {
   "display_name": "Python 3 (ipykernel)",
   "language": "python",
   "name": "python3"
  },
  "language_info": {
   "codemirror_mode": {
    "name": "ipython",
    "version": 3
   },
   "file_extension": ".py",
   "mimetype": "text/x-python",
   "name": "python",
   "nbconvert_exporter": "python",
   "pygments_lexer": "ipython3",
   "version": "3.8.15"
  }
 },
 "nbformat": 4,
 "nbformat_minor": 5
}
